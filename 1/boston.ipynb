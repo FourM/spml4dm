{
 "metadata": {
  "name": "",
  "signature": "sha256:a8d9bdebc207782c61978f8f1a43959460917487325e014283e9ecbf0de032d2"
 },
 "nbformat": 3,
 "nbformat_minor": 0,
 "worksheets": [
  {
   "cells": [
    {
     "cell_type": "markdown",
     "metadata": {},
     "source": [
      "# scikit-learn\u3092\u4f7f\u3063\u305f\u7dda\u5f62\u56de\u5e30\n",
      "\n",
      "\u307e\u305a ipython \u5185\u90e8\u3067 matplotlib \u3092\u4f7f\u3048\u308b\u8a2d\u5b9a\u3092\u884c\u3044\u3001\n",
      "\n",
      "* \u8272\u3005\u591a\u7528\u3059\u308b [numpy](http://www.numpy.org)\n",
      "* plot \u306b\u4f7f\u7528\u3059\u308b [matplotlib](http://matplotlib.org)\n",
      "* \u30c7\u30fc\u30bf\u30bb\u30c3\u30c8\u3092\u6271\u3046\u305f\u3081\u306e [pandas](http://pandas.pydata.org)\n",
      "* [scikit-learn](http://scikit-learn.org/stable/) \u306e\u30c7\u30fc\u30bf\u3092\u6271\u3046\u305f\u3081\u306e [datasets](http://scikit-learn.org/stable/datasets/)\n",
      "\n",
      "\u3092 import \u3057\u307e\u3059\u3002"
     ]
    },
    {
     "cell_type": "code",
     "collapsed": false,
     "input": [
      "%matplotlib inline\n",
      "import numpy as np\n",
      "import matplotlib.pyplot as plt\n",
      "import pandas as pd\n",
      "from sklearn import datasets"
     ],
     "language": "python",
     "metadata": {},
     "outputs": []
    },
    {
     "cell_type": "markdown",
     "metadata": {},
     "source": [
      "## sklearn.datasets \u306e\u4f7f\u3044\u65b9\n",
      "\n",
      "\u6b21\u306b\u30b5\u30f3\u30d7\u30eb\u30c7\u30fc\u30bf\u30bb\u30c3\u30c8\u306e Boston \u3092\u30ed\u30fc\u30c9\u3057\u307e\u3059\u3002\n",
      "\n",
      "\u3053\u308c\u306f http://archive.ics.uci.edu/ml/datasets/Housing \u3067\u516c\u958b\u3055\u308c\u3066\u3044\u308b\u30dc\u30b9\u30c8\u30f3\u90ca\u5916\u306e\u5bb6\u306e\u4fa1\u683c\u306e\u30c7\u30fc\u30bf\u3067\u3059\u3002\n",
      "[UC Irvine Machine Learning Repository](http://archive.ics.uci.edu/ml) (by Bache, K. & Lichman, M. (2013)) \u3067\u306f\u6a5f\u68b0\u5b66\u7fd2\u306e\u30a2\u30eb\u30b4\u30ea\u30ba\u30e0\u306e\u6bd4\u8f03\u7528\u3084\u5b66\u7fd2\u7528\u306b\u4fbf\u5229\u306a\u6a19\u6e96\u30c7\u30fc\u30bf\u3092\u516c\u958b\u3057\u3066\u3044\u307e\u3059\u3002\n",
      "\n",
      "\u305d\u3057\u3066\u3001\u672c\u6587\u66f8\u306e\u3088\u3046\u306a\u30c1\u30e5\u30fc\u30c8\u30ea\u30a2\u30eb\u4f5c\u6210\u6642\u306b\u4fbf\u5229\u306a\u3088\u3046\u306b\u3001scikit-learn \u30e9\u30a4\u30d6\u30e9\u30ea\u3067\u306f\u3053\u306e\u30c7\u30fc\u30bf\u3092\u624b\u8efd\u306b\u5229\u7528\u3067\u304d\u308b\u3088\u3046\u306b\u3001\u5229\u7528\u3057\u3084\u3059\u3044\u5f62\u3067\u4e88\u3081\u7528\u610f\u3057\u3066\u3044\u307e\u3059\u3002\n",
      "\n",
      "DESCR \u5c5e\u6027\u306b\u30c7\u30fc\u30bf\u306e\u8aac\u660e\u6587\u5b57\u5217\u304c\u5165\u3063\u3066\u3044\u307e\u3059\u3002\n",
      "DESCR \u306e\u8aac\u660e\u3092\u8aad\u3080\u3068\u3001target \u306b\u76ee\u7684\u5909\u6570(\u5bb6\u306e\u4fa1\u683c\u306e\u4e2d\u592e\u5024)\u304c\u3001data \u306b\u306f\u4e0a\u8a18\u306e\u7d20\u6027\u30c7\u30fc\u30bf\u306e\u6570\u5024\u304c\u5165\u3063\u3066\u3044\u308b\u3053\u3068\u304c\u308f\u304b\u308a\u307e\u3059\u3002"
     ]
    },
    {
     "cell_type": "code",
     "collapsed": false,
     "input": [
      "boston = datasets.load_boston()\n",
      "print boston.DESCR"
     ],
     "language": "python",
     "metadata": {},
     "outputs": []
    },
    {
     "cell_type": "markdown",
     "metadata": {},
     "source": [
      "\u30c7\u30fc\u30bf\u306b\u542b\u307e\u308c\u308b\u9805\u76ee\u306f keys() \u3067\u78ba\u8a8d\u3067\u304d\u307e\u3059\u3002keys() \u306f\u30c7\u30a3\u30af\u30b7\u30e7\u30ca\u30ea\u306e\u30ad\u30fc\u5168\u4f53\u3092\u30ea\u30b9\u30c8\u3068\u3057\u3066\u53d6\u5f97\u3059\u308b\u30e1\u30bd\u30c3\u30c9\u3067\u3059\u3002"
     ]
    },
    {
     "cell_type": "code",
     "collapsed": false,
     "input": [
      "boston.keys()"
     ],
     "language": "python",
     "metadata": {},
     "outputs": []
    },
    {
     "cell_type": "markdown",
     "metadata": {},
     "source": [
      "\u30c7\u30fc\u30bf\u306e\u6570\u306a\u3069\u3092\u8abf\u3079\u308b\u306b\u306f data.shape() \u3092\u7528\u3044\u307e\u3059\u3002\u8fd4\u308a\u5024\u306f (\u30b5\u30f3\u30d7\u30eb\u6570, \u6b21\u5143\u6570) \u3067\u3059\u3002"
     ]
    },
    {
     "cell_type": "code",
     "collapsed": false,
     "input": [
      "boston.data.shape"
     ],
     "language": "python",
     "metadata": {},
     "outputs": []
    },
    {
     "cell_type": "markdown",
     "metadata": {},
     "source": [
      "13\u500b\u306e\u9805\u76ee\u540d\u306f feature_names \u3067\u78ba\u8a8d\u3067\u304d\u307e\u3059\u3002"
     ]
    },
    {
     "cell_type": "code",
     "collapsed": false,
     "input": [
      "boston.feature_names"
     ],
     "language": "python",
     "metadata": {},
     "outputs": []
    },
    {
     "cell_type": "markdown",
     "metadata": {},
     "source": [
      "## pandas \u306e\u4f7f\u3044\u65b9\n",
      "\n",
      "\u30c7\u30fc\u30bf\u3092 DataFrame \u3068\u547c\u3070\u308c\u308b\u6a19\u6e96\u7684\u306a\u5f62\u5f0f\u306b\u5909\u63db\u3057\u3066\u307f\u307e\u3057\u3087\u3046\u3002\u5168\u90e8\u8868\u793a\u3059\u308b\u306e\u306f\u5927\u5909\u306a\u306e\u3067\u5148\u982d\u3060\u3051\u8868\u793a\u3057\u307e\u3059\u3002"
     ]
    },
    {
     "cell_type": "code",
     "collapsed": false,
     "input": [
      "df = pd.DataFrame(boston.data)\n",
      "df.head()"
     ],
     "language": "python",
     "metadata": {},
     "outputs": []
    },
    {
     "cell_type": "markdown",
     "metadata": {},
     "source": [
      "\u30c7\u30fc\u30bf\u306b\u9805\u76ee\u540d\u3092\u3064\u3051\u3066\u3001target \u3068\u306a\u308b\u4fa1\u683c\u3082 MEDV \u3068\u3044\u3046\u540d\u524d\u3092\u3064\u3051\u3066\u8868\u306b\u8ffd\u52a0\u3057\u307e\u3059\u3002"
     ]
    },
    {
     "cell_type": "code",
     "collapsed": false,
     "input": [
      "df.columns = boston.feature_names\n",
      "df['MEDV'] = boston.target\n",
      "df.head()"
     ],
     "language": "python",
     "metadata": {},
     "outputs": []
    },
    {
     "cell_type": "markdown",
     "metadata": {},
     "source": [
      "\u7c21\u5358\u306a\u96c6\u8a08\u5024\u306f describe() \u3067\u8a08\u7b97\u3057\u3066\u304f\u308c\u307e\u3059\u3002"
     ]
    },
    {
     "cell_type": "code",
     "collapsed": false,
     "input": [
      "df.describe()"
     ],
     "language": "python",
     "metadata": {},
     "outputs": []
    },
    {
     "cell_type": "markdown",
     "metadata": {},
     "source": [
      "## matplotlib \u306e\u4f7f\u3044\u65b9\n",
      "\n",
      "\u7c21\u5358\u306b\u96c6\u8a08\u30b0\u30e9\u30d5\u3092\u4f5c\u3063\u3066\u307f\u307e\u3057\u3087\u3046\u3002\n",
      "\u6a2a\u8ef8\u306b\u4fa1\u683c\u3001\u7e26\u8ef8\u306b\u5ea6\u6570\u3092\u3068\u3063\u305f\u30d2\u30b9\u30c8\u30b0\u30e9\u30e0\u3092\u4f5c\u3063\u3066\u307f\u307e\u3059\u3002"
     ]
    },
    {
     "cell_type": "code",
     "collapsed": false,
     "input": [
      "plt.hist(df.MEDV)\n",
      "plt.title('Housing prices')\n",
      "plt.xlabel('price')\n",
      "plt.ylabel('frequency')\n",
      "plt.show()"
     ],
     "language": "python",
     "metadata": {},
     "outputs": []
    },
    {
     "cell_type": "markdown",
     "metadata": {},
     "source": [
      "\u4fa1\u683c\u3068\u5e73\u5747\u90e8\u5c4b\u6570\u306e\u95a2\u4fc2\u3092\u6563\u5e03\u56f3\u306b\u8868\u793a\u3057\u3066\u307f\u307e\u3059\u3002"
     ]
    },
    {
     "cell_type": "code",
     "collapsed": false,
     "input": [
      "plt.scatter(df.RM, df.MEDV)\n",
      "plt.title('Average Number of Rooms vs Housing prices')\n",
      "plt.xlabel('average number of rooms')\n",
      "plt.ylabel('price')\n",
      "plt.show()"
     ],
     "language": "python",
     "metadata": {},
     "outputs": []
    },
    {
     "cell_type": "markdown",
     "metadata": {},
     "source": [
      "\u5168\u5c5e\u6027\u306e\u9593\u306e\u6563\u5e03\u56f3\u306e\u30de\u30c8\u30ea\u30c3\u30af\u30b9\u3092\u8868\u793a\u3059\u308b\u3053\u3068\u3082\u51fa\u6765\u307e\u3059\u3002(\u8868\u793a\u3055\u308c\u308b\u307e\u3067\u306b\u6642\u9593\u304c\u304b\u304b\u308a\u307e\u3059\u3002\u4e0d\u8981\u306a\u6587\u5b57\u51fa\u529b\u3092\u6291\u5236\u3057\u305f\u3044\u5834\u5408\u306f\u3001scatter_matrix\u306e\u884c\u306e\u884c\u672b\u306b\u30bb\u30df\u30b3\u30ed\u30f3\u3092\u8ffd\u52a0\u3057\u3066\u307f\u3066\u304f\u3060\u3055\u3044)"
     ]
    },
    {
     "cell_type": "code",
     "collapsed": false,
     "input": [
      "from pandas.tools.plotting import scatter_matrix\n",
      "scatter_matrix(df, figsize=(14, 14), diagonal='hist')"
     ],
     "language": "python",
     "metadata": {},
     "outputs": []
    },
    {
     "cell_type": "markdown",
     "metadata": {},
     "source": [
      "\u5404\u5909\u6570\u306e\u9593\u306e\u76f8\u95a2\u4fc2\u6570\u3092\u8a08\u7b97\u3057\u3066\u307f\u307e\u3057\u3087\u3046"
     ]
    },
    {
     "cell_type": "code",
     "collapsed": false,
     "input": [
      "corrs = df.corr()\n",
      "corrs"
     ],
     "language": "python",
     "metadata": {},
     "outputs": []
    },
    {
     "cell_type": "markdown",
     "metadata": {},
     "source": [
      "\u8868\u306e\u307e\u307e\u3067\u306f\u5224\u308a\u306b\u304f\u3044\u306e\u3067\u3001\u8868\u3092\u30ab\u30e9\u30fc\u30de\u30c3\u30d7\u8868\u73fe\u3057\u3066\u307f\u307e\u3057\u3087\u3046\u3002\u5f37\u3044\u76f8\u95a2\u304c\u3042\u308b\u9805\u76ee\u306e\u9593\u306f\u6fc3\u3044\u8272\u3067\u8868\u73fe\u3055\u308c\u307e\u3059\u3002"
     ]
    },
    {
     "cell_type": "code",
     "collapsed": false,
     "input": [
      "plt.pcolor(corrs, cmap='bwr', vmin=-1.0, vmax=1.0)\n",
      "plt.yticks(np.arange(0.5, len(corrs.index), 1), corrs.index)\n",
      "plt.xticks(np.arange(0.5, len(corrs.columns), 1), corrs.columns)\n",
      "plt.colorbar()"
     ],
     "language": "python",
     "metadata": {},
     "outputs": []
    },
    {
     "cell_type": "markdown",
     "metadata": {},
     "source": [
      "## scikit-learn \u3067\u7dda\u5f62\u56de\u5e30\u3059\u308b\n",
      "\n",
      " \u307e\u305a\u4e00\u756a\u6a19\u6e96\u7684\u306a\u7dda\u5f62\u56de\u5e30\u3092\u884c\u3044\u3001\u5b9f\u6e2c\u5024\u3068\u4e88\u6e2c\u306e\u5dee\u3092\u30d2\u30b9\u30c8\u30b0\u30e9\u30e0\u306b\u3057\u3066\u307f\u307e\u3057\u3087\u3046\u3002\n",
      " \u7dda\u5f62\u56de\u5e30\u306f linear_model \u306e\u4e2d\u306e LinearRegression \u3092\u4f7f\u7528\u3057\u307e\u3059\u3002fit \u3067\u30d5\u30a3\u30c3\u30c6\u30a3\u30f3\u30b0\u3092\u884c\u3044\u3001predict \u3067\u4e88\u6e2c\u5024\u3092\u8a08\u7b97\u3057\u307e\u3059\u3002"
     ]
    },
    {
     "cell_type": "code",
     "collapsed": false,
     "input": [
      "from sklearn.linear_model import LinearRegression\n",
      "lr = LinearRegression(normalize=True)\n",
      "lr.fit(boston.data, boston.target)\n",
      "predicted = lr.predict(boston.data)\n",
      "plt.hist(boston.target - predicted, bins=50)\n",
      "plt.show()"
     ],
     "language": "python",
     "metadata": {},
     "outputs": []
    },
    {
     "cell_type": "code",
     "collapsed": false,
     "input": [
      "zip(boston.feature_names, lr.coef_)"
     ],
     "language": "python",
     "metadata": {},
     "outputs": []
    },
    {
     "cell_type": "markdown",
     "metadata": {},
     "source": [
      "### \u6b63\u5247\u5316\u4ed8\u304d\u7dda\u5f62\u56de\u5e30\n",
      "\n",
      "RidgeCV \u3092\u4ee3\u308f\u308a\u306b\u4f7f\u7528\u3059\u308c\u3070\u3001Ridge(L2\u6b63\u5247\u5316)\u3092\u4ea4\u5dee\u691c\u5b9a\u4ed8\u304d\u3067\u5b9f\u884c\u3057\u3066\u304f\u308c\u307e\u3059\u3002\n",
      "\n",
      "Ridge \u306f\u6b21\u306e\u5024\u3092\u6700\u5c0f\u5316\u3059\u308b\u3088\u3046\u306b $w$ \u3092\u8a08\u7b97\u3057\u307e\u3059\u3002\n",
      "$$\\frac{1}{2N} \\|y - Xw\\|^2_2 + \\alpha \\|w\\|_2^2$$\n",
      "\u8abf\u6574\u3059\u3079\u304d\u30d1\u30e9\u30e1\u30fc\u30bf $\\alpha$ \u306f RidgeCV \u306e\u4e2d\u3067\u4ea4\u5dee\u691c\u5b9a\u3092\u7528\u3044\u3066\u6700\u9069\u5316\u3055\u308c\u307e\u3059\u3002"
     ]
    },
    {
     "cell_type": "code",
     "collapsed": false,
     "input": [
      "from sklearn.linear_model import RidgeCV\n",
      "rcv = RidgeCV(alphas=np.array([0.001, 0.003, 0.01, 0.03, 0.1, 0.3, 1.0]), normalize=True)\n",
      "rcv.fit(boston.data, boston.target)\n",
      "rcv.alpha_"
     ],
     "language": "python",
     "metadata": {},
     "outputs": []
    },
    {
     "cell_type": "code",
     "collapsed": false,
     "input": [
      "zip(boston.feature_names, rcv.coef_)"
     ],
     "language": "python",
     "metadata": {},
     "outputs": []
    },
    {
     "cell_type": "markdown",
     "metadata": {},
     "source": [
      "\u540c\u69d8\u306b\u3001Lasso(L1\u6b63\u5247\u5316)\u3082\u4ea4\u5dee\u691c\u5b9a\u4ed8\u304d\u3067\u8a66\u3057\u3066\u307f\u307e\u3059\u3002\n",
      "\n",
      "Lasso \u306f\u6b21\u306e\u5024\u3092\u6700\u5c0f\u5316\u3059\u308b\u3088\u3046\u306b $w$ \u3092\u8a08\u7b97\u3057\u307e\u3059\u3002\n",
      "$$\\frac{1}{2N} \\|y - Xw\\|^2_2 + \\alpha \\|w\\|_1$$\n",
      "\u8abf\u6574\u3059\u3079\u304d\u30d1\u30e9\u30e1\u30fc\u30bf $\\alpha$ \u306f LassoCV \u306e\u4e2d\u3067\u4ea4\u5dee\u691c\u5b9a\u3092\u7528\u3044\u3066\u6700\u9069\u5316\u3055\u308c\u307e\u3059\u3002"
     ]
    },
    {
     "cell_type": "code",
     "collapsed": false,
     "input": [
      "from sklearn.linear_model import LassoCV\n",
      "lcv = LassoCV(alphas=np.array([0.001, 0.003, 0.01, 0.03, 0.1, 0.3, 1.0]), normalize=True)\n",
      "lcv.fit(boston.data, boston.target)\n",
      "lcv.alpha_"
     ],
     "language": "python",
     "metadata": {},
     "outputs": []
    },
    {
     "cell_type": "markdown",
     "metadata": {},
     "source": [
      "\u4fc2\u6570\u3092\u307f\u308b\u3068\u30010 \u306b\u306a\u3063\u3066\u3044\u308b\u3082\u306e\u304c4\u3064('INDUS', 'AGE', 'RAD', 'TAX')\u3042\u308b\u306e\u304c\u5224\u308a\u307e\u3059\u3002Lasso\u3092\u4f7f\u3046\u3053\u3068\u3067\u3001\u8aac\u660e\u5909\u6570\u3092\u7c21\u5358\u306b\u7d5e\u308a\u8fbc\u3080\u3053\u3068\u304c\u3067\u304d\u307e\u3059\u3002\n",
      "\n",
      "\u305d\u308c\u3089\u306e\u5909\u6570\u306b\u3064\u3044\u3066\u6563\u5e03\u56f3\u3092\u4f5c\u308b\u3068\u3001\u78ba\u304b\u306b\u7dba\u9e97\u306a\u76f8\u95a2\u95a2\u4fc2\u306f\u306a\u3055\u305d\u3046\uff08\u5916\u308c\u5024\u306e\u5f71\u97ff\u3092\u53d7\u3051\u3066\u3044\u308b\uff1f\uff09\u306b\u898b\u3048\u307e\u3059\u3002"
     ]
    },
    {
     "cell_type": "code",
     "collapsed": false,
     "input": [
      "zip(boston.feature_names, lcv.coef_)"
     ],
     "language": "python",
     "metadata": {},
     "outputs": []
    },
    {
     "cell_type": "code",
     "collapsed": false,
     "input": [
      "plt.scatter(df.INDUS, df.MEDV)"
     ],
     "language": "python",
     "metadata": {},
     "outputs": []
    },
    {
     "cell_type": "code",
     "collapsed": false,
     "input": [
      "plt.scatter(df.AGE, df.MEDV)"
     ],
     "language": "python",
     "metadata": {},
     "outputs": []
    },
    {
     "cell_type": "code",
     "collapsed": false,
     "input": [
      "plt.scatter(df.RAD, df.MEDV)"
     ],
     "language": "python",
     "metadata": {},
     "outputs": []
    },
    {
     "cell_type": "code",
     "collapsed": false,
     "input": [
      "plt.scatter(df.TAX, df.MEDV)"
     ],
     "language": "python",
     "metadata": {},
     "outputs": []
    },
    {
     "cell_type": "markdown",
     "metadata": {},
     "source": [
      "\u6642\u9593\u304c\u4f59\u3063\u3066\u3044\u308b\u3072\u3068\u306f ElasticNetCV \u3082\u8a66\u3057\u3066\u307f\u3066\u304f\u3060\u3055\u3044\u3002"
     ]
    },
    {
     "cell_type": "code",
     "collapsed": false,
     "input": [
      "from sklearn.linear_model import ElasticNetCV\n",
      "encv = ElasticNetCV(alphas=np.array([0.0001, 0.0003, 0.01, 0.03, 0.1, 0.3, 1.0]), \\\n",
      "                    l1_ratio=np.array([0.5, 0.8, 0.9, 0.95, 0.99, 0.995, 1.0]), normalize=True)\n",
      "encv.fit(boston.data, boston.target)\n",
      "zip(boston.feature_names, encv.coef_)"
     ],
     "language": "python",
     "metadata": {},
     "outputs": []
    },
    {
     "cell_type": "code",
     "collapsed": false,
     "input": [
      "encv.alpha_, encv.l1_ratio_"
     ],
     "language": "python",
     "metadata": {},
     "outputs": []
    },
    {
     "cell_type": "code",
     "collapsed": false,
     "input": [],
     "language": "python",
     "metadata": {},
     "outputs": []
    }
   ],
   "metadata": {}
  }
 ]
}