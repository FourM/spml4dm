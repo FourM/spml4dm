{
 "metadata": {
  "name": "",
  "signature": "sha256:872c8fc8bc0fffeb464520abe0397bb44fc83dec13657e51ad18612127eeff99"
 },
 "nbformat": 3,
 "nbformat_minor": 0,
 "worksheets": [
  {
   "cells": [
    {
     "cell_type": "markdown",
     "metadata": {},
     "source": [
      "# \u591a\u9805\u5f0f\u8fd1\u4f3c\u3068AIC\u306b\u3088\u308b\u30e2\u30c7\u30eb\u9078\u629e\u306e\u4f8b\n",
      "\n",
      "\u3053\u3053\u3067\u306f\u30c7\u30fc\u30bf\u70b9\u3092\u6700\u5c0f\u4e8c\u4e57\u6cd5\u3067\u591a\u9805\u5f0f\u8fd1\u4f3c\u3059\u308b\u306b\u969b\u3057\u3066\u3001\u591a\u9805\u5f0f\u6b21\u6570\u3092AIC(\u8d64\u6c60\u60c5\u5831\u91cf\u57fa\u6e96)\u3092\u7528\u3044\u3066\u6700\u9069\u5316\u3057\u3066\u307f\u307e\u3059\u3002\n",
      "\n",
      "\u307e\u305a\n",
      "\n",
      "* matplotlib \u3092ipython\u5185\u3067\u4f7f\u3048\u308b\u3088\u3046\u306b\u3059\u308b (matplotlib\u306a\u3069\u3067\u63cf\u5199\u3057\u305f\u30b0\u30e9\u30d5\u3092\u30ce\u30fc\u30c8\u306e\u4e2d\u306b\u305d\u306e\u307e\u307e\u8868\u793a\u3057\u305f\u308a\u3067\u304d\u308b)\n",
      "* NumPy \u3068 matplotlib \u3092 import\n",
      "\n",
      "\u3092\u884c\u3044\u307e\u3059\u3002"
     ]
    },
    {
     "cell_type": "code",
     "collapsed": false,
     "input": [
      "%matplotlib inline\n",
      "import numpy as np\n",
      "import matplotlib.pyplot as plt"
     ],
     "language": "python",
     "metadata": {},
     "outputs": []
    },
    {
     "cell_type": "markdown",
     "metadata": {},
     "source": [
      "\u591a\u9805\u5f0f\u8fd1\u4f3c\u3055\u308c\u308b\u5143\u30c7\u30fc\u30bf\u3092\u4f5c\u6210\u3057\u307e\u3059\u3002$x$ \u3068\u3057\u3066 $0 \\sim 3$ \u306e\u533a\u9593\u309230\u7b49\u5206\u3057\u3066\u4e21\u7aef\u542b\u308131\u70b9\u306e\u30d9\u30af\u30c8\u30eb\u5024\u3002\n",
      "$y$ \u3068\u3057\u3066 $y \\sim \\sin x + \\mathcal{N}(\\mu=0, \\sigma=0.1)$ \u3068\u3044\u3046\u30c7\u30fc\u30bf\u3092\u4f5c\u6210\u3057\u307e\u3059\u3002\n",
      "\n",
      "python \u306e sin \u95a2\u6570\u306f\u30b9\u30ab\u30e9\u30fc\u5024(\u5358\u4e00\u306e\u6570\u5024)\u3092\u5f15\u6570\u306b\u3068\u3063\u3066\u30b9\u30ab\u30e9\u30fc\u5024\u3092\u8fd4\u3057\u307e\u3059\u304c\u3001NumPy\u3067\u5b9a\u7fa9\u3055\u308c\u305fsin (np.sin) \u306f\u30d9\u30af\u30c8\u30eb\u5024\u3092\u5f15\u6570\u306b\u3068\u3063\u3066\u3001\u5404\u5024\u306b\u5bfe\u3059\u308b sin \u306e\u5024\u306e\u30d9\u30af\u30c8\u30eb\u3092\u8fd4\u3057\u307e\u3059\u3002"
     ]
    },
    {
     "cell_type": "code",
     "collapsed": false,
     "input": [
      "xs = np.linspace(0.0, 3.0, 31)\n",
      "ys = np.sin(xs) + np.random.normal(0.0, 0.1, len(xs))"
     ],
     "language": "python",
     "metadata": {},
     "outputs": []
    },
    {
     "cell_type": "markdown",
     "metadata": {},
     "source": [
      "\u4e0b\u8a18\u3067\u8a08\u7b97\u3057\u3066\u3044\u308b xp \u306f\u66f2\u7dda\u30d7\u30ed\u30c3\u30c8\u7528\u306e\u5909\u6570\u3067\u3001\u7dda\u5f62\u56de\u5e30\u306e\u8a08\u7b97\u3068\u306f\u95a2\u4fc2\u3042\u308a\u307e\u305b\u3093\u3002\n",
      "matplotlib \u3067\u306f\u8868\u793a\u3059\u308b\u30c7\u30fc\u30bf\u70b9\u306e\u5f62\u72b6\u3092\u6307\u5b9a\u3067\u304d\u307e\u3059\u3002"
     ]
    },
    {
     "cell_type": "code",
     "collapsed": false,
     "input": [
      "xp = np.linspace(-0.1, 3.1, 100)\n",
      "plt.plot(xs,ys,\"o\", xp, np.sin(xp), \"-\")\n",
      "plt.ylim(-0.2, 1.5)"
     ],
     "language": "python",
     "metadata": {},
     "outputs": []
    },
    {
     "cell_type": "markdown",
     "metadata": {},
     "source": [
      " \u6700\u5c0f\u81ea\u4e57\u6cd5\u306f\u3001\u8aa4\u5dee $y_i - f(x_i)$ \u304c\u6b63\u898f\u5206\u5e03 $\\mathcal{N}(0, \\sigma^2)$ \u306b\u5f93\u3046\u3068\u4eee\u5b9a\u3057\u3001\u5c24\u5ea6\n",
      " \n",
      " $$ \\mathcal{L} = \\prod_{i=1}^n \\frac{1}{\\sqrt{2 \\pi \\sigma^2}} \\exp \\{- \\frac{(y_i - f(x_i))^2}{2 \\sigma^2}\\} $$\n",
      "\n",
      "\u3092\u6700\u5927\u306b\u3059\u308b\u3088\u3046\u306b\u95a2\u6570 $f$ \u3092\u6c7a\u5b9a\u3057\u307e\u3059\u3002\u7c21\u5358\u306a\u8a08\u7b97\u306b\u3088\u308a\u5bfe\u6570\u5c24\u5ea6 $\\ln \\mathcal{L}$ \u306f\u3001\n",
      "\n",
      "$$ \\ln \\mathcal{L} = - \\frac{n}{2}\\ln(2\\pi\\sigma^2) - \\frac{ns^2}{2\\sigma^2}, \\;\\; s^2 = \\frac{1}{n} \\sum_i (y_i - f(x_i))^2 $$\n",
      "\n",
      "\u3068\u306a\u308a\u307e\u3059\u3002($s^2$ \u306f\u6a19\u672c\u5206\u6563)\n",
      "\n",
      "\u591a\u9805\u5f0f\u3067\u6700\u5c0f\u81ea\u4e57\u6cd5\u3092\u884c\u3046\u5834\u5408\u306f\u3001NumPy \u306e\u591a\u9805\u5f0f\u306e\u4fc2\u6570\u3092\u4e0e\u3048\u308b\u95a2\u6570 polyfit \u3068\u3001\u591a\u9805\u5f0f\u4fc2\u6570\u304b\u3089\u591a\u9805\u5f0f\u306e\u5024\u3092\u8a08\u7b97\u3059\u308b\u95a2\u6570 poly1d \u3092\u5229\u7528\u3059\u308b\u3053\u3068\u304c\u3067\u304d\u307e\u3059\u3002\n",
      "\n",
      "\u6b21\u6570\u304c\u4f4e\u3059\u304e\u3066\u3082\u3001\u30e2\u30c7\u30eb\u306e\u4e00\u81f4\u5ea6\u306f\u60aa\u304f\u3001"
     ]
    },
    {
     "cell_type": "code",
     "collapsed": false,
     "input": [
      "xp = np.linspace(-0.1, 3.1, 1000)\n",
      "plt.plot(xs,ys, \"o\", xp, np.poly1d(np.polyfit(xs,ys,1))(xp), \"-\", xp, np.poly1d(np.polyfit(xs,ys,2))(xp), \"--\")\n",
      "plt.ylim(-0.2, 1.2)"
     ],
     "language": "python",
     "metadata": {},
     "outputs": []
    },
    {
     "cell_type": "markdown",
     "metadata": {},
     "source": [
      "\u6b21\u6570\u304c\u5927\u304d\u3059\u304e\u308b\u3068\u904e\u5b66\u7fd2\u3092\u8d77\u3053\u3057\u307e\u3059\u3002(\u60aa\u6761\u4ef6\u306b\u306a\u3063\u3066\u3044\u3066\u30bd\u30eb\u30d0\u30fc\u3082\u7cbe\u5ea6\u304c\u51fa\u3066\u304a\u3089\u305a\u3001\u672c\u6765\u306f\u3059\u3079\u3066\u306e\u70b9\u3092\u901a\u308b\u306f\u305a\u3067\u3059\u304c\u3001\u901a\u3063\u3066\u3044\u307e\u305b\u3093\u3002)"
     ]
    },
    {
     "cell_type": "code",
     "collapsed": false,
     "input": [
      "plt.plot(xs,ys, \"o\", xp, np.poly1d(np.polyfit(xs,ys,30))(xp), \"-\")\n",
      "plt.xlim(-0.2, 3.1)\n",
      "plt.ylim(-1, 2)"
     ],
     "language": "python",
     "metadata": {},
     "outputs": []
    },
    {
     "cell_type": "markdown",
     "metadata": {},
     "source": [
      "\u305d\u3053\u3067\u3001AIC\u3092\u7528\u3044\u3066\u30e2\u30c7\u30eb\uff08\u4eca\u56de\u306f\u6b21\u6570\uff09\u3092\u9078\u629e\u3059\u308b\u3053\u3068\u306b\u3057\u307e\u3059\u3002\u30e2\u30c7\u30eb\u306e\u30d1\u30e9\u30e1\u30fc\u30bf\u6570\u3092$k$\u3068\u3059\u308b\u3068\u3001AIC\u306f\n",
      "\n",
      "$$ \\mathrm{AIC} = -2 \\ln \\mathcal{L} + 2 k $$\n",
      "\n",
      "\u3067\u5b9a\u7fa9\u3055\u308c\u307e\u3059\u3002\n",
      "\n",
      "$\\sigma^2$ \u306f\u73fe\u5b9f\u306e\u554f\u984c\u3067\u306f\u672a\u77e5\u306e\u5024\u3067\u3042\u308b\u305f\u3081\u3001\u6e2c\u5b9a\u5024\u304b\u3089\u6c42\u3081\u305f\u6a19\u672c\u5206\u6563 $s^2$ \u3067\u4ee3\u7528\u3059\u308b\u3068\n",
      "\n",
      "$$ \\mathrm{AIC} = n \\ln(2\\pi\\sigma^2) + \\frac{ns^2}{\\sigma^2} + 2 k \\sim n \\ln (2\\pi s^2) + n + 2 k = n \\ln s^2 + 2k + (\\text{\u30e2\u30c7\u30eb\u306b\u4f9d\u5b58\u3057\u306a\u3044\u9805})$$\n",
      "\n",
      "\u3068\u306a\u308a\u307e\u3059\u3002\n",
      "\n",
      "\u7dda\u5f62\u56de\u5e30\u3067\u5f97\u305f$i$\u6b21\u306e\u591a\u9805\u5f0f\u95a2\u6570\u3092\u8fd4\u3059\u95a2\u6570\u3092 fit(i)\u3001\u305d\u306e\u95a2\u6570\u3068\u771f\u306e\u5024 $y$ \u3068\u306e\u6b8b\u5dee\u5e73\u65b9\u548c\u3092\u8fd4\u3059\u95a2\u6570 s2(i) \u3092\u5b9a\u7fa9\u3057\u307e\u3059\u3002\n",
      "\u591a\u9805\u5f0f\u306e\u6b21\u6570\u3092\uff11\u6b21\u304b\u308915\u6b21\u307e\u3067\u5909\u5316\u3055\u305b\u3066\u3001\u6b21\u6570\u3068\u6b8b\u5dee\u5e73\u65b9\u548c\u306e\u5bfe\u6570\u306e\u30b0\u30e9\u30d5\u3092\u4f5c\u6210\u3057\u3066\u307f\u307e\u3059\u3002\n",
      "\n",
      "\u81ea\u4f5c\u3057\u305f s2 \u306e\u3088\u3046\u306a\u30b9\u30ab\u30e9\u30fc\u5024\u3092\u3068\u3063\u3066\u30b9\u30ab\u30e9\u30fc\u5024\u3092\u8fd4\u3059\u95a2\u6570\u3092\u3001\u30d9\u30af\u30c8\u30eb\u5024\u3092\u3068\u3063\u3066\u30d9\u30af\u30c8\u30eb\u5024\u3092\u8fd4\u3059\u95a2\u6570\u306b\u5909\u63db\u3059\u308b\u305f\u3081\u306b\u306f\u3001np.vectorize \u3068\u3044\u3046\u95a2\u6570\u3092\u4f7f\u3044\u307e\u3059\u3002"
     ]
    },
    {
     "cell_type": "code",
     "collapsed": false,
     "input": [
      "def fit(i):\n",
      "    return np.poly1d(np.polyfit(xs,ys,i))\n",
      "def s2(i):\n",
      "    return ((ys - fit(i)(xs))**2).sum()/len(xs)\n",
      "degs = np.array([1,2,3,4,5,6,7,8,9,10,11,12,13,14,15])\n",
      "plt.plot(degs, np.vectorize(s2)(degs))\n",
      "plt.yscale('log')"
     ],
     "language": "python",
     "metadata": {},
     "outputs": []
    },
    {
     "cell_type": "markdown",
     "metadata": {},
     "source": [
      "\u6b21\u306b\u8d64\u6c60\u60c5\u5831\u91cf\u57fa\u6e96\u3092\u8fd4\u3059\u95a2\u6570 aic(i) \u3092\u5b9a\u7fa9\u3057\u3001\u30d7\u30ed\u30c3\u30c8\u3057\u3066\u307f\u307e\u3059\u3002"
     ]
    },
    {
     "cell_type": "code",
     "collapsed": false,
     "input": [
      "def aic(i):\n",
      "    return len(xs)*np.log(s2(i))+2*(i+1)\n",
      "aics = np.vectorize(aic)(degs)\n",
      "plt.plot(degs, aics)"
     ],
     "language": "python",
     "metadata": {},
     "outputs": []
    },
    {
     "cell_type": "markdown",
     "metadata": {},
     "source": [
      "\u6700\u521d\u306e\u30c7\u30fc\u30bf\u306e\u95a2\u6570\u5f62\u3084\u8aa4\u5dee\u306e\u5927\u304d\u3055\u3001\u30c7\u30fc\u30bf\u70b9\u6570\u306a\u3069\u8272\u3005\u5909\u5316\u3055\u305b\u3066\u8a66\u3057\u3066\u307f\u307e\u3057\u3087\u3046\u3002\n",
      "\n",
      "\u6642\u9593\u304c\u4f59\u3063\u305f\u4eba\u306f\u4e0b\u8a18\u3082\u8a66\u3057\u3066\u307f\u3066\u304f\u3060\u3055\u3044\u3002\n",
      "\n",
      "### \u81ea\u7531\u8ab2\u984c\uff11\n",
      "\n",
      "\u307e\u305f\u3001\u4eca\u56de\u306f\u5143\u306e\u95a2\u6570\u304c $\\sin x$ \u3068\u6709\u9650\u9805\u306e\u591a\u9805\u5f0f\u3067\u306f\u66f8\u3051\u306a\u3044\u95a2\u6570\u3067\u3057\u305f\u304c\u3001\n",
      "$$y \\sim x - \\frac{x^3}{6} + \\mathcal{N}(\\mu=0, \\sigma=0.1)$$\n",
      "\u306e\u3088\u3046\u306a\uff13\u6b21\u5f0f\u3067\u3042\u3063\u305f\u306a\u3089\u3070\u3001AIC\u3067\u6b63\u3057\u304f\u6b21\u6570\u3092\uff13\u6b21\u3068\u63a8\u5b9a\u3067\u304d\u308b\u3067\u3057\u3087\u3046\u304b\uff1f"
     ]
    },
    {
     "cell_type": "code",
     "collapsed": false,
     "input": [],
     "language": "python",
     "metadata": {},
     "outputs": []
    },
    {
     "cell_type": "markdown",
     "metadata": {},
     "source": [
      "### \u81ea\u7531\u8ab2\u984c\uff12\n",
      "\n",
      "(\u5148\u306b boston.ipynb \u3092\u7d42\u308f\u3089\u305b\u3066\u304b\u3089\u3002)\n",
      "boston.ipynb \u3067\u5b66\u3093\u3060 Ridge, Lasso \u306a\u3069\u3092\u7528\u3044\u3066\u591a\u9805\u5f0f\u8fd1\u4f3c\u3092\u8a66\u3057\u3066\u307f\u307e\u3057\u3087\u3046\u3002\n",
      "\n",
      "\u591a\u9805\u5f0f\u8fd1\u4f3c\u306e\u4fc2\u6570\u884c\u5217\u306f Vandermonde \u306e\u884c\u5217\u3068\u547c\u3070\u308c\u3001numpy \u30e9\u30a4\u30d6\u30e9\u30ea\u3067\u7c21\u5358\u306b\u751f\u6210\u3067\u304d\u307e\u3059\u3002\u3053\u3053\u3067\u306f2\u6b21\u5f0f\u3067\u8a66\u3057\u3066\u307f\u307e\u3057\u3087\u3046\u3002\n",
      "\u901a\u5e38\u306e\u7dda\u5f62\u56de\u5e30\u306f\u4e0b\u8a18\u306e\u3088\u3046\u306b\u306a\u308a\u307e\u3059\u3002"
     ]
    },
    {
     "cell_type": "code",
     "collapsed": false,
     "input": [
      "X2 = np.polynomial.polynomial.polyvander(xs, 2)\n",
      "from sklearn.linear_model import LinearRegression\n",
      "lr = LinearRegression(normalize=True)\n",
      "lr.fit(X2, ys)\n",
      "predicted = lr.predict(X2)\n",
      "plt.plot(xs, ys, \"o\", xs, predicted, \"-\")"
     ],
     "language": "python",
     "metadata": {},
     "outputs": []
    },
    {
     "cell_type": "markdown",
     "metadata": {},
     "source": [
      "\u6b21\u6570\u3092\u5909\u3048\u308b\u3068\u304b Ridge, Lasso \u306a\u3069\u3082\u81ea\u5206\u3067\u8a66\u3057\u3066\u307f\u3066\u304f\u3060\u3055\u3044\u3002"
     ]
    },
    {
     "cell_type": "code",
     "collapsed": false,
     "input": [],
     "language": "python",
     "metadata": {},
     "outputs": []
    }
   ],
   "metadata": {}
  }
 ]
}