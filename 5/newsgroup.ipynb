{
 "metadata": {
  "name": "",
  "signature": "sha256:2acbdaecf980c51bc72549fb379fc5c70313e9c24fe687c3a77bbfdc03a5cb73"
 },
 "nbformat": 3,
 "nbformat_minor": 0,
 "worksheets": [
  {
   "cells": [
    {
     "cell_type": "markdown",
     "metadata": {},
     "source": [
      "# \u30c8\u30d4\u30c3\u30af\u30e2\u30c7\u30ea\u30f3\u30b0\n",
      "\n",
      "\u81ea\u7136\u8a00\u8a9e\u3067\u66f8\u304b\u308c\u305f\u6587\u7ae0\u306b\u5bfe\u3059\u308b\u30c7\u30fc\u30bf\u30de\u30a4\u30cb\u30f3\u30b0\u3092\u3059\u308b\u5fc5\u8981\u304c\u3042\u308b\u3068\u3057\u307e\u3057\u3087\u3046\u3002\n",
      "\n",
      "\u6587\u7ae0\u4e2d\u306b\u73fe\u308c\u308b\u5358\u8a9e\u306f\u540c\u3058\u7db4\u308a\u3067\u3042\u3063\u3066\u3082\u7570\u306a\u308b\u610f\u5473\u3092\u6301\u3063\u3066\u3044\u308b\u5834\u5408\u304c\u3042\u308a\u307e\u3059\u3002\n",
      "\u540c\u3058\u7db4\u308a\u3067\u3042\u3063\u3066\u3082\u540d\u8a5e\u3068\u52d5\u8a5e\u306a\u3069\u306e\u3088\u3046\u306b\u6587\u6cd5\u7684\u306b\u9055\u3046\u5834\u5408\u306f\u3001\u69cb\u6587\u898f\u5247\u306a\u3069\u306b\u5f93\u3063\u305f\u89e3\u6790\u306a\u3069\u3067\u533a\u5225\u3067\u304d\u308b\u304b\u3082\u3057\u308c\u307e\u305b\u3093\u304c\u3001\n",
      "\u54c1\u8a5e\u304c\u540c\u3058\u3067\u3082\u610f\u5473\u304c\u9055\u3046\u5834\u5408\u306f\u3001\u5468\u308a\u306b\u5b58\u5728\u3059\u308b\u5358\u8a9e\u3092\u52d8\u6848\u3057\u3066\u3069\u306e\u610f\u5473\u3067\u4f7f\u308f\u308c\u3066\u3044\u308b\u306e\u304b\u3092\u5224\u65ad\u3059\u308b\u5fc5\u8981\u304c\u3042\u308a\u307e\u3059\u3002\n",
      "\n",
      "\u9006\u306b\u8a00\u3046\u3068\u3001\u771f\u9762\u76ee\u306b\u69cb\u6587\u89e3\u6790\u306a\u3069\u3092\u884c\u308f\u306a\u304f\u3066\u3082\u3001\u5171\u8d77\u3059\u308b\u5358\u8a9e\u306e\u30bb\u30c3\u30c8\u3092\u6587\u7ae0\u306e\u80cc\u5f8c\u306b\u6f5c\u3093\u3067\u3044\u308b\u300c\u6f5c\u5728\u30c8\u30d4\u30c3\u30af\u300d\u3068\u8003\u3048\u308b\u3053\u3068\u3067\u3001\u5358\u8a9e\u3084\u6587\u7ae0\u306b\u3064\u3044\u3066\u610f\u5473\u3068\u304b\u3092\u6271\u3048\u308b\u3001\u3068\u3044\u3046\u3053\u3068\u306b\u306a\u308a\u307e\u3059\u3002\n",
      "\n",
      "* \u500b\u3005\u306e\u6587\u66f8 = \u8907\u6570\u306e\u30c8\u30d4\u30c3\u30af\u3092\u6df7\u5408\u3057\u305f\u3082\u306e\n",
      "* \u500b\u3005\u306e\u30c8\u30d4\u30c3\u30af = \u8907\u6570\u306e\u5358\u8a9e\u304c\u3001\u500b\u3005\u306e\u30c8\u30d4\u30c3\u30af\u6bce\u306b\u6c7a\u307e\u3063\u305f\u5272\u5408\u3067\u51fa\u73fe\n",
      "\n",
      "\u3068\u3001\u8003\u3048\u308b\u3068\u3044\u3046\u3053\u3068\u306b\u306a\u308a\u307e\u3059\u3002\n",
      "\n",
      "\u6587\u7ae0\u306e\u80cc\u5f8c\u306b\u6f5c\u3093\u3067\u3044\u308b\u6f5c\u5728\u30c8\u30d4\u30c3\u30af\u306f\u3001\u6570\u5b66\u7684\u306b\u306f\u3001\u30c7\u30fc\u30bf\u306b\u76f4\u63a5\u73fe\u308c\u306a\u3044\u6f5c\u5728\u5909\u6570\u3068\u3057\u3066\u6271\u3046\u3053\u3068\u306b\u306a\u308b\u306e\u3067\u3001\u305d\u308c\u3092\u7528\u3044\u3066\u81ea\u5206\u306e\u89e3\u304d\u305f\u3044\u554f\u984c\u3092\u5b8c\u5168\u306b\u30e2\u30c7\u30eb\u5316\u3059\u308b\u3068\u306a\u308b\u3068\u3001\u6570\u5b66\u7684\u306b\u3082\u3001\u307e\u305f\u305d\u308c\u3092\u6570\u5024\u7684\u306b\u89e3\u304f\u306e\u3082\u5927\u5909\u3067\u3059\u3002\uff08\u305d\u308c\u3092\u771f\u9762\u76ee\u306b\u6271\u3063\u3066\u3044\u308b\u4f50\u85e4\u5148\u751f\u306e\u300c\u30c8\u30d4\u30c3\u30af\u30e2\u30c7\u30eb\u306b\u3088\u308b\u7d71\u8a08\u7684\u6f5c\u5728\u610f\u5473\u89e3\u6790\u300d\uff08\u30aa\u30fc\u30e0\u793e\uff09\u3068\u3044\u3046\u6559\u79d1\u66f8\u304c\u3042\u308a\u307e\u3059\u3002\uff09\n",
      "\n",
      "\u3067\u3059\u304c\u3001\u65e2\u5b58\u306e\u6f5c\u5728\u610f\u5473\u89e3\u6790\u306e\u30e9\u30a4\u30d6\u30e9\u30ea\u3092\u4f7f\u3046\u3068\u3001\u51fa\u6765\u308b\u3053\u3068\u306f\u9650\u5b9a\u7684\u3067\u306f\u3042\u308a\u307e\u3059\u304c\u3001\u6587\u7ae0\u3092\u30c8\u30d4\u30c3\u30af\u3067\u8868\u73fe\u3059\u308b\uff08\uff1d\u6b21\u5143\u524a\u6e1b\uff09\u3053\u3068\u3067\u3001\u666e\u901a\u306e\u6a5f\u68b0\u5b66\u7fd2\u306e\u30a2\u30eb\u30b4\u30ea\u30ba\u30e0\uff08\u56de\u5e30\u3084\u8b58\u5225\u3001\u30af\u30e9\u30b9\u30bf\u30ea\u30f3\u30b0\u306a\u3069\uff09\u306b\u4f7f\u7528\u3067\u304d\u308b\u3088\u3046\u306b\u306a\u308a\u307e\u3059 --- \u3068\u3044\u3046\u3053\u3068\u3092\u524d\u56de\u304a\u8a71\u3057\u3057\u307e\u3057\u305f\u3002\u3044\u308f\u3086\u308b\u300c\u6b21\u5143\u306e\u546a\u3044\u300d\u3092\u907f\u3051\u308b\u305f\u3081\u306b\u6b21\u5143\u524a\u6e1b\u3059\u308b\u3053\u3068\u306f\u91cd\u8981\u3067\u3059\u3002\n",
      "\n",
      "\u307e\u305f\u3001\u6587\u66f8 $\\rightarrow$ \u9867\u5ba2\u3001\u5358\u8a9e $\\rightarrow$ \u8cfc\u5165\u30a2\u30a4\u30c6\u30e0\u3001\u3068\u8aad\u307f\u66ff\u3048\u3092\u884c\u3048\u3070\u3001\u6f5c\u5728\u30c8\u30d4\u30c3\u30af $\\rightarrow$ \u6f5c\u5728\u7684\u306a\u8cfc\u8cb7\u50be\u5411\u3001\u3068\u8003\u3048\u308b\u3053\u3068\u3082\u3067\u304d\u307e\u3059\u3002\u3059\u308b\u3068\u3001\u6f5c\u5728\u610f\u5473\u89e3\u6790\u306f\u5546\u54c1\u30ea\u30b3\u30e1\u30f3\u30c7\u30fc\u30b7\u30e7\u30f3\u306a\u3069\u306b\u305d\u306e\u307e\u307e\u5fdc\u7528\u3067\u304d\u308b\u3068\u8003\u3048\u3089\u308c\u307e\u3059\u3002\n",
      "\n",
      "\u305d\u3053\u3067\u4eca\u56de\u306f\u3001gensim \u3068\u547c\u3070\u308c\u308b\u30e9\u30a4\u30d6\u30e9\u30ea\u306e\u4f7f\u3044\u65b9\u3092\u30e1\u30a4\u30f3\u306b\u6271\u3044\u307e\u3059\u3002\n",
      "\n",
      "# 20 newsgroups\n",
      "\n",
      "\u5b9f\u969b\u306b\u6211\u3005\u304c\u4ed5\u4e8b\u3067\u89e3\u6790\u3057\u305f\u3044\u6587\u7ae0\u306f\u304a\u305d\u3089\u304f\u65e5\u672c\u8a9e\u306e\u6587\u66f8\u3067\u3042\u308d\u3046\u304b\u3068\u601d\u308f\u308c\u307e\u3059\u3002\u65e5\u672c\u8a9e\u306e\u6587\u66f8\u3092\u89e3\u6790\u3059\u308b\u969b\u306b\u306f\u3001\u5f62\u614b\u7d20\u89e3\u6790\u3092\u4f7f\u3063\u3066\u6587\u66f8\u306e\u524d\u51e6\u7406\u3092\u3059\u308b\u3053\u3068\u304c\u591a\u3044\u3068\u601d\u3044\u307e\u3059\u306e\u3067\u3001\u6388\u696d\u306e\u5f8c\u534a\u3067 python \u3067\u5f62\u614b\u7d20\u89e3\u6790\u30e9\u30a4\u30d6\u30e9\u30ea\u3092\u547c\u3076\u8a71\u3092\u3057\u3001gensim \u306e\u4f7f\u3044\u65b9\u81ea\u4f53\u306f\u5f62\u614b\u7d20\u89e3\u6790\u304c\u4e0d\u8981\u306a\u82f1\u6587\u3067\u5b66\u3076\u3053\u3068\u306b\u3057\u307e\u3059\u3002\n",
      "\n",
      "\u4e0b\u8a18\u3067 gensim \u306e\u30e9\u30a4\u30d6\u30e9\u30ea\u306e\u30ed\u30fc\u30c9\u306b\u5931\u6557\u3059\u308b\u5834\u5408\u306f\u3001\u4e00\u5ea6 ipython notebook \u3092\u9589\u3058\u3066\n",
      "````\n",
      "$ pip install gensim\n",
      "````\n",
      "\u306e\u3088\u3046\u306b\u30e9\u30a4\u30d6\u30e9\u30ea\u3092\u5c0e\u5165\u3057\u3066\u304b\u3089\u3001ipython notebook \u3092\u518d\u8d77\u52d5\u3057\u3066\u304f\u3060\u3055\u3044\u3002\n",
      "\n",
      "\u307e\u305f\u3001`nltk` \u304c\u30d5\u30a1\u30a4\u30eb\u30c0\u30a6\u30f3\u30ed\u30fc\u30c9\u304c\u5fc5\u8981\u3060\u3068\u30a8\u30e9\u30fc\u3092\u51fa\u3057\u3066\u304d\u305f\u5834\u5408\u306f\u3001\u30b3\u30de\u30f3\u30c9\u30e9\u30a4\u30f3\u30b7\u30a7\u30eb\u304b\u3089\n",
      "\n",
      "````\n",
      "$ ipython\n",
      "\n",
      "In [1]: import nltk\n",
      "\n",
      "In [2]: nltk.download()\n",
      "````\n",
      "\n",
      "\u306e\u3088\u3046\u306b\u5165\u529b\u3059\u308b\u3068\u3001GUI \u306e\u30a6\u30a3\u30f3\u30c9\u30a6\u304c\u958b\u304f\u306e\u3067\u3001`all` \u3092\u30c0\u30a6\u30f3\u30ed\u30fc\u30c9\u3057\u3066\u304f\u3060\u3055\u3044\u3002\uff08\u5b8c\u4e86\u3057\u305f\u3089 GUI \u306e\u30a6\u30a3\u30f3\u30c9\u30a6\u3092\u9589\u3058\u3066\u826f\u3044\u3002\u307e\u305f\u3001\u591a\u5206\u4e0d\u8981\u306a\u306f\u305a\u3002\uff09"
     ]
    },
    {
     "cell_type": "code",
     "collapsed": false,
     "input": [
      "%matplotlib inline\n",
      "import numpy as np\n",
      "import matplotlib.pyplot as plt\n",
      "import pandas as pd\n",
      "from sklearn.datasets import fetch_20newsgroups\n",
      "from gensim import corpora, models, similarities"
     ],
     "language": "python",
     "metadata": {},
     "outputs": [],
     "prompt_number": 3
    },
    {
     "cell_type": "markdown",
     "metadata": {},
     "source": [
      "\u89e3\u6790\u5bfe\u8c61\u3068\u3057\u3066\u3044\u3064\u3082\u306e 20 newsgroup \u30c7\u30fc\u30bf\u30bb\u30c3\u30c8\u3092\u4f7f\u7528\u3057\u307e\u3059\u3002\u4e0b\u8a18\u3092\u5b9f\u884c\u3059\u308b\u3068\u3001\u30c0\u30a6\u30f3\u30ed\u30fc\u30c9\u306b\u6642\u9593\u304c\u304b\u304b\u308b\u65e8\u306e WARNING \u304c\u51fa\u307e\u3059\u3002"
     ]
    },
    {
     "cell_type": "code",
     "collapsed": false,
     "input": [
      "texts0 = fetch_20newsgroups().data"
     ],
     "language": "python",
     "metadata": {},
     "outputs": [],
     "prompt_number": 4
    },
    {
     "cell_type": "markdown",
     "metadata": {},
     "source": [
      "\u542b\u307e\u308c\u308b\u6587\u66f8\u306e\u6570\u3068\u3001\u542b\u307e\u308c\u3066\u3044\u308b\u30c7\u30fc\u30bf\u306e\u5f62\u5f0f\u306f\u4e0b\u8a18\u306e\u3088\u3046\u306b\u306a\u308a\u307e\u3059\u3002"
     ]
    },
    {
     "cell_type": "code",
     "collapsed": false,
     "input": [
      "len(texts0)"
     ],
     "language": "python",
     "metadata": {},
     "outputs": [
      {
       "metadata": {},
       "output_type": "pyout",
       "prompt_number": 5,
       "text": [
        "11314"
       ]
      }
     ],
     "prompt_number": 5
    },
    {
     "cell_type": "code",
     "collapsed": false,
     "input": [
      "print(texts0[0])"
     ],
     "language": "python",
     "metadata": {},
     "outputs": [
      {
       "output_type": "stream",
       "stream": "stdout",
       "text": [
        "From: lerxst@wam.umd.edu (where's my thing)\n",
        "Subject: WHAT car is this!?\n",
        "Nntp-Posting-Host: rac3.wam.umd.edu\n",
        "Organization: University of Maryland, College Park\n",
        "Lines: 15\n",
        "\n",
        " I was wondering if anyone out there could enlighten me on this car I saw\n",
        "the other day. It was a 2-door sports car, looked to be from the late 60s/\n",
        "early 70s. It was called a Bricklin. The doors were really small. In addition,\n",
        "the front bumper was separate from the rest of the body. This is \n",
        "all I know. If anyone can tellme a model name, engine specs, years\n",
        "of production, where this car is made, history, or whatever info you\n",
        "have on this funky looking car, please e-mail.\n",
        "\n",
        "Thanks,\n",
        "- IL\n",
        "   ---- brought to you by your neighborhood Lerxst ----\n",
        "\n",
        "\n",
        "\n",
        "\n",
        "\n"
       ]
      }
     ],
     "prompt_number": 6
    },
    {
     "cell_type": "code",
     "collapsed": false,
     "input": [
      "texts = ['\\n'.join(text.split('\\n')[6:]) for text in texts0]\n",
      "texts[0]"
     ],
     "language": "python",
     "metadata": {},
     "outputs": [
      {
       "metadata": {},
       "output_type": "pyout",
       "prompt_number": 7,
       "text": [
        "u' I was wondering if anyone out there could enlighten me on this car I saw\\nthe other day. It was a 2-door sports car, looked to be from the late 60s/\\nearly 70s. It was called a Bricklin. The doors were really small. In addition,\\nthe front bumper was separate from the rest of the body. This is \\nall I know. If anyone can tellme a model name, engine specs, years\\nof production, where this car is made, history, or whatever info you\\nhave on this funky looking car, please e-mail.\\n\\nThanks,\\n- IL\\n   ---- brought to you by your neighborhood Lerxst ----\\n\\n\\n\\n\\n'"
       ]
      }
     ],
     "prompt_number": 7
    },
    {
     "cell_type": "markdown",
     "metadata": {},
     "source": [
      "newsgroup \u8a18\u4e8b\u3068\u3057\u3066\u306e\u5404\u7a2e\u30d8\u30c3\u30c0\u306a\u3069\u304c\u542b\u307e\u308c\u3066\u304a\u308a\u3001\u5b9f\u52d9\u3067\u89e3\u6790\u3059\u308b\u5834\u5408\u306f\u305d\u308c\u3089\u3092\u9664\u53bb\u3059\u308b\u306a\u3069\u8272\u3005\u5de5\u592b\u3059\u3079\u304d\u7b87\u6240\u304c\u3042\u308b\u304b\u3068\u601d\u3044\u307e\u3059\u304c\u3001\u4eca\u56de\u306f\u975e\u5e38\u306b\u7c21\u5358\u306b\u30d8\u30c3\u30c0\u3068\u601d\u308f\u308c\u308b\u6700\u521d\u306e\uff16\u884c\u3092\u30b9\u30ad\u30c3\u30d7\u3057\u3066\u5358\u8a9e\u306e\u30ea\u30b9\u30c8\u306b\u5206\u89e3\u3057\u3001\u9069\u5f53\u306a\u524d\u51e6\u7406\u3092\u3057\u3088\u3046\u3068\u601d\u3044\u307e\u3059\u3002\n",
      "\n",
      "`split()` \u306f\u6587\u5b57\u5217\u3092whitespace\u6587\u5b57\u3067\u5206\u5272\u3057\u3001`lower()` \u306f\u5c0f\u6587\u5b57\u5316\u3057\u307e\u3059\u3002`re` \u30e9\u30a4\u30d6\u30e9\u30ea\u3092\u4f7f\u3063\u3066\u30a2\u30eb\u30d5\u30a1\u30d9\u30c3\u30c8\u4ee5\u5916\u306e\u6587\u5b57\u3092\u6d88\u53bb\u3057\u307e\u3059\u3002\n",
      "\u77ed\u3059\u304e\u308b\u5358\u8a9e(a \u3068\u304b is \u3068\u304b)\u3084\u3001\u9577\u3059\u304e\u308b\u5358\u8a9e(\u30c9\u30e1\u30a4\u30f3\u540d\u3068\u304b)\u3082\u6368\u3066\u307e\u3059\u3002\n",
      "\u82f1\u5358\u8a9e\u306e\u8a9e\u5e79\u3092\u53d6\u308a\u51fa\u3059\u30a2\u30eb\u30b4\u30ea\u30ba\u30e0\u306f nltk \u30e9\u30a4\u30d6\u30e9\u30ea\u306b\u306f\u8272\u3005\u306a stemming \u30a2\u30eb\u30b4\u30ea\u30ba\u30e0\u304c\u5b9f\u88c5\u3055\u308c\u3066\u3044\u307e\u3059\u304c\u3001\u7c21\u5358\u306b\u6b63\u898f\u8868\u73fe\u3067\u6307\u5b9a\u3059\u308b `RegexpStemmer` \u3092\u4f7f\u7528\u3057\u307e\u3057\u305f\u3002\u307e\u305f\u3001stopword \u30ea\u30b9\u30c8\u3092\u4f5c\u308b\u306e\u3082\u4eca\u56de\u306f\u7701\u7565\u3057\u3001gensim \u306e dictionary \u306e\u6a5f\u80fd\u306b\u4efb\u305b\u308b\u3053\u3068\u306b\u3057\u307e\u3059\u3002\n",
      "\n",
      "`wordss` \u306f\u6587\u5b57\u5217\u306e\u30ea\u30b9\u30c8\u306e\u30ea\u30b9\u30c8\u306b\u306a\u308a\u307e\u3059\u3002"
     ]
    },
    {
     "cell_type": "code",
     "collapsed": false,
     "input": [
      "#wordss = [[word for (word,tag) in pos_tag(word_tokenize(text)) \\\n",
      "#           if ((tag == 'NN') or (tag == 'NNP')) ] for text in texts]\n",
      "from nltk.stem import RegexpStemmer\n",
      "import re\n",
      "regex = re.compile('[^a-zA-Z]')\n",
      "st = RegexpStemmer('ing$|s$|e$|able$', min=4)\n",
      "wordss = [[st.stem(regex.sub('', word.lower())) for word in text.split() if 4 < len(word) < 10] for text in texts]"
     ],
     "language": "python",
     "metadata": {},
     "outputs": [],
     "prompt_number": 9
    },
    {
     "cell_type": "markdown",
     "metadata": {},
     "source": [
      "\u4eca\u56de\u306f\u30c6\u30ad\u30b9\u30c8\u306e\u7dcf\u91cf\u304c\u5c11\u306a\u3044\u305f\u3081\u3001\u6587\u66f8\u5168\u4f53\u3092\u30ea\u30b9\u30c8\u3068\u3057\u3066\u4fdd\u6301\u3057\u3066\u3044\u307e\u3059\u3002gensim \u306f\u6587\u66f8\u306b\u30e9\u30f3\u30c0\u30e0\u30a2\u30af\u30bb\u30b9\u3092\u5fc5\u8981\u3068\u3057\u306a\u3044\u305f\u3081\u3001\u30c9\u30ad\u30e5\u30e1\u30f3\u30c8\u306e[Corpus Streaming \u2013 One Document at a Time](https://radimrehurek.com/gensim/tut1.html#corpus-streaming-one-document-at-a-time) \u306e\u8a18\u8ff0\u3092\u53c2\u8003\u306b\u3059\u308c\u3070\u3001\u5fc5\u8981\u306b\u5fdc\u3058\u3066\u30c6\u30ad\u30b9\u30c8\u30d5\u30a1\u30a4\u30eb\u304b\u3089\u4e00\u884c\u3065\u3064\u6587\u7ae0\u3092\u53d6\u5f97\u3059\u308b\u30a4\u30c6\u30ec\u30fc\u30bf\u3068\u3057\u3066\u5b9f\u88c5\u3059\u308b\u3053\u3068\u3082\u53ef\u80fd\u3067\u3059\u3002"
     ]
    },
    {
     "cell_type": "code",
     "collapsed": false,
     "input": [
      "wordss[0]"
     ],
     "language": "python",
     "metadata": {},
     "outputs": [
      {
       "metadata": {},
       "output_type": "pyout",
       "prompt_number": 12,
       "text": [
        "[u'wonder',\n",
        " u'anyon',\n",
        " u'ther',\n",
        " u'could',\n",
        " u'enlighten',\n",
        " u'other',\n",
        " u'door',\n",
        " u'sport',\n",
        " u'looked',\n",
        " u'early',\n",
        " u'called',\n",
        " u'bricklin',\n",
        " u'door',\n",
        " u'really',\n",
        " u'small',\n",
        " u'addition',\n",
        " u'front',\n",
        " u'bumper',\n",
        " u'separat',\n",
        " u'body',\n",
        " u'know',\n",
        " u'anyon',\n",
        " u'tellm',\n",
        " u'model',\n",
        " u'nam',\n",
        " u'engin',\n",
        " u'spec',\n",
        " u'year',\n",
        " u'wher',\n",
        " u'mad',\n",
        " u'history',\n",
        " u'whatever',\n",
        " u'funky',\n",
        " u'look',\n",
        " u'pleas',\n",
        " u'email',\n",
        " u'thank',\n",
        " u'brought',\n",
        " u'lerxst']"
       ]
      }
     ],
     "prompt_number": 12
    },
    {
     "cell_type": "markdown",
     "metadata": {},
     "source": [
      "\u4e0a\u8a18\u306e\u5358\u8a9e\u306e\u30ea\u30b9\u30c8\u306e\u30ea\u30b9\u30c8\u304b\u3089\u3001\u300c\u5358\u8a9e $\\leftrightarrow$ \u5358\u8a9eID\u300d\u306e\u5909\u63db\u3092\u884c\u3046\u8f9e\u66f8\u3092\u4f5c\u6210\u3057\u307e\u3059\u3002\u4eca\u56de\u306f `wordss` \u3092\u4e0e\u3048\u3066\u4e00\u6c17\u306b\u4f5c\u6210\u3057\u3066\u3044\u307e\u3059\u304c\u3001\u3075\u5927\u304d\u306a\u30d5\u30a1\u30a4\u30eb\u304b\u3089\u4e00\u6587\u7ae0\u3065\u3064\u8f9e\u66f8\u306b\u8ffd\u52a0\u3057\u3066\u3044\u304f `add_documents` \u30e1\u30bd\u30c3\u30c9\u306a\u3069\u3082\u3042\u308a\u307e\u3059\u3002\n",
      "\n",
      "\u3067\u304d\u305f\u8f9e\u66f8\u304b\u3089\u3001\u51fa\u73fe\u983b\u5ea6\u304c\u5c11\u306a\u3059\u304e\u305f\u308a\u591a\u3059\u304e\u305f\u308a\u3059\u308b\u5358\u8a9e\u3092\u524a\u9664\u3057\u307e\u3059\u3002dictionary \u306f\u30d5\u30a1\u30a4\u30eb\u306b save/load \u3067\u304d\u307e\u3059\u3002"
     ]
    },
    {
     "cell_type": "code",
     "collapsed": false,
     "input": [
      "dictionary = corpora.Dictionary(wordss)\n",
      "dictionary.filter_extremes(no_below=50, no_above=0.1)\n",
      "dictionary.compactify()\n",
      "str(dictionary)"
     ],
     "language": "python",
     "metadata": {},
     "outputs": [
      {
       "metadata": {},
       "output_type": "pyout",
       "prompt_number": 13,
       "text": [
        "\"Dictionary(2459 unique tokens: [u'limited', u'selann', u'dynamic', u'catch', u'sleep']...)\""
       ]
      }
     ],
     "prompt_number": 13
    },
    {
     "cell_type": "markdown",
     "metadata": {},
     "source": [
      "Bag-of-Words \u8868\u73fe\u306f dictionary \u3092\u4f7f\u3063\u3066\u3053\u3093\u306a\u611f\u3058\u3067\u5f97\u3089\u308c\u307e\u3059\u3002\u3053\u306e\u72b6\u614b\u306e\u30c7\u30fc\u30bf\u3092 `corpora.MmCorpus.serialize` \u3092\u4f7f\u3048\u3070\u4e2d\u9593\u30c7\u30fc\u30bf\u3068\u3057\u3066\u30d5\u30a1\u30a4\u30eb\u306b\u4fdd\u5b58\u51fa\u6765\u305f\u308a\u3057\u307e\u3059\u304c\u3001\u51fa\u529b\u30d5\u30a1\u30a4\u30eb\u306f\u30b5\u30a4\u30ba\u304c\u5272\u3068\u5927\u304d\u3081\u3067\u3059\u3002"
     ]
    },
    {
     "cell_type": "code",
     "collapsed": false,
     "input": [
      "bows = [dictionary.doc2bow(words) for words in wordss]\n",
      "for i,c in bows[0]:\n",
      "    print dictionary.get(i), c"
     ],
     "language": "python",
     "metadata": {},
     "outputs": [
      {
       "output_type": "stream",
       "stream": "stdout",
       "text": [
        "spec 1\n",
        "door 2\n",
        "history 1\n",
        "engin 1\n",
        "wonder 1\n",
        "sport 1\n",
        "model 1\n",
        "early 1\n",
        "separat 1\n",
        "small 1\n",
        "called 1\n",
        "nam 1\n",
        "body 1\n",
        "front 1\n",
        "mad 1\n",
        "brought 1\n",
        "looked 1\n",
        "addition 1\n",
        "know 1\n",
        "whatever 1\n"
       ]
      }
     ],
     "prompt_number": 14
    },
    {
     "cell_type": "markdown",
     "metadata": {},
     "source": [
      "Bag-of-words \u306e\u5358\u8a9e\u51fa\u73fe\u56de\u6570\u306f\u3001\u901a\u5e38\u306f Tf-Idf (Term Frequency(\u5358\u8a9e\u306e\u51fa\u73fe\u983b\u5ea6) $\\times$ Inverse Document Frequency (\u6587\u66f8\u983b\u5ea6\u306e\u9006\u6570)) \u306b\u5909\u63db\u3057\u3066\u7528\u3044\u308b\u3053\u3068\u304c\u591a\u3044\u304b\u3068\u601d\u3044\u307e\u3059\u3002\n",
      "\n",
      "Bag-of-words \u304b\u3089 `tfidf_model` \u3092\u4f5c\u6210\u3057\u3001bows \u3092\u5909\u63db\u3057\u307e\u3059\u3002"
     ]
    },
    {
     "cell_type": "code",
     "collapsed": false,
     "input": [
      "tfidf_model = models.TfidfModel(bows, normalize=True)\n",
      "print str(tfidf_model)\n",
      "tfidfs = tfidf_model[bows]\n",
      "for i,tfidf in tfidf_model[bows[0]]:\n",
      "    print dictionary.get(i), tfidf"
     ],
     "language": "python",
     "metadata": {},
     "outputs": [
      {
       "output_type": "stream",
       "stream": "stdout",
       "text": [
        "TfidfModel(num_docs=11314, num_nnz=436786)\n",
        "spec 0.247740938814\n",
        "door 0.48991700211\n",
        "history 0.182941539255\n",
        "engin 0.220363090001\n",
        "wonder 0.16700783001\n",
        "sport 0.229373572547\n",
        "model 0.179354757006\n",
        "early 0.185873153278\n",
        "separat 0.224216878156\n",
        "small 0.16005216173\n",
        "called 0.144533517182\n",
        "nam 0.202307890205\n",
        "body 0.247740938814\n",
        "front 0.191757677553\n",
        "mad 0.233229293596\n",
        "brought 0.209988383367\n",
        "looked 0.200696329894\n",
        "addition 0.212154386206\n",
        "know 0.127904071636\n",
        "whatever 0.182656978796\n"
       ]
      }
     ],
     "prompt_number": 15
    },
    {
     "cell_type": "markdown",
     "metadata": {},
     "source": [
      "LDA \u306e\u30c8\u30d4\u30c3\u30af\u30e2\u30c7\u30ea\u30f3\u30b0\u306b\u5148\u7acb\u3063\u3066 LSI (Latent Semantic Indexing) \u306b\u3088\u308b\u89e3\u6790\u3092\u884c\u3063\u3066\u307f\u307e\u3057\u3087\u3046\u3002\u3053\u308c\u306f\u5546\u54c1\u63a8\u85a6\u30a2\u30eb\u30b4\u30ea\u30ba\u30e0\u3067\u306f\u884c\u5217\u5206\u89e3\u3068\u3044\u308f\u308c\u308b\u3082\u306e\u306b\u76f8\u5f53\u3057\u307e\u3059\u3002\n",
      "\n",
      "LSI \u3092\u884c\u3046\u3053\u3068\u3067\u3001\u6587\u7ae0\u304c 500 \u6b21\u5143\u306e\u30d9\u30af\u30c8\u30eb\u3067\u8868\u73fe\u3055\u308c\u3066\u3044\u308b\u3053\u3068\u304c\u5224\u308a\u307e\u3059\u3002\n",
      "\n",
      "\u56fa\u6709\u5024\u306e\u5024\u3092\u30d7\u30ed\u30c3\u30c8\u3057\u3066\u307f\u307e\u3059\u3002\u30c8\u30d4\u30c3\u30af\u306e\u6570\u3068\u3057\u3066\u306f 100 \u3082\u53d6\u308c\u3070\u5341\u5206\u305d\u3046\u306b\u898b\u3048\u307e\u3059\u3002"
     ]
    },
    {
     "cell_type": "code",
     "collapsed": false,
     "input": [
      "lsi_model = models.LsiModel(tfidfs, id2word=dictionary, num_topics=500)\n",
      "print str(lsi_model)\n",
      "l = len(lsi_model.projection.s)\n",
      "plt.plot(np.linspace(0,100,100), lsi_model.projection.s[:100])\n",
      "plt.show()\n",
      "# print lsi_model[tfidf_model[bows[0]]]"
     ],
     "language": "python",
     "metadata": {},
     "outputs": [
      {
       "output_type": "stream",
       "stream": "stdout",
       "text": [
        "LsiModel(num_terms=2459, num_topics=500, decay=1.0, chunksize=20000)\n"
       ]
      },
      {
       "metadata": {},
       "output_type": "display_data",
       "png": "[encoded data removed]",
       "text": [
        "<matplotlib.figure.Figure at 0x11af2d250>"
       ]
      }
     ],
     "prompt_number": 16
    },
    {
     "cell_type": "markdown",
     "metadata": {},
     "source": [
      "\u6b21\u306b\u3001\u30c8\u30d4\u30c3\u30af\u30e2\u30c7\u30ea\u30f3\u30b0\u306e\u30e2\u30c7\u30eb\u3068\u3057\u3066\u3068\u3057\u3066 LDA (Latent Dirichlet Allocation) \u3092\u4f7f\u3063\u3066\u30e2\u30c7\u30eb\u5316\u3057\u3066\u307f\u307e\u3059\u3002\u4eca\u56de\u306f\u30c8\u30d4\u30c3\u30af\u306e\u6570\u3092\u4e0a\u306e\u8b70\u8ad6\u306b\u3088\u308a100\u306b\u8a2d\u5b9a\u3057\u3066\u307f\u307e\u3057\u305f\u3002\n",
      "\u6587\u7ae0\u304c\u3001100\u6b21\u5143\u306e\u30d9\u30af\u30c8\u30eb\u3068\u3057\u3066\u8868\u73fe\u3055\u308c\u3066\u3044\u308b\u3053\u3068\u304c\u5224\u308a\u307e\u3059\u3002\n",
      "\n",
      "\u4f7f\u7528\u53ef\u80fd\u306a\u30a2\u30eb\u30b4\u30ea\u30ba\u30e0\u306f\u3001[gensim \u306e\u30c9\u30ad\u30e5\u30e1\u30f3\u30c8\u8a18\u8ff0](https://radimrehurek.com/gensim/tut2.html#available-transformations)\u3092\u8aad\u3080\u3068\u3001LSI, random projection \u306a\u3069\u5e7e\u3064\u304b\u9078\u629e\u80a2\u304c\u3042\u308b\u3053\u3068\u304c\u5224\u308a\u307e\u3059\u3002\n",
      "\n",
      "\u8a08\u7b97\u3057\u305f `lda_model` \u3082 save/load \u30e1\u30bd\u30c3\u30c9\u3067\u30d5\u30a1\u30a4\u30eb\u306b\u8a18\u9332\u3057\u305f\u308a\u8aad\u307f\u3060\u3057\u305f\u308a\u3067\u304d\u307e\u3059\u3002\n",
      "\n",
      "`print_topics` \u30e1\u30bd\u30c3\u30c9\u306e\u51fa\u529b\u3092\u773a\u3081\u308b\u3068\u3001\u4f55\u3092\u30c8\u30d4\u30c3\u30af\u3068\u8a8d\u8b58\u3057\u3066\u308b\u306e\u304b\u304c\u308f\u304b\u308a\u307e\u3059\u3002\n",
      "\n",
      "\u6ce8\u610f\uff1aLDA \u306f\u30e9\u30f3\u30c0\u30e0\u306a\u521d\u671f\u5024\u304b\u3089\u53ce\u675f\u3059\u308b\u307e\u3067\u8a08\u7b97\u3055\u305b\u308b\u306e\u3067\u3001\u7d50\u679c\u306f\u4e71\u6570\u3067\u5909\u308f\u308a\u307e\u3059\u3002\u540c\u3058\u7d50\u679c\u306b\u306a\u308a\u307e\u305b\u3093\u3002"
     ]
    },
    {
     "cell_type": "code",
     "collapsed": false,
     "input": [
      "lda_model = models.LdaModel(tfidfs, id2word=dictionary, num_topics=20, iterations=500)\n",
      "print str(lda_model)\n",
      "lda_model.print_topics(num_topics=20)"
     ],
     "language": "python",
     "metadata": {},
     "outputs": [
      {
       "output_type": "stream",
       "stream": "stderr",
       "text": [
        "WARNING:gensim.models.ldamodel:too few updates, training might not converge; consider increasing the number of passes or iterations to improve accuracy\n"
       ]
      },
      {
       "output_type": "stream",
       "stream": "stdout",
       "text": [
        "LdaModel(num_terms=2459, num_topics=20, decay=0.5, chunksize=2000, alpha=[ 0.05  0.05  0.05  0.05  0.05  0.05  0.05  0.05  0.05  0.05  0.05  0.05\n",
        "  0.05  0.05  0.05  0.05  0.05  0.05  0.05  0.05])\n"
       ]
      },
      {
       "metadata": {},
       "output_type": "pyout",
       "prompt_number": 17,
       "text": [
        "[u'0.009*dollar + 0.007*speech + 0.006*cover + 0.006*mail + 0.006*privacy + 0.006*texa + 0.006*encrypted + 0.006*addres + 0.006*wiretap + 0.005*miller',\n",
        " u'0.006*israel + 0.006*israeli + 0.004*stat + 0.004*weapon + 0.003*religion + 0.003*human + 0.003*person + 0.003*member + 0.003*world + 0.003*against',\n",
        " u'0.008*truth + 0.008*church + 0.008*koresh + 0.008*satan + 0.008*bibl + 0.007*father + 0.007*catholic + 0.006*evidenc + 0.006*spirit + 0.006*argument',\n",
        " u'0.008*rid + 0.008*engin + 0.007*honda + 0.007*cycl + 0.006*buyer + 0.006*rider + 0.005*bik + 0.005*pric + 0.005*electric + 0.005*toyota',\n",
        " u'0.006*clipper + 0.005*escrow + 0.004*safety + 0.004*security + 0.004*listen + 0.004*secur + 0.004*koresh + 0.004*light + 0.003*black + 0.003*public',\n",
        " u'0.012*orbit + 0.010*mous + 0.009*earth + 0.008*moon + 0.007*metal + 0.007*lunar + 0.006*somebody + 0.006*sweden + 0.006*bobby + 0.005*mirror',\n",
        " u'0.025*simm + 0.022*advanc + 0.017*thanx + 0.015*battery + 0.013*keyboard + 0.013*quadra + 0.012*super + 0.012*cool + 0.011*anybody + 0.010*pointer',\n",
        " u'0.012*motif + 0.009*insuranc + 0.008*motorola + 0.008*audio + 0.008*widget + 0.007*advanc + 0.007*lewi + 0.006*centr + 0.006*ancient + 0.006*health',\n",
        " u'0.006*armenian + 0.005*version + 0.005*program + 0.004*andrew + 0.004*turkish + 0.004*pres + 0.004*clinton + 0.004*group + 0.003*editor + 0.003*window',\n",
        " u'0.010*scienc + 0.010*morality + 0.010*packag + 0.009*value + 0.008*objectiv + 0.007*widget + 0.007*str + 0.006*object + 0.006*moral + 0.006*theory',\n",
        " u'0.015*jesu + 0.009*eternal + 0.007*faith + 0.007*christ + 0.007*bibl + 0.006*heaven + 0.006*centri + 0.005*devil + 0.005*atheist + 0.005*shall',\n",
        " u'0.020*driver + 0.018*card + 0.015*video + 0.014*driv + 0.012*upgrad + 0.011*disk + 0.010*brand + 0.010*bit + 0.010*window + 0.009*modem',\n",
        " u'0.014*gateway + 0.013*driv + 0.011*speed + 0.011*monitor + 0.010*appl + 0.009*drive + 0.009*computer + 0.009*mhz + 0.008*ethernet + 0.008*driver',\n",
        " u'0.016*georgia + 0.014*format + 0.010*driv + 0.010*serial + 0.010*ground + 0.009*v + 0.009*jumper + 0.009*boot + 0.009*amateur + 0.008*utility',\n",
        " u'0.013*window + 0.007*file + 0.006*color + 0.006*printer + 0.005*screen + 0.005*print + 0.005*server + 0.005*imag + 0.004*program + 0.004*display',\n",
        " u'0.010*radar + 0.007*circuit + 0.007*taxe + 0.006*minnesota + 0.006*brown + 0.006*bruc + 0.006*chines + 0.006*canadian + 0.005*receiver + 0.005*joseph',\n",
        " u'0.013*player + 0.012*game + 0.011*team + 0.009*season + 0.009*hockey + 0.007*gam + 0.007*play + 0.007*baseball + 0.007*playoff + 0.006*scor',\n",
        " u'0.008*steven + 0.008*stat + 0.008*amendment + 0.007*doubl + 0.006*prayer + 0.006*crime + 0.006*marriag + 0.005*federal + 0.005*certain + 0.005*warrant',\n",
        " u'0.007*algorithm + 0.006*surfac + 0.005*dream + 0.005*crack + 0.005*station + 0.004*spac + 0.004*drug + 0.004*random + 0.004*simon + 0.004*hidden',\n",
        " u'0.005*ticket + 0.005*friend + 0.004*clayton + 0.004*truck + 0.004*dealer + 0.004*wer + 0.004*colour + 0.004*compared + 0.004*larry + 0.004*suck']"
       ]
      }
     ],
     "prompt_number": 17
    },
    {
     "cell_type": "markdown",
     "metadata": {},
     "source": [
      "\u6587\u7ae0#1 \u306e\u30c8\u30d4\u30c3\u30af\u3092\u898b\u3066\u307f\u307e\u3057\u3087\u3046\u3002"
     ]
    },
    {
     "cell_type": "code",
     "collapsed": false,
     "input": [
      "print lda_model[tfidf_model[bows[1]]]\n",
      "for topic_id, weight in lda_model[tfidf_model[bows[1]]]:\n",
      "    print 'weight=',weight,', topic=',lda_model.print_topic(topic_id, topn=20)\n",
      "print texts[1]"
     ],
     "language": "python",
     "metadata": {},
     "outputs": [
      {
       "output_type": "stream",
       "stream": "stdout",
       "text": [
        " [(8, 0.22050421825164901), (11, 0.60157229098313036)]\n",
        "weight= 0.220760628915 , topic= 0.006*armenian + 0.005*version + 0.005*program + 0.004*andrew + 0.004*turkish + 0.004*pres + 0.004*clinton + 0.004*group + 0.003*editor + 0.003*window + 0.003*project + 0.003*turk + 0.003*armenia + 0.003*offic + 0.003*solar + 0.003*avail + 0.003*sourc + 0.003*russia + 0.003*japan + 0.003*custom\n",
        "weight= 0.601315880326 , topic= 0.020*driver + 0.018*card + 0.015*video + 0.014*driv + 0.012*upgrad + 0.011*disk + 0.010*brand + 0.010*bit + 0.010*window + 0.009*modem + 0.009*sal + 0.009*intel + 0.008*offer + 0.008*diamond + 0.008*pric + 0.008*m + 0.008*softwar + 0.007*board + 0.007*floppy + 0.007*mb\n",
        "Lines: 11\n",
        "NNTP-Posting-Host: carson.u.washington.edu\n",
        "\n",
        "A fair number of brave souls who upgraded their SI clock oscillator have\n",
        "shared their experiences for this poll. Please send a brief message detailing\n",
        "your experiences with the procedure. Top speed attained, CPU rated speed,\n",
        "add on cards and adapters, heat sinks, hour of usage per day, floppy disk\n",
        "functionality with 800 and 1.4 m floppies are especially requested.\n",
        "\n",
        "I will be summarizing in the next two days, so please add to the network\n",
        "knowledge base if you have done the clock upgrade and haven't answered this\n",
        "poll. Thanks.\n",
        "\n",
        "Guy Kuo <guykuo@u.washington.edu>\n",
        "\n"
       ]
      }
     ],
     "prompt_number": 29
    },
    {
     "cell_type": "markdown",
     "metadata": {},
     "source": [
      "gensim \u306f\u4e0a\u8a18\u306e\u30d9\u30af\u30c8\u30eb\u8868\u73fe\u3092\u7528\u3044\u3066\u3001\u6587\u66f8\u306e\u985e\u4f3c\u5ea6\u3092\u8a08\u7b97\u3059\u308b\u6a5f\u80fd\u3082\u3042\u308a\u307e\u3059\u3002\u6700\u3082\u4f3c\u3066\u3044\u308b\u6587\u66f8\u30925\u500b\u8fd4\u3059\u3088\u3046\u306b\u6307\u5b9a\u3057\u307e\u3059\u3002"
     ]
    },
    {
     "cell_type": "code",
     "collapsed": false,
     "input": [
      "index = similarities.MatrixSimilarity(lda_model[tfidfs], num_features=100)\n",
      "index.num_best = 5"
     ],
     "language": "python",
     "metadata": {},
     "outputs": [],
     "prompt_number": 19
    },
    {
     "cell_type": "markdown",
     "metadata": {},
     "source": [
      "\u6700\u521d\u306e\u6587\u7ae0\u306b\u4f3c\u3066\u3044\u308b\u6587\u7ae0\u3092\u6c42\u3081\u3066\u307f\u307e\u3059"
     ]
    },
    {
     "cell_type": "code",
     "collapsed": false,
     "input": [
      "for i,sim in index[lda_model[tfidf_model[bows[1]]]]:\n",
      "    print i,'-->',sim\n",
      "    print texts[i]"
     ],
     "language": "python",
     "metadata": {},
     "outputs": [
      {
       "output_type": "stream",
       "stream": "stdout",
       "text": [
        "1 --> 1.0\n",
        "Lines: 11\n",
        "NNTP-Posting-Host: carson.u.washington.edu\n",
        "\n",
        "A fair number of brave souls who upgraded their SI clock oscillator have\n",
        "shared their experiences for this poll. Please send a brief message detailing\n",
        "your experiences with the procedure. Top speed attained, CPU rated speed,\n",
        "add on cards and adapters, heat sinks, hour of usage per day, floppy disk\n",
        "functionality with 800 and 1.4 m floppies are especially requested.\n",
        "\n",
        "I will be summarizing in the next two days, so please add to the network\n",
        "knowledge base if you have done the clock upgrade and haven't answered this\n",
        "poll. Thanks.\n",
        "\n",
        "Guy Kuo <guykuo@u.washington.edu>\n",
        "\n",
        "9032 --> 0.996439516544\n",
        "\n",
        "|> PC Magazine just did another review of high-end graphics accelerators.  For all\n",
        "|> around performance (Windows, DOS, CAD) go for ATI Graphics Ultra Pro.  They've\n",
        "|> done two reviews in the last three months and that card ranks as an editors\n",
        "|> choice in both reviews.  For all around performance it seems it just can't be\n",
        "|> beat.  You should pick up this issue of PC-Mag (April 13) and check it out for\n",
        "|> yourself.  \n",
        "\n",
        "\n",
        "Windows: The recent reviews have all shown that the P9000 cards are\n",
        "\t significantly faster doing Windows than the ATI card.\n",
        "\n",
        "VGA:\t The recent reviews have all shown that the P9000 cards they looked\n",
        "\t at are significantly slower doing VGA than the ATI card.  About\n",
        "\t 1/2 the speed, as I recall.\n",
        "\n",
        "\t The big question for me is the Orchid V9000 card.  Each of the \n",
        "\t P9000 cards tested so far has had the W5186 to do VGA.  Orchid\n",
        "\t is the only one I know about (I don't know about AMI) that uses\n",
        "\t the W5286 for VGA.  That is reportedly faster.\n",
        "\t \n",
        "\t I would like to know whether the Orchid card can do VGA as fast as\n",
        "\t the ATI card.  If so, it would appear to be a formidable competitor.\n",
        "\t (Advertised prices are about the same for the two cards.)\n",
        "\n",
        "Someone in this group posted a little while back that they were getting an\n",
        "Orchid V9000 card -- has that card arrived?  What do the benchmarks look\n",
        "like?\n",
        "\n",
        "Also, is the AMI P9000-based card real?  What does it use for VGA?  Speed?\n",
        "\n",
        "--Bob\n",
        "\n",
        "6832 --> 0.994407832623\n",
        "\n",
        "In article <1rgr7v$6ga@lll-winken.llnl.gov> David A. Fuess writes:\n",
        "\n",
        ">It is correct that VC++ is NOT considered an upgrade for C7. C7 is\n",
        ">basically a DOS product, VC++ is a Windows product. As Windows is not\n",
        ">an upgrade for DOS, it is a separate operating system product line, its\n",
        ">utilities cannot be upgrades for DOS utilities. However, I have also\n",
        ">been told that it is NOT an upgrade for QCWIN, which it should be!\n",
        "\n",
        "You *can* upgrade MSC 7.0 and QCWIN to the Visual C++ products as follows:\n",
        "\n",
        "  STANDARD EDITION:\n",
        "    List Price                    $199\n",
        "    Upgrade from QCWin            $ 79\n",
        "    Competitive Upgrade           $ 99\n",
        "\n",
        "  PROFESSIONAL EDITION:\n",
        "    List Price                    $499\n",
        "    Upgrade from MSC 7.0          $139\n",
        "    Competitive Upgrade*          $199 \n",
        "\n",
        "  * Includes upgrades from other MS language products like QCWin\n",
        "\n",
        "-------------------------------------------------------------------------------\n",
        "Michael Goo                   |\n",
        "Hewlett-Packard               | \"I never try to cover my ass...\n",
        "Information Networks Division |   but I certainly support your right to do so!\"\n",
        "19420 Homestead Road  MS 43LT |\n",
        "Cupertino, CA 95014-9974      |\n",
        "goo@hpinddh.cup.hp.com        |\n",
        "-------------------------------------------------------------------------------\n",
        "\n",
        "5409 --> 0.989665091038\n",
        "Lines: 10\n",
        "\n",
        "In article <116005@bu.edu> rem@buitc.bu.edu (Robert Mee) writes:\n",
        ">I am looking for a WIN31 driver (or set) for my Diamond \n",
        ">Speedstar 1MB video card. \n",
        "\n",
        "The Diamond BBS has these.  Their 2400 baud BBS phone number is (408)\n",
        "730-1100.  Their 9600 baud BBS phone number is (408) 524-9335.  Sorry,\n",
        "I don't know of any FTP site that has these (though I'd be surprised if\n",
        "there wasn't one).\n",
        "\n",
        "\n",
        "\n",
        "10185 --> 0.973587453365\n",
        "\tI am buying a Quantum LPS240AT 245 MB hardisk and is deciding a\n",
        "\tHDD/FDD controller. Is 32-bit VL-bus HDD/FDD controller faster \n",
        "\tthan 16 bit IDE HDD/FDD controller card? I hear that\n",
        "\tthe VL bus controller is SLOWER than a IDE controller?\n",
        "\tWhich one is true?\n",
        "\n",
        "\tPlease shed some light by email or post.\n",
        "\tThanks a lot.\n",
        "\n",
        "Best regards,\n",
        " \n",
        " ____________________________________________________________________________\n",
        "| Beng-Hang Tay                       | Telnet:    520 8732                  |\n",
        "| Singapore Networks Operation        | Phone:     (65) 279 8732             |\n",
        "| Hewlett-Packard Singapore Pte. Ltd. | Fax:       (65) 272 2780             |\n",
        "| 1150 Depot Road                     | Internet:  taybh@hpsgm2.sgp.hp.com   |\n",
        "| Singapore 0410                      |                                      |\n",
        "| Republic of Singapore\t\t      |                                      |\n",
        " ----------------------------------------------------------------------------\n",
        "\n"
       ]
      }
     ],
     "prompt_number": 25
    },
    {
     "cell_type": "markdown",
     "metadata": {},
     "source": [
      "\u5b9f\u306f\u3001\u6587\u7ae0#1 \u306f\u30b3\u30f3\u30d4\u30e5\u30fc\u30bf\u95a2\u4fc2\u306e\u6587\u7ae0\u3068\u3057\u3066\u304d\u308c\u3044\u306b\u8b58\u5225\u3067\u304d\u3066\u3044\u307e\u3059\u304c\u3001\u6587\u7ae0#0 \u306f\u3042\u307e\u308a\u304d\u308c\u3044\u306b\u8b58\u5225\u3067\u304d\u3066\u3044\u307e\u305b\u3093\u3002\n",
      "\uff08\u6642\u9593\u304c\u3042\u308c\u3070\u30011 \u3092 0 \u306b\u5909\u3048\u3066\u773a\u3081\u3066\u307f\u3066\u304f\u3060\u3055\u3044\u3002\uff09"
     ]
    },
    {
     "cell_type": "code",
     "collapsed": false,
     "input": [],
     "language": "python",
     "metadata": {},
     "outputs": []
    }
   ],
   "metadata": {}
  }
 ]
}