{
 "metadata": {
  "name": "",
  "signature": "sha256:87eb33c6d53b46d972dc7fd20b1b43fd099cef493c587d12b218f21dbeee8bb7"
 },
 "nbformat": 3,
 "nbformat_minor": 0,
 "worksheets": [
  {
   "cells": [
    {
     "cell_type": "markdown",
     "metadata": {},
     "source": [
      "\u4ee5\u4e0b\u3001\u6642\u9593\u304c\u3042\u308b\u4eba\u306f\u4e0b\u8a18\u306e\u8a18\u8ff0\u3092\u53c2\u8003\u306b\u3057\u3066\u8a66\u3057\u3066\u307f\u3066\u304f\u3060\u3055\u3044\u3002\uff08\u6642\u9593\u304c\u306a\u3044\u5834\u5408\u306f\u3001\u3053\u306e\u5148\u306b\u81ea\u5206\u3067\u8a66\u3059\u5fc5\u8981\u304c\u3042\u3063\u305f\u3068\u304d\u306b\u53c2\u8003\u306b\u3057\u3066\u304f\u3060\u3055\u3044\uff09\n",
      "\n",
      "# MeCab \u3092\u7528\u3044\u305f\u65e5\u672c\u8a9e\u51e6\u7406\n",
      "\n",
      "\u65e5\u672c\u8a9e\u306e\u6587\u7ae0\u306f\u82f1\u6587\u306e\u3088\u3046\u306b\u5358\u8a9e\u304c\u7a7a\u767d\u533a\u5207\u3055\u308c\u3066\u3044\u306a\u3044\u305f\u3081\u3001\u5148\u306e\u4f8b\u3068\u540c\u3058\u3088\u3046\u306a\u3053\u3068\u3092\u65e5\u672c\u8a9e\u306e\u6587\u7ae0\u306b\u95a2\u3057\u3066\u884c\u3046\u305f\u3081\u306b\u306f\u901a\u5e38\u306f\u5f62\u614b\u7d20\u89e3\u6790\u3092\u884c\u3046\u3053\u3068\u306b\u306a\u308a\u307e\u3059\u3002\n",
      "\n",
      "\u5f62\u614b\u7d20\u89e3\u6790\u30e9\u30a4\u30d6\u30e9\u30ea\u306e [MeCab](http://taku910.github.io/mecab/) \u306f Python \u304b\u3089\u547c\u3073\u51fa\u3059\u305f\u3081\u306e API \u304c\u7528\u610f\u3055\u308c\u3066\u3044\u307e\u3059\u3002\u304c\u3001\u4f7f\u3046\u305f\u3081\u306b\u306f\u591a\u5c11\u9762\u5012\u306a\u3068\u3053\u308d\u3082\u3042\u308a\u307e\u3059\u3002\n",
      "\n",
      "Python \u3067\u4f7f\u7528\u3059\u308b\u5834\u5408\u3001Python2\u7cfb\u306a\u306e\u304b\u3001Python3\u7cfb\u306a\u306e\u304b\u3067\u3001\u7570\u306a\u308a\u307e\u3059\u3002\n",
      "\n",
      "## Python 2.7\u7cfb\u306e\u5834\u5408\n",
      "\n",
      "\u3053\u306e\u52c9\u5f37\u4f1a\u304c\u30b9\u30bf\u30fc\u30c8\u3057\u305f\u6642\u306b\u6e96\u62e0\u3057\u307e\u3059\u3068\u6307\u5b9a\u3057\u305f Python \u306f\u3001\"Python 2.7.8 :: Anaconda 2.1.0\" \u3067\u3057\u305f\u3002 \u3053\u306e\u5834\u5408\u306f\u3001\u4e0b\u8a18\u306e\u624b\u9806\u3092\u53c2\u8003\u306b\u3057\u3066\u304f\u3060\u3055\u3044\u3002\n",
      "\n",
      "* [Mecab \u30c0\u30a6\u30f3\u30ed\u30fc\u30c9\u30da\u30fc\u30b8](http://taku910.github.io/mecab/#download) \u304b\u3089\u4e0b\u8a18\u306e\uff13\u3064\u3092\u30c0\u30a6\u30f3\u30ed\u30fc\u30c9\u3057\u3066\u304f\u3060\u3055\u3044\u3002\u30f4\u30a1\u30fc\u30b8\u30e7\u30f3\u306f\u3053\u306e\u539f\u7a3f\u3092\u66f8\u3044\u3066\u3044\u308b\u6642\u70b9\u3067\u306f 0.996 \u304c\u6700\u65b0\u306a\u306e\u3067\u30010.996 \u3067\u63c3\u3048\u3066\u304f\u3060\u3055\u3044\u3002\n",
      "    + MeCab \u672c\u4f53 Mac, Linux \u306a\u3089 Source \u306e mecab-0.996.tar.gz \u3092\u30c0\u30a6\u30f3\u30ed\u30fc\u30c9\u3001Windows \u306a\u3089 exe \u3092\u5c0e\u5165\n",
      "    + MeCab \u7528\u306e IPA\u8f9e\u66f8 \u3092\u30c0\u30a6\u30f3\u30ed\u30fc\u30c9\n",
      "    + perl/ruby/python/java \u30d0\u30a4\u30f3\u30c7\u30a3\u30f3\u30b0 \u3092\u30c0\u30a6\u30f3\u30ed\u30fc\u30c9\n",
      "* [\u30a4\u30f3\u30b9\u30c8\u30fc\u30eb](http://taku910.github.io/mecab/#install) \u306e\u8a18\u8ff0\u3092\u53c2\u8003\u306b\u5c0e\u5165\u3059\u308b\n",
      "* [\u30d0\u30a4\u30f3\u30c7\u30a3\u30f3\u30b0\u5c0e\u5165\u65b9\u6cd5](http://taku910.github.io/mecab/bindings.html) \u3092\u53c2\u8003\u306b\u5c0e\u5165\u3059\u308b\u3002\n",
      "    + tar \u30d5\u30a1\u30a4\u30eb\u3092\u89e3\u51cd\u3057\u3001README \u30d5\u30a1\u30a4\u30eb\u306e\u8a18\u8ff0\u901a\u308a\u306b\u5c0e\u5165\u3059\u308b\u3002\n",
      "* ipython notebook \u3092\u518d\u8d77\u52d5\n",
      "\n",
      "## Python3\u7cfb\u306e\u5834\u5408\n",
      "\n",
      "* [\u30d0\u30a4\u30f3\u30c7\u30a3\u30f3\u30b0\u5c0e\u5165\u65b9\u6cd5](http://taku910.github.io/mecab/bindings.html) \u306e\u624b\u9806\u304c\u5909\u66f4\u306b\u306a\u308a\u307e\u3059\u3002\n",
      "\n",
      "\u5143\u306e `setup.py`\n",
      "\n",
      "````\n",
      "def cmd2(str):\n",
      "    return string.split (cmd1(str))\n",
      "````\n",
      "\n",
      "\u3053\u308c\u3092\u4e0b\u8a18\u306e\u3088\u3046\u306b\u30a8\u30c7\u30a3\u30bf\u3067\u4fee\u6b63\u3059\u308b\u5fc5\u8981\u304c\u3042\u308b\n",
      "\n",
      "````\n",
      "def cmd2(str):\n",
      "    return cmd1(str).split()\n",
      "````\n",
      "\n",
      "\u305d\u306e\u5f8c\u306b\u3001README \u306e\u624b\u9806\u3069\u3046\u308a\u306b\n"
     ]
    },
    {
     "cell_type": "markdown",
     "metadata": {},
     "source": [
      "# Python \u304b\u3089\u306e MeCab \u306e\u4f7f\u7528\n",
      "\n",
      "MeCab \u306f\u500b\u3005\u306e\u5f62\u614b\u7d20\u3092\u5404\u7a2e\u60c5\u5831\u3092\u4fdd\u6301\u3057\u305f node \u3068\u3057\u3066\u8fd4\u3059\u3053\u3068\u304c\u53ef\u80fd\u3067\u3059\u3002\u4eca\u56de\u306f\u3001\u6587\u7ae0\u306b\u7279\u5fb4\u7684\u306a\u540d\u8a5e\u3060\u3051\u3092\u62bd\u51fa\u3057\u305f\u3044\u305f\u3081\u3001\u4e0b\u8a18\u306e\u3088\u3046\u306a `isNoun` \u95a2\u6570\u3092\u5b9a\u7fa9\u3057\u307e\u3059\u3002\u5b9f\u904b\u7528\u3067\u306f\u81ea\u5206\u306e\u76ee\u7684\u306b\u5f93\u3063\u3066\u9069\u5f53\u306b\u4fee\u6b63\u3057\u3066\u304f\u3060\u3055\u3044\u3002"
     ]
    },
    {
     "cell_type": "code",
     "collapsed": false,
     "input": [
      "# -*- coding: utf-8 -*-\n",
      "%matplotlib inline\n",
      "import numpy as np\n",
      "import matplotlib.pyplot as plt\n",
      "import pandas as pd\n",
      "from sklearn.datasets import fetch_20newsgroups\n",
      "from gensim import corpora, models, similarities\n",
      "import MeCab"
     ],
     "language": "python",
     "metadata": {},
     "outputs": [],
     "prompt_number": 1
    },
    {
     "cell_type": "code",
     "collapsed": false,
     "input": [
      "def isNoun(node):\n",
      "    i = node.posid\n",
      "    if (36 <= i <= 67): # \u540d\u8a5e(36-67)\n",
      "        # \u56fa\u6709\u540d\u8a5e 41-47 \u306f\u82f1\u6570\u5b57\u3067\u3082\u8a31\u3059\u3002\u3057\u304b\u3057\uff11\u6587\u5b57\u306f\u30c0\u30e1\u3002\n",
      "        if (i in {41, 42, 43, 44, 45, 46, 47}):\n",
      "            return len(node.surface)>1\n",
      "        # \u6570\u5b57(48), \u4ee3\u540d\u8a5e(59-60), \u975e\u81ea\u7acb(61-66)\n",
      "        elif (i in {48, 59, 60, 61, 62, 63, 64, 65, 66}):\n",
      "            return False\n",
      "        elif (node.char_type == 5): # \u82f1\u5b57\u306f\uff14\u6587\u5b57\u4ee5\u4e0a\u306a\u3089\u3070\n",
      "            return len(node.surface)>3\n",
      "        elif (node.char_type == 3): # \u8a18\u53f7\n",
      "            return False\n",
      "        else:\n",
      "            return True\n",
      "    else: # \u540d\u8a5e\u3067\u306a\u3044\n",
      "        return False"
     ],
     "language": "python",
     "metadata": {},
     "outputs": [],
     "prompt_number": 2
    },
    {
     "cell_type": "markdown",
     "metadata": {},
     "source": [
      "\u3053\u308c\u3092\u547c\u3073\u51fa\u3059\u95a2\u6570\u306f\u3001Python2 \u3068 Python3 \u3067\u9055\u3044\u307e\u3059\u3002\n",
      "Python3 \u306f\u6587\u5b57\u5217\u306f UTF-8 \u306b\u7d71\u4e00\u3055\u308c\u3066\u3044\u3066\u7c21\u5358\u306a\u306e\u3067\u3059\u304c\u3001Python2 \u3067\u306f unicode \u6587\u5b57\u5217\u3068\u3001\u5358\u306a\u308b\u30d0\u30a4\u30c8\u5217\u306e str \u6587\u5b57\u5217\u3068\uff12\u7a2e\u985e\u3042\u308a\u3001MeCab \u3068\u306e\u3084\u308a\u3068\u308a\u306b\u5de5\u592b\u304c\u5fc5\u8981\u306b\u306a\u308a\u307e\u3059\u3002\n",
      "\n",
      "`text_to_words` \u95a2\u6570\u306f `unicode` \u6587\u5b57\u5217\u3092\u3068\u3063\u3066\u3001`unicode` \u6587\u5b57\u5217\u306a\u540d\u8a5e\u306e\u30ea\u30b9\u30c8\u3092\u8fd4\u3059\u95a2\u6570\u3067\u3059\u3002\n",
      "\n",
      "# Python2 \u306e\u5834\u5408"
     ]
    },
    {
     "cell_type": "code",
     "collapsed": false,
     "input": [
      "# Python3 \u306e\u5834\u5408\u306f\u3001\u30b3\u30e1\u30f3\u30c8\u30a2\u30a6\u30c8\u3057\u3066\u304f\u3060\u3055\u3044\u3002\n",
      "def text_to_words(text):\n",
      "    if (text is None):\n",
      "        return None\n",
      "    try:\n",
      "        tagger = MeCab.Tagger()\n",
      "        tagger.parse('')\n",
      "        s = text.encode('utf-8') # str\u578b\u306b\u5909\u63db\n",
      "        node = tagger.parseToNode(s)\n",
      "        acc = []\n",
      "        while node:\n",
      "            if isNoun(node):\n",
      "                acc.append(unicode(node.surface, 'utf_8'))\n",
      "            node = node.next\n",
      "        return acc\n",
      "    except Exception as e:\n",
      "        print str(e)\n",
      "        return None"
     ],
     "language": "python",
     "metadata": {},
     "outputs": [],
     "prompt_number": 9
    },
    {
     "cell_type": "markdown",
     "metadata": {},
     "source": [
      "# Python3 \u306e\u5834\u5408"
     ]
    },
    {
     "cell_type": "code",
     "collapsed": false,
     "input": [
      "# Python2 \u306e\u5834\u5408\u306f\u30b3\u30e1\u30f3\u30c8\u3057\u3066\u304f\u3060\u3055\u3044\n",
      "#def text_to_words(text):\n",
      "#    if (text is None):\n",
      "#        return None\n",
      "#    try:\n",
      "#        tagger = MeCab.Tagger()\n",
      "#        tagger.parse('') # \u306a\u305c\u304b\u5fc5\u8981\u306a\u304a\u307e\u3058\u306a\u3044\n",
      "#        s = text\n",
      "#        node = tagger.parseToNode(s)\n",
      "#        acc = []\n",
      "#        while node:\n",
      "#            if isNoun(node):\n",
      "#                acc.append(node.surface)\n",
      "#            node = node.next\n",
      "#        return acc\n",
      "#    except Exception as e:\n",
      "#        return None"
     ],
     "language": "python",
     "metadata": {},
     "outputs": []
    },
    {
     "cell_type": "markdown",
     "metadata": {},
     "source": [
      "\u4f8b\u3048\u3070 `Python.txt` \u3092\u5f62\u614b\u7d20\u89e3\u6790\u3057\u3066\u307f\u307e\u3059\u3002\u51fa\u529b\u306f\u4e0b\u8a18\u306e\u3088\u3046\u306b\u306a\u308b\u306f\u305a\u3067\u3059\u3002\n",
      "\n",
      "````\n",
      "\u30ab\u30c6\u30b4\u30ea\n",
      "\u30c6\u30f3\u30d7\u30ec\u30fc\u30c8\n",
      "````"
     ]
    },
    {
     "cell_type": "code",
     "collapsed": false,
     "input": [
      "python_wordss = [text_to_words(line[:-1]) for line in open('Python.txt', 'r')]\n",
      "for s in python_wordss[0]:\n",
      "    print s"
     ],
     "language": "python",
     "metadata": {},
     "outputs": [
      {
       "output_type": "stream",
       "stream": "stdout",
       "text": [
        "\u30ab\u30c6\u30b4\u30ea\n",
        "\u30c6\u30f3\u30d7\u30ec\u30fc\u30c8\n"
       ]
      }
     ],
     "prompt_number": 10
    },
    {
     "cell_type": "markdown",
     "metadata": {},
     "source": [
      "### \u6ce8\u610f\uff1a\u65e5\u672c\u8a9e\u304c\u3046\u307e\u304f\u8868\u793a\u3055\u308c\u306a\u3044\u6642\u306f\n",
      "\n",
      "\u4e0a\u8a18\u3067\u65e5\u672c\u8a9e\u304c\u8868\u793a\u3055\u308c\u306a\u3044\u5834\u5408\u3001ipython notebook \u306e\u8a2d\u5b9a\u3092\u5909\u66f4\u3059\u308b\u3068\u76f4\u308b\u3053\u3068\u304c\u3042\u308a\u307e\u3059\u3002\n",
      "\n",
      "\u307e\u305a\u95a2\u4fc2\u3059\u308b\u3068\u601d\u308f\u308c\u308b\u30c7\u30a3\u30ec\u30af\u30c8\u30ea\u3092\u63a2\u3057\u307e\u3059\u3002\n",
      "\n",
      "````\n",
      "$ which python2.7\n",
      "/Users/takashi_miyamoto/.pyenv/shims/python2.7\n",
      "$ python2.7 --version\n",
      "Python 2.7.8 :: Anaconda 2.1.0 (x86_64)\n",
      "$ sudo find / -name site-packages | grep python2.7\n",
      "````\n",
      "\n",
      "\u4e0a\u8a18\u306e\u4e2d\u3067\u3082\u3063\u3068\u3082\u9069\u5207\u3068\u601d\u308f\u308c\u308b `site-packages` \u30c7\u30a3\u30ec\u30af\u30c8\u30ea\u306b\u5bfe\u3057\u3066 `sitecustomize.py` \u3092\u7de8\u96c6\u3057\u307e\u3059\u3002\n",
      "\n",
      "````\n",
      "$ vi /Users/takashi_miyamoto/.pyenv/versions/anaconda-2.1.0/lib/python2.7/site-packages/sitecustomize.py\n",
      "````\n",
      "\n",
      "`sitecustomize.py` \u3092\u7de8\u96c6\u3057\u3066\u4e0b\u8a18\u3092\u8ffd\u8a18\u3057\u307e\u3059\u3002(\u30d5\u30a1\u30a4\u30eb\u304c\u306a\u3051\u308c\u3070\u65b0\u898f\u4f5c\u6210\u3059\u308b)\n",
      "\n",
      "````\n",
      "import sys\n",
      "sys.setdefaultencoding(\"utf-8\")\n",
      "````\n",
      "\n",
      "ipython notebook \u3092\u518d\u8d77\u52d5\u3057\u3066\u304f\u3060\u3055\u3044\u3002\u79c1\u306e python2 \u74b0\u5883\u306f\u4e0a\u8a18\u306e\u624b\u9806\u3067\u8868\u793a\u3067\u304d\u308b\u3088\u3046\u306b\u306a\u308a\u307e\u3057\u305f\u3002"
     ]
    },
    {
     "cell_type": "markdown",
     "metadata": {},
     "source": [
      "# gensim \u3067\u51e6\u7406\u3059\u308b\n",
      "\n",
      "gensim \u306f unicode \u6587\u5b57\u5217\u3092\u53d7\u3051\u4ed8\u3051\u308b\u306e\u3067\u3001\u4ee5\u4e0b\u306e\u51e6\u7406\u306f\u540c\u3058\u3067\u3059\u3002\u4f8b\u3048\u3070 `Python.txt` \u306e\u540d\u8a5e\u304b\u3089\u8f9e\u66f8\u3092\u4f5c\u308b\u306e\u306f\u3001\u3053\u3093\u306a\u611f\u3058\u306b\u306a\u308a\u307e\u3059\u3002"
     ]
    },
    {
     "cell_type": "code",
     "collapsed": false,
     "input": [
      "dictionary = corpora.Dictionary(python_wordss)\n",
      "str(dictionary)"
     ],
     "language": "python",
     "metadata": {},
     "outputs": [
      {
       "metadata": {},
       "output_type": "pyout",
       "prompt_number": 12,
       "text": [
        "\"Dictionary(515 unique tokens: [u'\\\\u81ea\\\\u52d5\\\\u7684', u'\\\\u30ab\\\\u30c6\\\\u30b4\\\\u30ea', u'\\\\u7279\\\\u6027', u'\\\\u660e\\\\u78ba', u'YouTube']...)\""
       ]
      }
     ],
     "prompt_number": 12
    },
    {
     "cell_type": "markdown",
     "metadata": {},
     "source": [
      "# \u8ab2\u984c\n",
      "\n",
      "\u7df4\u7fd2\u7528\u306b\u65e5\u672c\u8a9e\u7248 Wikipedia \u304b\u3089\u5341\u6570\u500b\u306e\u30d7\u30ed\u30b0\u30e9\u30df\u30f3\u30b0\u8a00\u8a9e\u306e\u6587\u7ae0\u3092\u53d6\u5f97\u3057\u3066\u3042\u308a\u307e\u3059\u3002\u8272\u3005\u306a\u8ab2\u984c\u304c\u3042\u308a\u5f97\u308b\u3068\u601d\u3044\u307e\u3059\u304c\u3001\u4f8b\u3048\u3070\u3001\n",
      "\n",
      "* \u3059\u3079\u3066\u306e\u30d5\u30a1\u30a4\u30eb\u3092\u5168\u90e8\u9023\u7d50\u3057\u3066\u3001\u8f9e\u66f8 -> bag-of-words -> TfIdf -> LDA -> \u985e\u4f3c\u5ea6 index \u3092\u4f5c\u6210\u3059\u308b(\u524d\u3068\u540c\u3058)\n",
      "* \u9069\u5f53\u306a Web \u30b5\u30a4\u30c8\u304b\u3089\u4f8b\u3048\u3070 Java \u306b\u95a2\u3059\u308b\u77ed\u6587\u306e\u6587\u5b57\u5217\u306b\u3064\u3044\u3066\u3001\u305d\u306e\u6587\u7ae0\u3068\u985e\u4f3c\u306e\u9ad8\u3044\u6587\u7ae0\u3092\u63a2\u3057\u3066\u307f\u3066\u3001\u3069\u306e\u8a00\u8a9e\u306b\u95a2\u3059\u308b\u30d5\u30a1\u30a4\u30eb\u304b\u3089\u306e\u6587\u7ae0\u306b\u8fd1\u3044\u306e\u304b\u63a2\u3057\u3066\u307f\u308b\u3002(Java \u306b\u306a\u308b\u304b\uff1f)\n",
      "* \u9069\u5f53\u306a Web \u30b5\u30a4\u30c8\u304b\u3089\u4f8b\u3048\u3070 Java \u306b\u95a2\u3059\u308b\u77ed\u6587\u306e\u6587\u5b57\u5217\u306b\u3064\u3044\u3066\u3001\u305d\u306e\u6587\u7ae0\u3068\u985e\u4f3c\u306e\u9ad8\u3044\u6587\u7ae0\u3092\u63a2\u3057\u3066\u307f\u3066\u3001\u3069\u306e\u8a00\u8a9e\u306b\u95a2\u3059\u308b\u30d5\u30a1\u30a4\u30eb\u304b\u3089\u306e\u6587\u7ae0\u306b\u8fd1\u3044\u306e\u304b\u63a2\u3057\u3066\u307f\u308b\u3002(\u3069\u306e\u8a00\u8a9e\u304c PHP \u306b\u8fd1\u3044\u304b\uff1f)\n",
      "\n",
      "\u3068\u304b\u3001\u8a66\u3057\u3066\u307f\u3066\u304f\u3060\u3055\u3044\u3002\u3082\u3061\u308d\u3093\u3001\u4ed6\u306e\u8ab2\u984c\u3067\u3082\u69cb\u3044\u307e\u305b\u3093\u3002"
     ]
    },
    {
     "cell_type": "code",
     "collapsed": false,
     "input": [],
     "language": "python",
     "metadata": {},
     "outputs": []
    }
   ],
   "metadata": {}
  }
 ]
}