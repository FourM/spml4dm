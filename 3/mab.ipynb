{
 "metadata": {
  "name": "",
  "signature": "sha256:bc806c06d7c3dca4bd62754dda8d21afe71fc39b5e8550d62c14b9c712797a4d"
 },
 "nbformat": 3,
 "nbformat_minor": 0,
 "worksheets": [
  {
   "cells": [
    {
     "cell_type": "markdown",
     "metadata": {},
     "source": [
      "# \u591a\u8155\u30d0\u30f3\u30c7\u30a3\u30c3\u30c8\u554f\u984c\n",
      "\n"
     ]
    },
    {
     "cell_type": "markdown",
     "metadata": {},
     "source": [
      "## \u306f\u3058\u3081\u306b\n",
      "\n",
      "\u4eca\u56de\u306e\u8ab2\u984c\u306f python \u306e\u5b9f\u88c5\u304c\u591a\u5c11\u591a\u3081\u306b\u306a\u3063\u3066\u3044\u307e\u3059\u3002python/numpy/scipy\u306e\u52c9\u5f37\u3068\u601d\u3063\u3066\u30b3\u30fc\u30c7\u30a4\u30f3\u30b0\u3057\u3066\u9802\u3051\u308c\u3070\u3068\u601d\u3044\u307e\u3059\u304c\u3001\u30d7\u30ed\u30b0\u30e9\u30df\u30f3\u30b0\u304c\u82e6\u624b\u306a\u65b9\u306f\u3001`mab_answer.ipynb` \u306b\u5168\u3066\u5b9f\u88c5\u4f8b\u304c\u66f8\u304b\u308c\u3066\u3044\u308b\u306e\u3067\u3001\u30b3\u30fc\u30c7\u30a3\u30f3\u30b0\u306e\u53c2\u8003\u306b\u3059\u308b\u3068\u304b\u3001\u3042\u308b\u3044\u306f\u305d\u3061\u3089\u3067\u30d1\u30e9\u30e1\u30fc\u30bf\u3060\u3051\u5909\u3048\u3066\u8a66\u3057\u3066\u307f\u308b\u3068\u304b\u3057\u3066\u304f\u3060\u3055\u3044\u3002\n"
     ]
    },
    {
     "cell_type": "markdown",
     "metadata": {},
     "source": [
      "## \u5e83\u544a\u914d\u4fe1\u3092\u4f8b\u306b\u8003\u3048\u308b\n",
      "\n",
      "\u524d\u56de\u3001\u5e83\u544aA, B\u306e\u30af\u30ea\u30c3\u30af\u7387\u306b\u6709\u610f\u5dee\u304c\u3042\u308b\u304b\u5426\u304b\u306e\u3088\u3046\u306a\u554f\u984c\u3092\u8003\u3048\u308b\u4e0a\u3067\u3001\u30af\u30ea\u30c3\u30af\u6570\u306e\u5206\u5e03\u3092\u4e8c\u9805\u5206\u5e03\u3068\u8003\u3048\u3001\u3055\u3089\u306b\u6b63\u898f\u5206\u5e03\u3067\u8fd1\u4f3c\u3092\u884c\u3048\u3070\u691c\u5b9a\u3084\u3001\u5fc5\u8981\u3068\u3055\u308c\u308b\u30b5\u30f3\u30d7\u30eb\u30b5\u30a4\u30ba\u306e\u898b\u7a4d\u3082\u308a\u304c\u53ef\u80fd\u3067\u3042\u308b\u3053\u3068\u3092\u8a71\u3057\u307e\u3057\u305f\u3002\n",
      "\n",
      "\u3057\u304b\u3057\u73fe\u5b9f\u306b\u4ed5\u4e8b\u3092\u3059\u308b\u5834\u9762\u3067\u306f\u60a0\u9577\u306b\u691c\u5b9a\u3092\u884c\u3063\u3066\u3044\u308b\u6642\u9593\u7684\u4f59\u88d5\u304c\u7121\u3044\u5834\u5408\u3082\u3042\u308a\u307e\u3059\u3002\u7279\u306b\u3001\u30b5\u30f3\u30d7\u30eb\u30b5\u30a4\u30ba\u304c\u5927\u304d\u304f\u306a\u308b\u5834\u5408\u3068\u3044\u3046\u306e\u306f\u6bd4\u8f03\u5bfe\u8c61\u306e\u9593\u306e\u78ba\u7387\u306e\u5dee\u304c\u5c0f\u3055\u3044\u5834\u5408\u3001\u3064\u307e\u308a\u3069\u3061\u3089\u3067\u3082\u5927\u5dee\u7121\u3044\u5834\u5408\u3001\u3067\u3042\u308b\u3068\u8a00\u3048\u307e\u3059\u3002\n",
      "\u305d\u306e\u5834\u5408\u3001\u3068\u308a\u3042\u3048\u305a\u4e21\u65b9\u306e\u5e83\u544a\u3092\u5747\u7b49\u306b\u914d\u4fe1\u3057\u3066\u307f\u3066\u3001\u3069\u3061\u3089\u304b\u304c\u826f\u3055\u305d\u3046\u3060\u3068\u5206\u304b\u3063\u305f\u6642\u70b9\u3067\u7247\u65b9\u3060\u3051\u306b\u5207\u308a\u66ff\u3048\u308c\u3070\u5341\u5206\u3060\u3068\u8a00\u3048\u307e\u3059\u3002\n",
      "\n",
      "\u5e83\u544a\u914d\u4fe1\u306e\u5834\u5408\u306b\u306f\u3001\u3082\u3057\u304b\u3057\u305f\u3089\u4e0b\u8a18\u306e\u3088\u3046\u306a\u8981\u7d20\u3092\u8003\u616e\u3059\u308b\u5fc5\u8981\u304c\u3042\u308b\u304b\u3082\u3057\u308c\u307e\u305b\u3093\u3002\uff08\u524d\u8005\u306b\u95a2\u3057\u3066\u306f LinUCB \u306a\u3069\u306e\u624b\u6cd5\u306e\u8ad6\u6587\u304c\u3042\u308a\u307e\u3059\u3002\u5f8c\u8005\u306b\u95a2\u3057\u3066\u306f\u4e0d\u52c9\u5f37\u3067\u3088\u304f\u77e5\u308a\u307e\u305b\u3093\u3002\uff09\n",
      "\n",
      "* \u6700\u826f\u306e\u5e83\u544a\u306f\u3001\u914d\u4fe1\u5bfe\u8c61\u306e\u30aa\u30fc\u30c7\u30a3\u30a8\u30f3\u30b9\u6bce\u306b\u9055\u3046\u304b\u3082\u3057\u308c\u306a\u3044\n",
      "* \u6700\u826f\u306e\u5e83\u544a\u306f\u3001\u6d41\u884c\u3084\u8a71\u984c\u6027\u306a\u3069\u306e\u305f\u3081\u306b\u6642\u9593\u7684\u306b\u5909\u52d5\u3059\u308b\u304b\u3082\u3057\u308c\u306a\u3044\n",
      "\n",
      "\u304c\u3001\u4eca\u56de\u306f\u305d\u3046\u3044\u3046\u8981\u7d20\u3092\u7121\u8996\u3057\u3066\u4e00\u756a\u30b7\u30f3\u30d7\u30eb\u306a\u72b6\u6cc1\u3092\u8003\u3048\u307e\u3059\u3002\n",
      "\n",
      "### \u591a\u8155\u30d0\u30f3\u30c7\u30a3\u30c3\u30c8\u554f\u984c\n",
      "\n",
      "\u6b21\u306e\u3088\u3046\u306a\u72b6\u6cc1\u3092\u8003\u3048\u307e\u3059\u3002\n",
      "\n",
      "* \u30b9\u30ed\u30c3\u30c8\u30de\u30b7\u30f3\u304c$n$\u53f0\u3042\u308b\u3002\n",
      "* \u5404\u30b9\u30ed\u30c3\u30c8$i (i=1, \\cdots,n)$\u306f\u78ba\u7387$p_i$\u3067\u5831\u916c$1$\u3001\u78ba\u7387 $1-p_i$ \u3067\u5831\u916c $0$ \u3092\u4e0e\u3048\u308b\u3002\n",
      "* \u78ba\u7387 $p_i$ \u306f\u6642\u9593\u7684\u306b\u5909\u52d5\u3057\u306a\u3044\u3002\n",
      "* \u78ba\u7387 $p_i$ \u306f\u4e0d\u660e\u3067\u3042\u308a\u3001\u81ea\u5206\u3067\u8a66\u3057\u3066\u5f97\u3089\u308c\u305f\u5831\u916c\u304b\u3089\u63a8\u6e2c\u3059\u308b\u4ed6\u306f\u306a\u3044\u3002\n",
      "* \u4e0a\u8a18\u306e\u72b6\u6cc1\u306e\u3082\u3068\u3067\u3001\u6700\u5927\u306e\u53ce\u76ca\u3092\u5f97\u3089\u308c\u308b\u6226\u7565\u3092\u8003\u3048\u3088\u3002\n",
      "\n",
      "\u5148\u307b\u3069\u306e\u5e83\u544a\u914d\u4fe1\u306e\u554f\u984c\u3092\u5358\u7d14\u5316\u3057\u305f\u554f\u984c\u3067\u3042\u308b\u3053\u3068\u304c\u308f\u304b\u308a\u307e\u3059\u3067\u3057\u3087\u3046\u304b\u3002(\u5b66\u8853\u7684\u306b\u306f\u300c\u6700\u9069\u3067\u306f\u7121\u3044\u30b9\u30ed\u30c3\u30c8\u3092\u9078\u3076\u306e\u3092\u6700\u5c0f\u5316\u305b\u3088\u300d\u3068\u5b9a\u5f0f\u5316\u3059\u308b\u3089\u3057\u3044)\n",
      "\n",
      "\u30ab\u30b8\u30ce\u306e\u30b9\u30ed\u30c3\u30c8\u30de\u30b7\u30f3\u3092\u4fd7\u306b\"one-armed bandits\"\u3068\u547c\u3076\u3053\u3068\u304b\u3089\u3053\u306e\u554f\u984c\u306f\u591a\u8155\u30d0\u30f3\u30c7\u30a3\u30c3\u30c8\u554f\u984c(Multi-armed bandits)\u3068\u547c\u3070\u308c\u307e\u3059\u3002\n",
      "\n",
      "\u4eca\u56de\u306f\u3053\u306e\u554f\u984c\u306b\u3064\u3044\u3066\u77e5\u3089\u308c\u3066\u3044\u308b\u30a2\u30eb\u30b4\u30ea\u30ba\u30e0\u3092\u5e7e\u3064\u304b\u5b9f\u88c5\u3057\u3066\u307f\u307e\u3059\u3002\n",
      "\n",
      "\u4eca\u56de\u306f\u3044\u3064\u3082\u8aad\u307f\u8fbc\u3093\u3067\u3044\u308b\u30e9\u30a4\u30d6\u30e9\u30ea\u306b\u52a0\u3048\u3066\u3001python \u3067\u62bd\u8c61\u30af\u30e9\u30b9\u3092\u4f7f\u3046\u305f\u3081\u306e\u30e9\u30a4\u30d6\u30e9\u30ea abc \u3082\u8aad\u307f\u8fbc\u307f\u307e\u3059\u3002"
     ]
    },
    {
     "cell_type": "code",
     "collapsed": false,
     "input": [
      "%matplotlib inline\n",
      "from abc import ABCMeta, abstractmethod\n",
      "import numpy as np\n",
      "import matplotlib.pyplot as plt"
     ],
     "language": "python",
     "metadata": {},
     "outputs": [],
     "prompt_number": 2
    },
    {
     "cell_type": "markdown",
     "metadata": {},
     "source": [
      "### \u30b9\u30ed\u30c3\u30c8\u30de\u30b7\u30f3\u30af\u30e9\u30b9\n",
      "\n",
      "\u5404\u30a2\u30fc\u30e0\u3092\u8868\u73fe\u3059\u308b\u30af\u30e9\u30b9\u3092\u4f5c\u6210\u3057\u307e\u3059\u3002"
     ]
    },
    {
     "cell_type": "code",
     "collapsed": false,
     "input": [
      "\"\"\"\n",
      "\u30a2\u30fc\u30e0\u30af\u30e9\u30b9\n",
      "\"\"\"\n",
      "class Arm:\n",
      "    # \u30b3\u30f3\u30b9\u30c8\u30e9\u30af\u30bf Arm(\u5f53\u305f\u308a\u78ba\u7387)\n",
      "    def __init__(self, prob):\n",
      "        self.__prob = prob # private\u5909\u6570\u306a\u306e\u3067\u5916\u304b\u3089\u306f\u8aad\u3081\u306a\u3044\n",
      "        self.reset()\n",
      "    # \u8a66\u884c\u56de\u6570\u306e\u30af\u30ea\u30a2\n",
      "    def reset(self):\n",
      "        self.n_total = 0\n",
      "        self.n_win = 0\n",
      "    # \u30b9\u30ed\u30c3\u30c8\u3092\u4e00\u56de\u30d7\u30ec\u30a4\u3059\u308b\u3002\u623b\u308a\u5024 = 0(\u306f\u305a\u308c) or 1(\u3042\u305f\u308a)\n",
      "    def play(self):\n",
      "        if (np.random.random_sample() < self.__prob):\n",
      "            result = 1\n",
      "        else:\n",
      "            result = 0\n",
      "        self.n_total += 1\n",
      "        self.n_win += result\n",
      "        return result\n",
      "    # \u30d7\u30ec\u30a4\u7d50\u679c\u96c6\u8a08 (\u52dd\u3061\u6570, \u30d7\u30ec\u30a4\u6570) \u3092\u8fd4\u3059\n",
      "    def score(self):\n",
      "        return self.n_win, self.n_total\n"
     ],
     "language": "python",
     "metadata": {},
     "outputs": [],
     "prompt_number": 3
    },
    {
     "cell_type": "markdown",
     "metadata": {},
     "source": [
      "### \u30b2\u30fc\u30e0\u30af\u30e9\u30b9\n",
      "\n",
      "\u6b21\u3044\u3067\u591a\u8155\u30d0\u30f3\u30c7\u30a3\u30c3\u30c8\u554f\u984c\u306e\u30b2\u30fc\u30e0\u3092\u8868\u73fe\u3059\u308b\u62bd\u8c61\u30af\u30e9\u30b9\u3092\u4f5c\u308a\u307e\u3059\u3002"
     ]
    },
    {
     "cell_type": "code",
     "collapsed": false,
     "input": [
      "\"\"\"\n",
      "\u6226\u7565\u304c\u4e0e\u3048\u3089\u308c\u305f\u969b\u306b\u3001\u4e00\u5b9a\u56de\u6570\u306e\u30d7\u30ec\u30a4\u3092\u30d7\u30ec\u30a4\u3092\u884c\u3044\u3001\u7d50\u679c\u3092\u4fdd\u6301\u3059\u308b\n",
      "\"\"\"\n",
      "class Game(object):\n",
      "    __metaclass__ = ABCMeta  # \u62bd\u8c61\u30af\u30e9\u30b9\u306b\u306f\u5fc5\u8981\u306a\u304a\u307e\u3058\u306a\u3044\n",
      "\n",
      "    # \u30b3\u30f3\u30b9\u30c8\u30e9\u30af\u30bf\uff1a\u5f15\u6570\uff1dArm\u306e\u30ea\u30b9\u30c8\u3001\u9078\u629e\u56de\u6570\u306b\u7740\u76ee\u3059\u308b\u30a2\u30fc\u30e0\u306e\u756a\u53f7\n",
      "    def __init__(self, arms, i_record):\n",
      "        # \u30a2\u30fc\u30e0\u306e\u30ea\u30b9\u30c8:\n",
      "        self.arms = arms\n",
      "        # \u8a18\u9332\u5bfe\u8c61\u306b\u3059\u308b\u30a2\u30fc\u30e0\u306e\u756a\u53f7\n",
      "        self.i_record = i_record\n",
      "        # \u30b0\u30e9\u30d5\u30d7\u30ed\u30c3\u30c8\u7528\u306b\u4fdd\u5b58\u3059\u308b\u8a66\u884c\u56de\u6570\u3002\u6700\u5f8c\u306e\u5024\u304c\u7dcf\u8a66\u884c\u56de\u6570\n",
      "        self.nplt = [1, 2, 5, 10, 20, 50, 100, 200, 500, 1000, 2000, 5000, 10000, 20000, 50000, 100000]\n",
      "        self.reset()\n",
      "    # \u8a66\u884c\u56de\u6570\u306e\u30af\u30ea\u30a2\n",
      "    def reset(self):\n",
      "        for arm in self.arms: # \u5404\u30a2\u30fc\u30e0\u306b\u5bfe\u3057\u3066\n",
      "            arm.reset()       # \u8a66\u884c\u56de\u6570\u3092\u30af\u30ea\u30a2\u3059\u308b\n",
      "        self.n_total = 0 # \u73fe\u5728\u306e\u8a66\u884c\u56de\u6570\n",
      "        self.n_win = 0   # \u73fe\u5728\u306e\u52dd\u5229\u56de\u6570\n",
      "        self.n_choice = 0   # \u7740\u76ee\u3057\u305f\u30a2\u30fc\u30e0\u304c\u9078\u629e\u3055\u308c\u305f\u56de\u6570\n",
      "        self.wplt = []   # \u30d7\u30ed\u30c3\u30c8\u7528\u306b\u52dd\u5229\u56de\u6570\u3092\u4fdd\u5b58\u3059\u308b\n",
      "        self.cplt = []   # \u30d7\u30ed\u30c3\u30c8\u7528\u306b\u7279\u5b9a\u306e\u30b9\u30ed\u30c3\u30c8\u304c\u9078\u629e\u3055\u308c\u305f\u56de\u6570\u3092\u4fdd\u5b58\u3059\u308b\n",
      "    \n",
      "    ### choose() \u30e1\u30bd\u30c3\u30c9\u3067\u4f7f\u3046\u305f\u3081\u306e\u4fbf\u5229\u95a2\u6570\n",
      "    \n",
      "    # \u30a2\u30fc\u30e0\u306e\u6570\n",
      "    def n_arms(self):\n",
      "        return len(self.arms)\n",
      "    # \u7dcf\u8a66\u884c\u56de\u6570\n",
      "    def n_plays(self):\n",
      "        return self.nplt[-1]\n",
      "    # \u5404\u30a2\u30fc\u30e0\u306e\u6210\u7e3e(\u52dd\u6570,\u7dcf\u6570)\u306e\u30ea\u30b9\u30c8\uff1areset\u3057\u3066\u3082\u6d88\u3048\u306a\u3044\u3088\u3046\u306bdeepcopy\u3092\u4f5c\u3063\u3066\u8fd4\u3059\n",
      "    def arm_scores(self):\n",
      "        return list([arm.score() for arm in self.arms])\n",
      "\n",
      "    ### \u30b2\u30fc\u30e0\u306e\u30d7\u30ec\u30a4\n",
      "    \n",
      "    # \u4e00\u56de\u306e\u30d7\u30ec\u30a4\uff1a\u5f15\u6570\uff1darm\u306e\u756a\u53f7\n",
      "    def play_once(self, i_arm):\n",
      "        self.n_total += 1  # \u7dcf\u8a66\u884c\u56de\u6570 +1\n",
      "        if (i_arm == self.i_record): # \u7740\u76ee\u5bfe\u8c61\u306e\u30a2\u30fc\u30e0\u3067\u3042\u308c\u3070\n",
      "            self.n_choice += 1  # \u30ab\u30a6\u30f3\u30c8\u3092\u5897\u3084\u3059\n",
      "        else:\n",
      "            pass\n",
      "        self.n_win += self.arms[i_arm].play()  # \u6307\u5b9a\u3055\u308c\u305f\u30a2\u30fc\u30e0\u3092\u30d7\u30ec\u30a4\u3057\u3066\u7d50\u679c\u3092\u52a0\u7b97\n",
      "        if (self.n_total in self.nplt):        # \u30d7\u30ed\u30c3\u30c8\u7528\u306b\u6b8b\u3059\u3079\u304d\u56de\u6570\u306a\u3089\u3070 \n",
      "            self.wplt.append(self.n_win)       # yplt \u306b n_win \u3092\u8ffd\u52a0\u3059\u308b\n",
      "            self.cplt.append(self.n_choice)    # nplt \u306b n_choice \u3092\u8ffd\u52a0\u3059\u308b\n",
      "        else:\n",
      "            pass\n",
      "    # \u898f\u5b9a\u56de\u6570\u306e\u30d7\u30ec\u30a4\u3092\u884c\u3046\n",
      "    def play(self):\n",
      "        for i_play in range(0, self.n_plays()):\n",
      "            self.play_once(self.choose())\n",
      "\n",
      "    ### \u30d7\u30ed\u30c3\u30c8\u7528\n",
      "            \n",
      "    # \u30d7\u30ed\u30c3\u30c8\u7528\u88dc\u52a9\u95a2\u6570: \u5f15\u6570\uff1d\u8a66\u884c\u56de\u6570\u306e\u30ea\u30b9\u30c8\u3001\u30d7\u30ed\u30c3\u30c8\u5bfe\u8c61\u306e\u30ab\u30a6\u30f3\u30c8\u30ea\u30b9\u30c8\n",
      "    def plot_prob(self, ns, ws):\n",
      "        xs = np.array(ns).astype(float) # \u8a66\u884c\u56de\u6570\u306e\u30ea\u30b9\u30c8\n",
      "        ys = np.array(ws).astype(float) # \u30d7\u30ed\u30c3\u30c8\u5bfe\u8c61\u306e\u30ab\u30a6\u30f3\u30c8\u30ea\u30b9\u30c8\n",
      "        ps = ys/xs\n",
      "        es = np.sqrt(ps*(1.0-ps)/xs)\n",
      "        plt.errorbar(xs, ps, yerr=es)\n",
      "        return xs, ps, es\n",
      "        \n",
      "    ### \u52dd\u5229\u56de\u6570\u306e\u30d7\u30ed\u30c3\u30c8\n",
      "    def plot_win_prob(self):\n",
      "        return self.plot_prob(self.nplt, self.wplt)\n",
      "\n",
      "    ### \u9078\u629e\u56de\u6570\u306e\u30d7\u30ed\u30c3\u30c8\n",
      "    def plot_choice_prob(self):\n",
      "        return self.plot_prob(self.nplt, self.cplt)\n",
      "\n",
      "    ### \u6226\u7565\u306f\u62bd\u8c61\u30e1\u30bd\u30c3\u30c9\u3068\u3059\u308b\n",
      "    \n",
      "    # \u5404\u6642\u70b9\u3067\u6700\u9069\u3068\u601d\u308f\u308c\u308b\u30b9\u30ed\u30c3\u30c8\u3092\u9078\u3076\u30e1\u30bd\u30c3\u30c9\u3002\u5b9f\u88c5\u306f\u30c0\u30df\u30fc\u3002\n",
      "    @abstractmethod\n",
      "    def choose(self):\n",
      "        return 0\n",
      "    "
     ],
     "language": "python",
     "metadata": {},
     "outputs": [],
     "prompt_number": 4
    },
    {
     "cell_type": "markdown",
     "metadata": {},
     "source": [
      "## \u5404\u7a2e\u306e\u30a2\u30eb\u30b4\u30ea\u30ba\u30e0\n",
      "\n",
      "\u4ee5\u4e0b\u3001\u5404\u7a2e\u30a2\u30eb\u30b4\u30ea\u30ba\u30e0\u3092\u7d39\u4ecb\u3057\u307e\u3059\u3002\n",
      "\n",
      "* \u30e9\u30f3\u30c0\u30e0\u306a\u9078\u629e\n",
      "* \u6700\u521d\u306b\u63a2\u7d22\u3059\u308b\n",
      "* $\\epsilon$-greedy ($\\epsilon$-\u8caa\u6b32)\n",
      "* Boltzmann \u63a2\u7d22 (Softmax)\n",
      "* UCB1\n",
      "* Thompson Sampling\n",
      "\n",
      "\u6700\u521d\u306e\uff12\u3064\u306b\u3064\u3044\u3066\u306fpython\u306e\u30b3\u30fc\u30c7\u30a3\u30f3\u30b0\u30b5\u30f3\u30d7\u30eb\u3068\u3057\u3066\u5177\u4f53\u4f8b\u3092\u793a\u3057\u307e\u3059\u3002\u6b8b\u308a\u306e\u30a2\u30eb\u30b4\u30ea\u30ba\u30e0\u306b\u3064\u3044\u3066\u306f\u3001python\u306e\u7df4\u7fd2\u3060\u3068\u601d\u3063\u3066\u81ea\u5206\u3067\u5b9f\u88c5\u3057\u3066\u304f\u3060\u3055\u3044\u3002\uff08\u3042\u308b\u3044\u306f `mab_answer.ipynb`\u306e\u56de\u7b54\u3092\u53c2\u7167\uff09\n",
      "\n",
      "* \u30c7\u30d0\u30c3\u30b0\u76ee\u7684\u3067\u306f\u3001\u30a2\u30fc\u30e0\u306e\u4f8b\u3068\u3057\u3066`[Arm(0.5), Arm(0.6)]`\u306b\u3064\u3044\u3066\u3001`i_record=1`\u3067\u6700\u826f\u306e\u30a2\u30fc\u30e0\u304c\u9078\u629e\u3055\u308c\u308b\u904e\u7a0b\u306b\u6ce8\u76ee\u3057\u3066\u304f\u3060\u3055\u3044\u3002\uff08\u4f55\u56de\u304b\u5b9f\u884c\u3059\u308b\u3068\u4e71\u6570\u306b\u3088\u308a\u6bce\u56de\u7b54\u3048\u304c\u5909\u308f\u308a\u307e\u3059\u3002\u6642\u306b\u306f\u9593\u9055\u3063\u305f\u8155\u3092\u6b63\u89e3\u3060\u3068\u9078\u3076\u53ef\u80fd\u6027\u3082\u3042\u308a\u307e\u3059\u3002\uff09\n",
      "* \u5b9f\u88c5\u3067\u304d\u305f\u3089\u3001`[Arm(0.01), Arm(0.011)]`\u306b\u3064\u3044\u3066\u3001`i_record=1`\u3067\u6700\u826f\u306e\u30a2\u30fc\u30e0\u304c\u9078\u629e\u3055\u308c\u308b\u904e\u7a0b\u306b\u6ce8\u76ee\u3057\u3066\u304f\u3060\u3055\u3044\u3002\u5fc5\u8981\u306a\u3089 `xplt` \u306e\u5024\u3092\u5897\u3084\u3057\u3066\u307f\u305f\u308a\u306a\u3069\u3057\u3066\u304f\u3060\u3055\u3044\u3002\uff08\u3053\u308c\u306f\u3001\u4f8b\u3048\u3070\u30af\u30ea\u30c3\u30af\u7387\u304c 1% \u3068 1.1% \u306e\u5e83\u544a\u3092\u5224\u65ad\u3059\u308b\u3088\u3046\u306a\u554f\u984c\u306b\u76f8\u5f53\u3057\u307e\u3059\uff09\n",
      "* \u3044\u308d\u3044\u308d\u8a66\u3057\u3066\u3001\u5404\u30a2\u30eb\u30b4\u30ea\u30ba\u30e0\u306e\u9577\u6240\u77ed\u6240\u3092\u8003\u3048\u3066\u307f\u3066\u304f\u3060\u3055\u3044\u3002\u691c\u8a0e\u9805\u76ee\u3068\u3057\u3066\u306f\n",
      "   + \u4eba\u9593\u304c\u8abf\u6574\u3057\u306a\u304f\u3066\u306f\u306a\u3089\u306a\u3044\u30d1\u30e9\u30e1\u30fc\u30bf\u306e\u6709\u7121\uff08\u30c1\u30e5\u30fc\u30cb\u30f3\u30b0\u30d1\u30e9\u30e1\u30fc\u30bf\u306f\u7121\u3044\u307b\u3046\u304c\u697d\u3067\u3059\u306d\uff1f\uff09\n",
      "   + \u6700\u7d42\u7684\u306b\u6700\u9069\u30a2\u30fc\u30e0\u3092\u307b\u307c\u78ba\u5b9f\u306b\u9078\u629e\u3059\u308b\u3088\u3046\u306b\u306a\u308b\u307e\u3067\u306e\u5b66\u7fd2\u671f\u9593\uff08\u4e8c\u756a\u76ee\u306e\u30b0\u30e9\u30d5\u304c\uff11\u306b\u8fd1\u3044\u5024\u306b\u8fd1\u3065\u304f\u901f\u3055\uff09\n",
      "   + \u6700\u7d42\u7684\u306b\u6700\u9069\u30a2\u30fc\u30e0\u3092\u307b\u307c\u78ba\u5b9f\u306b\u9078\u629e\u3059\u308b\u78ba\u7387\uff08\u3042\u308b\u3044\u306f\u3001\u6700\u9069\u3067\u306a\u3044\u30a2\u30fc\u30e0\u3092\u9078\u629e\u3057\u3066\u3057\u307e\u3046\u78ba\u7387\uff09\n",
      "   + \u6700\u7d42\u7684\u306a\u5229\u76ca\n"
     ]
    },
    {
     "cell_type": "markdown",
     "metadata": {},
     "source": [
      "### \u30e9\u30f3\u30c0\u30e0\u306a\u9078\u629e\n",
      "\n",
      "\u5b9f\u88c5\u306e\u30b5\u30f3\u30d7\u30eb\u3068\u3057\u3066\u3001\u5404\u30b9\u30ed\u30c3\u30c8\u3092\u5747\u7b49\u306a\u78ba\u7387\u3067\u30e9\u30f3\u30c0\u30e0\u306b\u9078\u3076 RandomPolicy \u3092\u5b9f\u88c5\u3057\u3066\u307f\u307e\u3057\u3087\u3046\u3002\n",
      "\n",
      "$0 \\sim n-1$ \u3092\u5747\u7b49\u306b\u9078\u3076\u95a2\u6570\u306f `np.random.randint` \u304c\u4f7f\u7528\u3067\u304d\u307e\u3059\u3002$n$ \u3092\u5f97\u308b\u306b\u306f `slot_scores()` \u306e\u9577\u3055\u3092\u4f7f\u3044\u307e\u3059\u3002\n",
      "\n",
      "`i_record`\u306e\u5024\u3068\u3057\u3066\u306f\u3001\u6700\u826f\u306earm\u3092\u6307\u5b9a\u3057\u3001\u6700\u826f\u306e\u30a2\u30fc\u30e0\u304c\u9078\u629e\u3055\u308c\u305f\u6bd4\u7387\u3092\u30e2\u30cb\u30bf\u30fc\u3059\u308b\u3053\u3068\u306b\u3057\u307e\u3059\u3002\uff08`choose()`\u306e\u4e2d\u3067`i_record`\u3092\u4f7f\u7528\u3057\u3066\u306f\u3044\u3051\u307e\u305b\u3093\uff09"
     ]
    },
    {
     "cell_type": "code",
     "collapsed": false,
     "input": [
      "class RandomChoice(Game):\n",
      "    def __init__(self, slots, i_record):\n",
      "        super(RandomChoice, self).__init__(slots, i_record)     \n",
      "    def choose(self):\n",
      "        return np.random.randint(self.n_arms())\n",
      "    \n",
      "p = RandomChoice([Arm(0.5), Arm(0.6)], 1)\n",
      "p.play()\n",
      "plt.xscale('log')\n",
      "p.plot_win_prob()\n",
      "plt.show()\n",
      "plt.xscale('log')\n",
      "p.plot_choice_prob()\n",
      "plt.show()"
     ],
     "language": "python",
     "metadata": {},
     "outputs": [
      {
       "metadata": {},
       "output_type": "display_data",
       "png": "[encoded data removed]",
       "text": [
        "<matplotlib.figure.Figure at 0x1084dd210>"
       ]
      },
      {
       "metadata": {},
       "output_type": "display_data",
       "png": "[encoded data removed]",
       "text": [
        "<matplotlib.figure.Figure at 0x108851450>"
       ]
      }
     ],
     "prompt_number": 5
    },
    {
     "cell_type": "markdown",
     "metadata": {},
     "source": [
      "### \u6700\u521d\u306b\u63a2\u7d22\u3059\u308b\n",
      "\n",
      "\u6b21\u306b\u3001\u6700\u521d\u306e\u4e00\u5b9a\u671f\u9593\u63a2\u7d22\u3092\u884c\u3044\u3001\u6b8b\u308a\u306e\u6642\u9593\u3092\u63a2\u7d22\u671f\u9593\u3067\u6700\u826f\u3060\u3063\u305f\u3082\u306e\u306b\u96c6\u4e2d\u3059\u308b\u3053\u3068\u306b\u3057\u307e\u3057\u3087\u3046\u3002\u3044\u308f\u3086\u308b\u300cAB\u30c6\u30b9\u30c8\u300d\u3068\u3044\u3046\u3001\u6700\u521d\u306b\u30c6\u30b9\u30c8\u671f\u9593\u3092\u8a2d\u3051\u308b\u30bf\u30a4\u30d7\u306e\u3082\u306e\u304c\u3053\u308c\u306b\u76f8\u5f53\u3057\u307e\u3059\u3002\n",
      "\n",
      "\u5168\u8a66\u884c\u56de\u6570\u306e\u3046\u3061\u3001\u63a2\u7d22\u306b\u4f7f\u3046\u5272\u5408\u3092 `ratio` \u3068\u3044\u3046\u5909\u6570\u3067\u6307\u5b9a\u3059\u308b\u3053\u3068\u306b\u3057\u307e\u3059\u3002"
     ]
    },
    {
     "cell_type": "code",
     "collapsed": false,
     "input": [
      "\"\"\"\n",
      "\u4e00\u5b9a\u56de\u6570\u3060\u3051\u63a2\u7d22\u3092\u884c\u3044\u3001\u4ee5\u5f8c\u306f\u63a2\u7d22\u7d50\u679c\u3067\u6700\u826f\u306e\u3082\u306e\u3060\u3051\u3092\u9078\u629e\u3059\u308b\n",
      "\"\"\"\n",
      "class SearchFirst(Game):\n",
      "    # \u30b3\u30f3\u30b9\u30c8\u30e9\u30af\u30bf\u5f15\u6570\u3092\u8ffd\u52a0\u3059\u308b\u3053\u3068\u3082\u3067\u304d\u308b\n",
      "    def __init__(self, slots, i_record, ratio):\n",
      "        super(SearchFirst, self).__init__(slots, i_record)\n",
      "        # \u5404\u30a2\u30fc\u30e0\u306e\u6700\u4f4e\u63a2\u7d22\u56de\u6570\n",
      "        self.n_test_play = self.n_plays()*ratio/self.n_arms()\n",
      "        # -1=\u6700\u826f\u306e\u30a2\u30fc\u30e0\u3092\u672a\u6c7a\u5b9a\u306e\u72b6\u614b\n",
      "        self.i_max = -1\n",
      "        \n",
      "    # \u3059\u3067\u306b\u3042\u308b\u30e1\u30bd\u30c3\u30c9\u3092\u7d99\u627f\u3057\u3066\u3001override \u3067\u304d\u308b\n",
      "    def reset(self):\n",
      "        super(SearchFirst, self).reset()\n",
      "        self.i_max = -1\n",
      "        \n",
      "    def choose(self):\n",
      "        if (self.i_max >= 0):\n",
      "            return self.i_max\n",
      "        else:\n",
      "            # ss \u306e\u8981\u7d20 = (\u6dfb\u5b57, (\u52dd\u6570, \u30d7\u30ec\u30a4\u6570))\u3001\u63a2\u7d22\u4e0d\u5341\u5206\u306a\u30b9\u30ed\u30c3\u30c8\u3092\u63a2\u3059\n",
      "            ss = filter(lambda t: t[1][1]<self.n_test_play ,enumerate(self.arm_scores()))\n",
      "            if (len(ss)==0):\n",
      "                # (\u6dfb\u5b57, \u52dd\u7387) \u306e\u30ea\u30b9\u30c8\u3092\u7528\u3044\u3066\u6700\u826f\u306e\u8155\u3092\u6c7a\u5b9a\u3059\u308b\n",
      "                ips = enumerate([float(w)/float(n) for w,n in self.arm_scores()])\n",
      "                self.i_max = max(ips, key=lambda t: t[1])[0]\n",
      "                return self.i_max\n",
      "            else:\n",
      "                # \u63a2\u7d22\u4e0d\u5341\u5206\u306a\u30b9\u30ed\u30c3\u30c8\u3092\u63a2\u7d22\u3059\u308b\n",
      "                return ss[0][0]\n",
      "\n",
      "# ratio \u3092 0.0001 \u3068\u304b\u5c0f\u3055\u304f\u3059\u308b\u3068\u3001a\u30b9\u30ed\u30c3\u30c8(p=0.5)\u306e\u65b9\u304c\u826f\u304b\u3063\u305f\u3068\u8aa4\u89e3\u3059\u308b\u30b1\u30fc\u30b9\u304c\u751f\u3058\u308b\u3002\n",
      "# \u4f55\u56de\u304b\u8a66\u3059\u3068\u304b\u3001\u78ba\u7387\u306e\u5dee\u3092\u5c0f\u3055\u304f\u3059\u308b\u3068\u304b\u3001\u5404\u81ea\u8a66\u3057\u3066\u307f\u308b\u3053\u3068\n",
      "p = SearchFirst([Arm(0.5), Arm(0.6)], 1, 0.001)\n",
      "p.play()\n",
      "plt.xscale('log')\n",
      "p.plot_win_prob()\n",
      "plt.show()\n",
      "plt.xscale('log')\n",
      "p.plot_choice_prob()\n",
      "plt.show()"
     ],
     "language": "python",
     "metadata": {},
     "outputs": [
      {
       "metadata": {},
       "output_type": "display_data",
       "png": "[encoded data removed]",
       "text": [
        "<matplotlib.figure.Figure at 0x1084dd2d0>"
       ]
      },
      {
       "metadata": {},
       "output_type": "display_data",
       "png": "[encoded data removed]",
       "text": [
        "<matplotlib.figure.Figure at 0x108bb6a50>"
       ]
      }
     ],
     "prompt_number": 6
    },
    {
     "cell_type": "markdown",
     "metadata": {},
     "source": [
      "### $\\epsilon$-greedy ($\\epsilon$-\u8caa\u6b32)\n",
      "\n",
      "$\\epsilon$-greedy\u30a2\u30eb\u30b4\u30ea\u30ba\u30e0\u306f\u3001\n",
      "\n",
      "* \u5e38\u6642\u5c0f\u3055\u306a\u78ba\u7387 $\\epsilon$ \u3067\u63a2\u7d22(\u30e9\u30f3\u30c0\u30e0\u306b\u9078\u629e)\u3092\u884c\u3046\n",
      "* \u6b8b\u308a(\u78ba\u7387 $1-\\epsilon$) \u306f\u3001\u73fe\u6642\u70b9\u3067\u6700\u826f\u306e\u30b9\u30ed\u30c3\u30c8\u3092\u9078\u3076\n",
      "\n",
      "\u3068\u3044\u3046\u3082\u306e\u3067\u3059\u3002\n",
      "\n",
      "EpsilonGreedyPolicy\u3092\u5b9f\u88c5\u3057\u306a\u3055\u3044\u3002\u30b3\u30f3\u30b9\u30c8\u30e9\u30af\u30bf\u5f15\u6570\u3068\u3057\u3066 `eps` ($\\epsilon$) \u3092\u53d6\u308b\u3088\u3046\u306b\u3057\u3001\u52d5\u4f5c\u78ba\u8a8d\u3057\u306a\u3055\u3044\u3044\u3002\n",
      "\n",
      "\u73fe\u6642\u70b9\u3067\u306e\u5404\u30a2\u30fc\u30e0\u306e\u52dd\u7387\u3092\u8a08\u7b97\u3059\u308b\u969b\u306b\u3001\u672a\u8a66\u884c\u306e\u30a2\u30fc\u30e0\u306e\u3064\u3044\u3066\u30bc\u30ed\u5272\u308a\u30a8\u30e9\u30fc\u304c\u767a\u751f\u3059\u308b\u306e\u3067\u3001\u305d\u308c\u3092\u56de\u907f\u3059\u308b\u5de5\u592b\u304c\u5fc5\u8981\u3067\u3059\u3002\n",
      "\n",
      "* `choose()` \u306e\u4e2d\u306e\u30ed\u30b8\u30c3\u30af\u3067\u5f37\u5236\u7684\u306b\u5404\u30a2\u30fc\u30e0\u3092\uff11\u56de\u3065\u3064\u30d7\u30ec\u30a4\u3055\u305b\u308b\n",
      "* `n_win/n_play` \u306e\u8a08\u7b97\u3092\u3001`(n_win+0.0001)/(n_play+0.0001)` \u306e\u3088\u3046\u306b\u5fae\u5c0f\u91cf\u3092\u8db3\u3057\u3066\u8a08\u7b97\u3059\u308b\uff08\u3053\u308c\u3060\u3068\u8a66\u884c\u56de\u6570\uff10\u306e\u3082\u306e\u306f\u78ba\u7387\uff11\u6271\u3044\u306b\u306a\u3063\u3066\u9078\u629e\u3055\u308c\u308b\uff09\n",
      "\n",
      "\u306a\u3069\u9069\u5b9c\u56de\u907f\u3057\u3066\u304f\u3060\u3055\u3044\u3002"
     ]
    },
    {
     "cell_type": "code",
     "collapsed": false,
     "input": [
      "class EpsilonGreedy(Game):\n",
      "    def __init__(self, slots, i_record, eps):\n",
      "        ...\n",
      "    def choose(self):\n",
      "        ...\n",
      "\n",
      "p = EpsilonGreedy([Arm(0.5), Arm(0.6)], 1, 0.1)\n",
      "p.play()\n",
      "plt.xscale('log')\n",
      "p.plot_win_prob()\n",
      "plt.show()\n",
      "plt.xscale('log')\n",
      "p.plot_choice_prob()\n",
      "plt.show()"
     ],
     "language": "python",
     "metadata": {},
     "outputs": [
      {
       "ename": "SyntaxError",
       "evalue": "invalid syntax (<ipython-input-7-1ef5c38baa6e>, line 3)",
       "output_type": "pyerr",
       "traceback": [
        "\u001b[0;36m  File \u001b[0;32m\"<ipython-input-7-1ef5c38baa6e>\"\u001b[0;36m, line \u001b[0;32m3\u001b[0m\n\u001b[0;31m    ...\u001b[0m\n\u001b[0m    ^\u001b[0m\n\u001b[0;31mSyntaxError\u001b[0m\u001b[0;31m:\u001b[0m invalid syntax\n"
       ]
      }
     ],
     "prompt_number": 7
    },
    {
     "cell_type": "markdown",
     "metadata": {},
     "source": [
      "### Boltzmann \u63a2\u7d22 (Softmax)\n",
      "\n",
      "\u6642\u523b $t+1$ (= \u904e\u53bb\u306e\u63a2\u7d22\u56de\u6570\u304c $t$ \u56de, \u3064\u307e\u308a `n_total == `$\\;t$)\u306b\u3001\u30b9\u30ed\u30c3\u30c8 $i$ \u3092\u9078\u629e\u3059\u308b\u78ba\u7387 $p_i(t+1)$\u3092\u3001\n",
      "\n",
      "$$ p_i(t+1) = \\frac{\\exp[{\\frac{\\mu_i(t)}{\\tau(t)}}]}{\\sum_{i}\\exp[{\\frac{\\mu_i(t)}{\\tau(t)}}]}$$\n",
      "\n",
      "\u3068\u3059\u308b\u3082\u306e\u3067\u3059\u3002\u305f\u3060\u3057 $\\mu_i(t)$ \u306f\u6642\u523b $t$ \u3067\u306e\u30b9\u30ed\u30c3\u30c8 $i$ \u306e\u5e73\u5747\u52dd\u7387\u3092\u8868\u3057\u307e\u3059\u3002\n",
      "$\\tau(t)$ \u306f\u6642\u9593\u304c\u305f\u3064\u306b\u3064\u308c\u3066 $0$ \u306b\u8fd1\u3065\u304f\u3088\u3046\u306a\u95a2\u6570\u3092\u7528\u3044\u307e\u3059\u3002\n",
      "\n",
      "* $\\tau(t) \\to 0$ \u306e\u6975\u9650\u3067\u306f\u3001$p_i(t+1)$ \u306f $\\mu_i(t)$ \u304c\u6700\u5927\u3068\u306a\u308b $i$ \u3067\u306e\u307f $1$\u3001\u305d\u308c\u4ee5\u5916\u306e $i$ \u3067 $0$ \u3068\u306a\u308a\u307e\u3059\u3002\u3064\u307e\u308a\u8caa\u6b32\u6cd5\u3068\u7b49\u3057\u304f\u306a\u308a\u307e\u3059\u3002\n",
      "* $\\tau(t) \\to \\infty$ \u306e\u6975\u9650\u3067\u306f\u3001$p_i(t+1)$ \u306f $\\mu_i(t)$ \u306b\u4f9d\u5b58\u305b\u305a\u5f53\u78ba\u7387\u306b\u306a\u308a\u307e\u3059\u3002\u3064\u307e\u308a\u30e9\u30f3\u30c0\u30e0\u9078\u629e\u306b\u306a\u308a\u307e\u3059\u3002\n",
      "\n",
      "\u3064\u307e\u308a Boltsmann \u63a2\u7d22\u306f\u3001\u6700\u521d\u306e\u3046\u3061\u306f\u30e9\u30f3\u30c0\u30e0\u306b\u5f53\u78ba\u7387\u3067\u63a2\u7d22\u3092\u884c\u3044\u3001\u6700\u5f8c\u306e\u65b9\u306f\u8caa\u6b32\u6cd5\u7684\u306b\u5b9f\u7e3e\u304c\u6700\u826f\u306e\u3082\u306e\u3060\u3051\u3092\u9078\u629e\u3059\u308b\u3001\u3068\u3044\u3046\u306e\u3092\u9023\u7d9a\u7684\u306b\u5909\u5316\u3055\u305b\u308b\u3088\u3046\u306a\u632f\u308b\u821e\u3044\u3092\u3057\u307e\u3059\u3002\n",
      "\n",
      "$\\tau(t)$ \u306e\u4f8b\u3068\u3057\u3066\u306f\u3001\n",
      "$$\\tau(t) \\to C \\frac{\\log t}{t}$$ \u306e\u3088\u3046\u306a\u95a2\u6570\u3067\u3059\u3002\uff08$C$ \u306f\u8abf\u7bc0\u3059\u3079\u304d\u30d1\u30e9\u30e1\u30fc\u30bf\u3067\u30010.5, 0.6 \u306e\u6bd4\u8f03\u306e\u30b1\u30fc\u30b9\u306a\u3089\u4f8b\u3048\u3070 C=100 \u3050\u3089\u3044\u304b\u3089\u8abf\u6574\u3057\u3066\u307f\u3066\u304f\u3060\u3055\u3044\u3002\uff09\n",
      "\n",
      "$t$ \u304c $t+2$ \u3067\u3042\u3063\u3066\u3082\u5927\u5dee\u306a\u3044\u306e\u3067\u3001\u305d\u306e\u3088\u3046\u306a\u5909\u63db\u3067\u30bc\u30ed\u5272\u308a\u3092\u56de\u907f\u3059\u308b\u306e\u3082\u3042\u308a\u3067\u3059\u3057\u3001$t$ \u304c\u5c0f\u3055\u306a\u3068\u3053\u308d\u3067\u306f(\u6bd4\u8f03\u7684\u5927\u304d\u306a\u5024\u306a\u3089)\u5b9a\u6570\u3067\u3082\u652f\u969c\u306f\u7121\u3044\u3067\u3059\u3002\n",
      "\n",
      "\uff03\u3042\u308b\u3044\u306f\u9762\u5012\u3067\u3042\u308c\u3070\u3001$\\tau(t) = C$ \u306e\u3088\u3046\u306b\u56fa\u5b9a\u5024\u3068\u3057\u3066\u5b9f\u88c5\u3057\u3066\u307f\u3066\u3082\u826f\u3044\u3067\u3059\u3002\n",
      "\n",
      "\u3053\u306e\u30e2\u30c7\u30eb\u306f\u7269\u7406\u5b66\u3092\u77e5\u3063\u3066\u3044\u308b\u4eba\u306f\u3001$\\mu_i$ \u3092\u72b6\u614b $i$ \u306e\u30a8\u30cd\u30eb\u30ae\u30fc\u3001$\\tau$ \u3092\u6e29\u5ea6\u3068\u8003\u3048\u308b\u3068\u3001\u30dc\u30eb\u30c4\u30de\u30f3\u5206\u5e03\u306e\u8868\u5f0f\u3068\u306a\u3063\u3066\u3044\u308b($k_B=1$)\u3053\u3068\u304c\u308f\u304b\u308b\u3068\u601d\u3044\u307e\u3059\u3002\n",
      "\n",
      "\u3042\u308b\u96e2\u6563\u78ba\u7387\u5206\u5e03\u304b\u3089\u30e9\u30f3\u30c0\u30e0\u306b\u9078\u3076\u306b\u306f `np.random.choice(len(ps), 1, ps)[0]` \u304c\u4f7f\u3048\u307e\u3059\u3002\u4f46\u3057`ps`\u306f\u78ba\u7387\u306e\u30ea\u30b9\u30c8\u3068\u3057\u307e\u3059\u3002\n",
      "\n",
      "\u307e\u305f\u3001\u6700\u7d42\u7684\u306a\u7d50\u679c\u306e $p_i(t+1)$ \u306f $0 \\sim 1$ \u306b\u53ce\u307e\u308b\u3068\u3057\u3066\u3082\u3001\u6307\u6570\u95a2\u6570\u306e\u7d50\u679c\u306f\u6d6e\u52d5\u5c0f\u6570\u70b9\u6570\u3067\u8868\u73fe\u3067\u304d\u308b\u7bc4\u56f2\u3092\u305f\u3084\u3059\u304f\u8d85\u3048\u3066\u3057\u307e\u3046\u305f\u3081\u3001$p_i(t+1)$ \u306e\u4ee3\u308f\u308a\u306b\u3001$\\log p_i(t+1)$\u3092\u8a08\u7b97\u3059\u308b\u306e\u304c\u826f\u3044\u3067\u3057\u3087\u3046\n",
      "$$\\log p_i(t+1) = \\frac{\\mu_i(t)}{\\tau(t)} - \\log\\left\\{\\sum_{i}\\exp[{\\frac{\\mu_i(t)}{\\tau(t)}}]\\right\\}$$\n",
      "\u305d\u306e\u8a08\u7b97\u306e\u969b\u306b\u306f `scipy.misc.logsumexp` \u95a2\u6570\u3092\u4f7f\u7528\u3059\u308b\u306e\u304c\u826f\u3044\u3067\u3059\u3002"
     ]
    },
    {
     "cell_type": "code",
     "collapsed": false,
     "input": [
      "from scipy.misc import logsumexp\n",
      "class Boltzmann(Game):\n",
      "    # \u30b3\u30f3\u30b9\u30c8\u30e9\u30af\u30bf\u5f15\u6570\u3092\u8ffd\u52a0\u3059\u308b\u3053\u3068\u3082\u3067\u304d\u308b\n",
      "    def __init__(self, slots, i_record, c):\n",
      "        ...\n",
      "        \n",
      "    def choose(self):\n",
      "        ...\n",
      "\n",
      "p = Boltzmann([Arm(0.5), Arm(0.6)], 1, 100.0)\n",
      "p.play()\n",
      "plt.xscale('log')\n",
      "p.plot_win_prob()\n",
      "plt.show()\n",
      "plt.xscale('log')\n",
      "p.plot_choice_prob()\n",
      "plt.show()"
     ],
     "language": "python",
     "metadata": {},
     "outputs": []
    },
    {
     "cell_type": "markdown",
     "metadata": {},
     "source": [
      "## UCB1\n",
      "\n",
      "\u6642\u523b $t$ \u306b\u304a\u3044\u3066\u3001\u30a2\u30fc\u30e0 $i$ \u3092\u65e2\u306b $n_i$ \u56de\u8a66\u884c\u3057\u3066\u3001$w_i$ \u56de\u52dd\u3063\u305f\u3068\u3057\u307e\u3057\u3087\u3046\u3002$\\mu_i = \\frac{w_i}{n_i}$ \u3067\u3059\u304c\u3001\u4e8c\u9805\u5206\u5e03\u306b\u5f93\u3046\u3068\u8003\u3048\u308b\u3068 $\\mu_i$ \u306e\u5206\u6563\u306f $\\frac{\\mu_i(1-\\mu_i)}{n_i}$ \u3067\u3059\u3002\n",
      "\n",
      "\u3064\u307e\u308a\u3001$\\mu_i$ \u306e\u4e0d\u78ba\u5b9a\u6027\u306f\u304a\u304a\u3088\u305d $n_i^{-1}$ \u306b\u6bd4\u4f8b\u3059\u308b\u3068\u8003\u3048\u3089\u308c\u3001\u30a2\u30fc\u30e0$i$\u306e\u52dd\u7387\u306f\u9ad8\u3005 $\\mu_i(t) + \\sqrt{\\frac{C}{n_i(t)}}$ \u7a0b\u5ea6\u306e\u5927\u304d\u3055\u3001\u307f\u305f\u3044\u306b\u8003\u3048\u3089\u308c\u307e\u3059\u3002\n",
      "\n",
      "\u3064\u307e\u308a\u5b9f\u7e3e $\\mu_i$ \u306b\u3001\u6642\u9593 $t$ \u3068\u5171\u306b $1/\\sqrt{n_i(t)}$ \u7684\u306b\u6e1b\u5c11\u3059\u308b\u9805\u3092\u8db3\u3057\u3066\u3001\u63a2\u7d22\u306e\u5fc5\u8981\u6027\u3092\u8868\u73fe\u3057\u3001\u305d\u306e\u5024\u304c\u5927\u304d\u3044\u30a2\u30fc\u30e0\u3092\u9078\u3079\u3070\u826f\u3044\u3001\u3068\u8003\u3048\u308b\u3053\u3068\u304c\u51fa\u6765\u307e\u3059\u3002\n",
      "\n",
      "\u3053\u306e\u8003\u3048\u306b\u57fa\u3065\u3044\u305f\u30a2\u30eb\u30b4\u30ea\u30ba\u30e0\u304c UCB1 (Upper Confidence Bound 1) \u3068\u3044\u3046\u30a2\u30eb\u30b4\u30ea\u30ba\u30e0\u3067\u3059\u3002\n",
      "\n",
      "\u3053\u306e\u30a2\u30eb\u30b4\u30ea\u30ba\u30e0\u3067\u306f\u3001\n",
      "$$B_{UCB}(i, t+1) = \\mu_i(t) + \\sqrt{\\frac{2 \\log t}{n_i(t)}}$$\n",
      "\u3068\u3044\u3046\u5024\u3092\u8a08\u7b97\u3057\u3001$B_{UCB}(i,t+1)$ \u306e\u5024\u304c\u6700\u5927\u306b\u30a2\u30fc\u30e0 $i$ \u3092\u9078\u629e\u3057\u307e\u3059\u3002($\\log t$ \u304c\u51fa\u3066\u304f\u308b\u7406\u7531\u306f\u3053\u3053\u3067\u306f\u8aac\u660e\u3057\u307e\u305b\u3093)\n",
      "\n",
      "\u4f8b\u306b\u3088\u3063\u3066\u3001$t$ \u304c\u5c0f\u3055\u3044\u3068\u3053\u308d\u3067\u306e\u95a2\u6570\u306e\u5f62\u306f\u3042\u307e\u308a\u5f71\u97ff\u3057\u307e\u305b\u3093\u3057\u3001$t$ \u3092 $t+1$ \u306a\u3069\u306b\u7f6e\u304d\u63db\u3048\u3066\u6570\u5024\u8a08\u7b97\u4e0a\u306e\u30a8\u30e9\u30fc\u3092\u56de\u907f\u3057\u3066\u3082\u7d50\u679c\u306b\u5f71\u97ff\u306f\u4e0e\u3048\u307e\u305b\u3093\u3002"
     ]
    },
    {
     "cell_type": "code",
     "collapsed": false,
     "input": [
      "class UCB1(Game):\n",
      "    def __init__(self, slots, i_record):\n",
      "        ...\n",
      "                \n",
      "    def choose(self):\n",
      "        ...\n",
      "\n",
      "p = UCB1([Arm(0.5), Arm(0.6)], 1)\n",
      "p.play()\n",
      "plt.xscale('log')\n",
      "p.plot_win_prob()\n",
      "plt.show()\n",
      "plt.xscale('log')\n",
      "p.plot_choice_prob()\n",
      "plt.show()"
     ],
     "language": "python",
     "metadata": {},
     "outputs": []
    },
    {
     "cell_type": "markdown",
     "metadata": {},
     "source": [
      "### Thompson Sampling\n",
      "\n",
      "Thompson Sampling \u306f\u30d9\u30a4\u30ba\u7684\u306a\u8003\u3048\u306b\u57fa\u3065\u3044\u305f\u30a2\u30eb\u30b4\u30ea\u30ba\u30e0\u3067\u3059\u3002\u30d9\u30a4\u30ba\u7684\u306b\u306f\u3001\u5404\u30a2\u30fc\u30e0\u306e\u52dd\u7387\u306f\u6570\u5024\u3067\u306f\u306a\u304f\u5206\u5e03\u3092\u6301\u3063\u305f\u95a2\u6570\u3068\u3057\u3066\u8003\u3048\u307e\u3059\u3002\n",
      "\n",
      "\u5404\u30a2\u30fc\u30e0\u306e\u52dd\u3061\u6570\u306e\u5206\u5e03\u304c\u4e8c\u9805\u5206\u5e03\u306b\u5f93\u3046\u3068\u3044\u3046\u8a71\u306f\u3001\u5148\u306b UCB1 \u306e\u3068\u3053\u308d\u3067\u3082\u8ff0\u3079\u307e\u3057\u305f\u3002\n",
      "\u4e8c\u9805\u5206\u5e03\u306e\u4e8b\u524d\u5206\u5e03\u3068\u3057\u3066\u306f\u30d9\u30fc\u30bf\u5206\u5e03\u3092\u7528\u3044\u308b\u3068\u90fd\u5408\u304c\u826f\u3044\u3067\u3059\u3002\n",
      "\u4e8b\u524d\u5206\u5e03\u306e\u30d9\u30fc\u30bf\u5206\u5e03\u306f $(\\alpha_i, \\beta_i)$ \u3092\u4e8b\u524d\u5206\u5e03\u306e\u30d1\u30e9\u30e1\u30fc\u30bf\u3068\u3057\u3001\u7121\u6761\u4ef6\u4e8b\u524d\u5206\u5e03(\u4e00\u69d8\u5206\u5e03\u3001$\\alpha_i=\\beta_i=1$) \u3068\u3057\u307e\u3059\u3002\n",
      "\n",
      "\u3059\u308b\u3068\u3001\u4f55\u56de\u304b\u8a66\u884c\u3057\u3066(\u52dd\u3061\u6570, \u8a66\u884c\u56de\u6570) \u304c $(w_i, n_i)$ \u3067\u3042\u308b\u30a2\u30fc\u30e0 $i$ \u306e\u52dd\u7387\u306e\u5206\u5e03\u306f\u3001\u30d9\u30a4\u30ba\u7684\u306b\u306f$\\mathrm{Beta}(w_i + \\alpha_i, n_i-w_i+\\beta_i)$ \u3068\u66f8\u3051\u307e\u3059\u3002\n",
      "\n",
      "\u6642\u523b $t$ \u3067$\\mathrm{Beta}(w_i + 1, n_i - w_i + 1)$ \u306b\u5f93\u3046 $\\theta_i$ \u3092\u6c42\u3081\u3001$\\theta_i$ \u304c\u6700\u5927\u306e $i$ \u3092\u9078\u3076\u3001\u3068\u3044\u3046\u306e\u304c\u3001Thompson Sampling \u3068\u547c\u3070\u308c\u308b\u30a2\u30eb\u30b4\u30ea\u30ba\u30e0\u3067\u3059\u3002\n",
      "\n",
      "$\\mathrm{Beta}(a, b)$ \u306b\u5f93\u3046\u4e71\u6570\u306f\u3001`scipy.stats.beta(a, b).rvs()` \u3067\u5f97\u308b\u3053\u3068\u304c\u51fa\u6765\u307e\u3059\u3002"
     ]
    },
    {
     "cell_type": "code",
     "collapsed": false,
     "input": [
      "from scipy.stats import beta\n",
      "class ThompsonSampling(Game):\n",
      "    def __init__(self, slots, i_record):\n",
      "        ...\n",
      "\n",
      "    def choose(self):\n",
      "        ...\n",
      "\n",
      "p = ThompsonSampling([Arm(0.5), Arm(0.6)], 1)\n",
      "p.play()\n",
      "plt.xscale('log')\n",
      "p.plot_win_prob()\n",
      "plt.show()\n",
      "plt.xscale('log')\n",
      "p.plot_choice_prob()\n",
      "plt.show()"
     ],
     "language": "python",
     "metadata": {},
     "outputs": []
    },
    {
     "cell_type": "markdown",
     "metadata": {},
     "source": [
      "## \u8ab2\u984c\n",
      "\n",
      "* \u5404\u7a2e\u30a2\u30eb\u30b4\u30ea\u30ba\u30e0\u3092\u5b9f\u88c5\u3057\u3001\u8abf\u6574\u3059\u3079\u304d\u30d1\u30e9\u30e1\u30fc\u30bf\u304c\u3042\u308c\u3070\u8abf\u6574\u3057\u3066\u307f\u307e\u3057\u3087\u3046\u3002\n",
      "* \u591a\u8155\u30d0\u30f3\u30c7\u30a3\u30c3\u30c8\u554f\u984c\u306e\u30a2\u30eb\u30b4\u30ea\u30ba\u30e0\u3068\u3057\u3066\u3069\u308c\u304c\u512a\u308c\u3066\u3044\u307e\u3057\u305f\u304b\uff1f\u512a\u308c\u3066\u3044\u308b\u306e\u5c3a\u5ea6\u306f\u8272\u3005\u8003\u3048\u3089\u308c\u307e\u3059\u304c\u3001\u6b63\u3057\u3044\u30a2\u30fc\u30e0\u3092\u307b\u307c\u9078\u629e\u3059\u308b\u3088\u3046\u306b\u306a\u308b\u53ce\u675f\u306e\u901f\u3055\u3092\u6307\u6a19\u3068\u3057\u307e\u3057\u3087\u3046\u3002\uff12\u3064\u76ee\u306e\u30b0\u30e9\u30d5\u304c $0.95$ \u3068\u304b $0.99$ \u306b\u306a\u308b\u901f\u3055\u3092\u6307\u6a19\u306b\u3057\u3066\u307f\u307e\u3057\u3087\u3046\u3002\n",
      "* \u524d\u56de\u306e\u8b1b\u7fa9\u5185\u5bb9\u3092\u5fa9\u7fd2\u3057\u3001\u6570\u5024\u5b9f\u9a13\u3057\u305f\u6761\u4ef6\uff08\u30a2\u30fc\u30e0\u306e\u78ba\u7387\u306e\u5024\uff09\u3067\u3042\u308c\u3070\u3001\u691c\u5b9a\u3092\u884c\u3046\u306a\u3089\u3070\u30b5\u30f3\u30d7\u30eb\u6570\u304c\u3069\u306e\u7a0b\u5ea6\u5fc5\u8981\u306a\u306e\u304b\u8003\u3048\u3066\u307f\u307e\u3057\u3087\u3046\u3002\n",
      "* \u691c\u5b9a\u3092\u884c\u3046\u306e\u304c\u826f\u3044\u304b\u3001\u591a\u8155\u30d0\u30f3\u30c7\u30a3\u30c3\u30c8\u554f\u984c\u3068\u3057\u3066\u6271\u3046\u306e\u304c\u826f\u3044\u304b\u3001\u8003\u3048\u3066\u307f\u307e\u3057\u3087\u3046\u3002"
     ]
    },
    {
     "cell_type": "code",
     "collapsed": false,
     "input": [],
     "language": "python",
     "metadata": {},
     "outputs": [],
     "prompt_number": 7
    },
    {
     "cell_type": "code",
     "collapsed": false,
     "input": [],
     "language": "python",
     "metadata": {},
     "outputs": []
    }
   ],
   "metadata": {}
  }
 ]
}