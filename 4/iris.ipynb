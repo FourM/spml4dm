{
 "metadata": {
  "name": "",
  "signature": "sha256:e71ae5e79ba2c3275fdcd0d1f40c5c7f270a194ce93792ac2f085ec3cdcf61f7"
 },
 "nbformat": 3,
 "nbformat_minor": 0,
 "worksheets": [
  {
   "cells": [
    {
     "cell_type": "markdown",
     "metadata": {},
     "source": [
      "# \u8b58\u5225\u554f\u984c\u306e\u57fa\u672c\n",
      "\n",
      "## \u306f\u3058\u3081\u306b\n",
      "\n",
      "\u8b58\u5225\u554f\u984c\u306f\u3001\u300c\u5165\u529b\u30c7\u30fc\u30bf $\\to$ \u30ab\u30c6\u30b4\u30ea\u300d\u3068\u3044\u3046\u6559\u5e2b\u30c7\u30fc\u30bf\u304c\u4e0e\u3048\u3089\u308c\u305f\u72b6\u6cc1\u3067\u3001\u672a\u77e5\u306e\u5165\u529b\u30c7\u30fc\u30bf\u306b\u5bfe\u3057\u3066\u9069\u5207\u306a\u30ab\u30c6\u30b4\u30ea\u3092\u8fd4\u305b\u3001\u3068\u3044\u3046\u554f\u984c\u3060\u3068\u8003\u3048\u3089\u308c\u307e\u3059\u3002\n",
      "\n",
      "\u305d\u3057\u3066\u3001\u5165\u529b\u30c7\u30fc\u30bf\u306e\u6b21\u5143\u6570\u304c\u9ad8\u3044\u5834\u5408\u306b\u306f\u3001\u300c\u9ad8\u6b21\u5143\u306e\u5143\u30c7\u30fc\u30bf $\\to$ \u4f4e\u6b21\u5143\u306e\u30c7\u30fc\u30bf\u300d\u3068\u3044\u3046\u6b21\u5143\u524a\u6e1b\u306e\u5909\u63db\u3068\u3001\u300c\u4f4e\u6b21\u5143\u306e\u30c7\u30fc\u30bf $\\to$ \u30ab\u30c6\u30b4\u30ea\u300d\u3068\u554f\u984c\u3092\u5206\u5272\u3057\u3066\u8003\u3048\u308b\u3068\u6709\u52b9\u306a\u5834\u5408\u304c\u3042\u308a\u307e\u3059\u3002\n",
      "\n",
      "\u3053\u306e\u6642\u3001\u524d\u8005\u306e\u6b21\u5143\u524a\u6e1b\u306e\u5909\u63db\u306f\u3001\u30c7\u30fc\u30bf\u306e\u524d\u51e6\u7406\u3068\u8003\u3048\u308b\u3053\u3068\u3082\u51fa\u6765\u307e\u3059\u304c\u3001\u6b21\u5143\u6570\u306e\u9ad8\u3044\u5927\u91cf\u306e\u5143\u30c7\u30fc\u30bf\u304b\u3089\u3001\u6b21\u5143\u6570\u304c\u4f4e\u3044\u5c11\u6570\u306e\u610f\u5473\u306e\u3042\u308b\u7279\u5fb4\u7684\u306a\u30c7\u30fc\u30bf\u3092\u62bd\u51fa\u3057\u3066\u3044\u308b\u3001\u3068\u3082\u8003\u3048\u3089\u308c\u307e\u3059\u3002\n",
      "\n",
      "\u4eca\u56de\u306f\n",
      "\n",
      "* iris \u30c7\u30fc\u30bf\u306e\u8aad\u307f\u8fbc\u307f\u3068\u8868\u793a\u306e\u65b9\u6cd5\n",
      "* \u7dda\u5f62\u8b58\u5225\u5668\u3092\u4f7f\u3063\u3066\u5206\u985e\u3059\u308b\n",
      "* \u6b21\u5143\u524a\u6e1b\n",
      "    + \u4e3b\u6210\u5206\u5206\u6790\n",
      "    + \u591a\u69d8\u4f53\u5b66\u7fd2\n",
      "    + \u305d\u306e\u4ed6\u306e\u6b21\u5143\u5727\u7e2e\n",
      "* \u305d\u306e\u4ed6\u306e\u8b58\u5225\u5668\n",
      "    + SVC (Support Vector Classifier)\n",
      "    + \u6c7a\u5b9a\u6728\n",
      "    + \u30e9\u30f3\u30c0\u30e0\u30d5\u30a9\u30ec\u30b9\u30c8\n",
      "\n",
      "\u3068\u3044\u3063\u305f\u8a71\u3092\u3057\u307e\u3059\u3002\n"
     ]
    },
    {
     "cell_type": "markdown",
     "metadata": {},
     "source": [
      "### \u8272\u3005\u3068 import\n",
      "\n",
      "* \u8272\u3005\u306b\u4f7f\u7528\u3059\u308b numpy\n",
      "* \u30d7\u30ed\u30c3\u30c8\u7528\u306e matplotlib\n",
      "* \u30c7\u30fc\u30bf\u30d5\u30ec\u30fc\u30e0\u3092\u7528\u3044\u305f\u6563\u5e03\u56f3\u7528\u306b pandas\n",
      "* \u89e3\u6790\u5bfe\u8c61\u30c7\u30fc\u30bf\u306e sklearn.dataset\n",
      "* \u4ea4\u5dee\u691c\u5b9a\u306e\u305f\u3081\u306e sklearn.cross_validation"
     ]
    },
    {
     "cell_type": "code",
     "collapsed": false,
     "input": [
      "%matplotlib inline\n",
      "import numpy as np\n",
      "import matplotlib.pyplot as plt\n",
      "import pandas as pd\n",
      "from sklearn import datasets\n",
      "from sklearn import cross_validation"
     ],
     "language": "python",
     "metadata": {},
     "outputs": []
    },
    {
     "cell_type": "markdown",
     "metadata": {},
     "source": [
      "## iris \u30c7\u30fc\u30bf\u30bb\u30c3\u30c8\u306e\u8aad\u307f\u8fbc\u307f\n",
      "\n",
      "\u8b58\u5225\u554f\u984c\u306e\u7df4\u7fd2\u7528\u30c7\u30fc\u30bf\u30bb\u30c3\u30c8\u3068\u3044\u3048\u3070 iris \u3068\u3044\u3046\u3053\u3068\u3067\u3001\u5404\u7a2e\u30a2\u30eb\u30b4\u30ea\u30ba\u30e0\u306e\u4f7f\u3044\u65b9\u3092\u3053\u306e\u30c7\u30fc\u30bf\u30bb\u30c3\u30c8\u3067\u7df4\u7fd2\u3057\u307e\u3059\u3002\n",
      "\n",
      "iris \u30c7\u30fc\u30bf\u30bb\u30c3\u30c8\u3067\u306f\u3001\u30a2\u30e4\u30e1\u306e\u82b1\u3073\u3089\u306e\u5e45\u3001\u9577\u3055\u3001\u304c\u304f\u306e\u5e45\u3001\u9577\u3055\u3068\u3044\u3046\u60c5\u5831\u304b\u3089\u3001\u30a2\u30e4\u30e1\u306e\u54c1\u7a2e\u3092\u8b58\u5225\u3059\u308b\u3053\u3068\u304c\u8ab2\u984c\u306b\u306a\u308a\u307e\u3059\u3002\n",
      "\n",
      "iris \u30c7\u30fc\u30bf\u30bb\u30c3\u30c8\u306f\u7d20\u6027\u306e\u6b21\u5143\u6570\u304c\u5c11\u306a\u304f\u3001\u4eba\u9593\u304c\u8996\u899a\u7684\u306b\u30c7\u30fc\u30bf\u3092\u7406\u89e3\u3057\u3084\u3059\u3044\u3068\u3044\u3046\u5229\u70b9\u304c\u3042\u308a\u307e\u3059\u3002\u30c7\u30fc\u30bf\u30bb\u30c3\u30c8\u306e\u8a73\u7d30\u306f\u4e0b\u8a18\u3092\u304a\u8aad\u307f\u304f\u3060\u3055\u3044\u3002"
     ]
    },
    {
     "cell_type": "code",
     "collapsed": false,
     "input": [
      "iris = datasets.load_iris()\n",
      "print iris.DESCR"
     ],
     "language": "python",
     "metadata": {},
     "outputs": []
    },
    {
     "cell_type": "markdown",
     "metadata": {},
     "source": [
      "## \u30c7\u30fc\u30bf\u306e\u53ef\u8996\u5316\n",
      "\n",
      "\u30c7\u30fc\u30bf\u3092\u53ef\u8996\u5316\u3059\u308b\u3053\u3068\u306f\u3001\u7406\u89e3\u3092\u52a9\u3051\u307e\u3059\u3002\n",
      "\n",
      "\u30c7\u30fc\u30bf\u306e\u6563\u5e03\u56f3\u30de\u30c8\u30ea\u30c3\u30af\u30b9\u306f pandas \u306e scatter_matrix \u3092\u4f7f\u3048\u3070\u7c21\u5358\u306b\u63cf\u753b\u3067\u304d\u307e\u3059\u3002"
     ]
    },
    {
     "cell_type": "code",
     "collapsed": false,
     "input": [
      "from pandas.tools.plotting import scatter_matrix\n",
      "df = pd.DataFrame(iris.data, columns=iris.feature_names)\n",
      "scatter_matrix(df, diagonal='hist', figsize=(8, 8));"
     ],
     "language": "python",
     "metadata": {},
     "outputs": []
    },
    {
     "cell_type": "markdown",
     "metadata": {},
     "source": [
      "\u30ab\u30c6\u30b4\u30ea\u5225\u306b\u8272\u5206\u3051/\u30de\u30fc\u30ab\u30fc\u306e\u5909\u66f4\u3092\u3059\u308b\u306b\u306f\u591a\u5c11\u5de5\u592b\u304c\u5fc5\u8981\u3067\u3059\u304c\u3001\u4f8b\u3048\u3070\u3053\u3093\u306a\u611f\u3058\u3067\u3067\u304d\u307e\u3059"
     ]
    },
    {
     "cell_type": "code",
     "collapsed": false,
     "input": [
      "import itertools\n",
      "plt.figure(figsize=(14, 8))\n",
      "for i, (x, y) in enumerate(itertools.combinations(range(4), 2)):\n",
      "    plt.subplot(2, 3, i + 1)\n",
      "    for t, marker, c in zip(range(3), '>ox', 'rgb'):\n",
      "        plt.scatter(\n",
      "            iris.data[iris.target == t, x],\n",
      "            iris.data[iris.target == t, y],\n",
      "            marker=marker, c=c\n",
      "        )\n",
      "    plt.xlabel(iris.feature_names[x])\n",
      "    plt.ylabel(iris.feature_names[y])\n",
      "    plt.grid()\n",
      "plt.show()"
     ],
     "language": "python",
     "metadata": {},
     "outputs": []
    },
    {
     "cell_type": "markdown",
     "metadata": {},
     "source": [
      "\u305d\u306e\u4ed6\u3001seaborn \u306a\u3069\u306e\u30e9\u30a4\u30d6\u30e9\u30ea\u3092\u4f7f\u3048\u3070\u66f4\u306b\u7f8e\u9e97\u306a\u30d7\u30ed\u30c3\u30c8\u3092\u63cf\u304f\u3053\u3068\u3082\u53ef\u80fd\u3067\u3059\u3002"
     ]
    },
    {
     "cell_type": "markdown",
     "metadata": {},
     "source": [
      "## \u7dda\u5f62\u8b58\u5225\u5668\n",
      "\n",
      "\u307e\u305a\u7dda\u5f62\u8b58\u5225\u3092\u8a66\u307f\u3066\u307f\u307e\u3057\u3087\u3046\u3002\u7dda\u5f62\u8b58\u5225\u306f\u3001\u3082\u3057\u3067\u304d\u305f\u3068\u3059\u308c\u3070\u3001\u4eba\u9593\u304c\u7d50\u679c\u3092\u7406\u89e3\u3057\u3084\u3059\u3044\u3001\u3068\u3044\u3046\u306e\u304c\u5229\u70b9\u3067\u3059\u3002\n",
      "\n",
      "\u7dda\u5f62\u8b58\u5225\u306e\u305f\u3081\u306b\u306f sklearn.svm \u306e LinearSVC \u3092\u4f7f\u7528\u3057\u307e\u3059\u3002\u30d0\u30c3\u30af\u30a8\u30f3\u30c9\u3067\u306f [liblinear](http://www.csie.ntu.edu.tw/~cjlin/liblinear/#document) \u3068\u3044\u3046\u30e9\u30a4\u30d6\u30e9\u30ea\u304c\u52d5\u3044\u3066\u3044\u307e\u3059\u3002\n",
      "\n",
      "\u4e0e\u3048\u308b\u3079\u304d\u30d1\u30e9\u30e1\u30fc\u30bf\u306f[sklearn \u306e\u30de\u30cb\u30e5\u30a2\u30eb\u306e\u8a18\u8ff0](http://scikit-learn.org/stable/modules/generated/sklearn.svm.LinearSVC.html#sklearn.svm.LinearSVC)\u3092\u53c2\u7167\u306e\u3053\u3068\u3002\n",
      "````\n",
      "sklearn.svm.LinearSVC(\n",
      "  penalty='l2',  // \u6b63\u5247\u5316\u9805\u306e\u95a2\u6570\u3002'l1' \u306b\u3059\u308b\u3068L1\u6b63\u5247\u5316\u3059\u308b\u3002\n",
      "  loss='squared_hinge', // \u640d\u5931\u95a2\u6570\u306e\u5f62\u72b6\n",
      "  dual=True, // \u53cc\u5bfe\u554f\u984c\u3092\u89e3\u304f\u304b\u3002n_samples > n_features \u306a\u3089 False \u304c\u826f\u3044\u3002\n",
      "  tol=0.0001, // \u8a08\u7b97\u306e\u505c\u6b62\u6761\u4ef6\n",
      "  C=1.0, // \u30c1\u30e5\u30fc\u30cb\u30f3\u30b0\u5bfe\u8c61\u306e\u30d1\u30e9\u30e1\u30fc\u30bf\u3002\u5c0f\u3055\u304f\u3059\u308b\u3068\u6b63\u5247\u5316\u9805\u304c\u5f37\u304f\u50cd\u304f\u3002\n",
      "  multi_class='ovr', // 'ovr'=one-vs-rest classifiers\n",
      "  fit_intercept=True, // \u5b9a\u6570\u9805\u3092\u542b\u3081\u308b\u304b\n",
      "  intercept_scaling=1, \n",
      "  class_weight=None, // \u30af\u30e9\u30b9\u9593\u306e\u30c7\u30fc\u30bf\u6570\u304c\u4e0d\u63c3\u3044\u306e\u6642\u306b\u3002\u2018auto\u2019\u3092\u6307\u5b9a\u3059\u308b\u3068\u81ea\u52d5\u3067\u8abf\u6574\u3059\u308b\u3002\n",
      "  verbose=0, \n",
      "  random_state=None, \n",
      "  max_iter=1000\n",
      ")\n",
      "````"
     ]
    },
    {
     "cell_type": "markdown",
     "metadata": {},
     "source": [
      "scikit-learn \u306fAPI\u30a4\u30f3\u30bf\u30fc\u30d5\u30a7\u30a4\u30b9\u304c\u7d71\u4e00\u3055\u308c\u3066\u3044\u308b\u305f\u3081\u3001\u5b66\u7fd2\u3068\u4e88\u6e2c\u3092\u3059\u308b\u3068\u304d\u306f\u3001\u8b58\u5225\u5668\u751f\u6210\u6642\u306e\u8a73\u7d30\u30d1\u30e9\u30e1\u30fc\u30bf\u3092\u9664\u3051\u3070\u3001\u4f7f\u7528\u3059\u308b\u30a2\u30eb\u30b4\u30ea\u30ba\u30e0\u306b\u3088\u3089\u305a\u540c\u3058\u3088\u3046\u306a\u4f7f\u3044\u65b9\u306b\u306a\u308a\u307e\u3059\u3002\n",
      "\n",
      "* \u30b3\u30f3\u30b9\u30c8\u30e9\u30af\u30bf\u306b\u30d1\u30e9\u30e1\u30fc\u30bf\u3092\u6e21\u3057\u3066\u5b66\u7fd2\u5668\u30aa\u30d6\u30b8\u30a7\u30af\u30c8\u3092\u751f\u6210\n",
      "* fit \u30e1\u30bd\u30c3\u30c9\u306b\u5b66\u7fd2\u30c7\u30fc\u30bf\u3092\u4e0e\u3048\u3066\u5b66\u7fd2\n",
      "* predict \u30e1\u30bd\u30c3\u30c9\u3092\u7528\u3044\u3066\u8b58\u5225\n",
      "\n",
      "\u4e0b\u8a18\u306e\u30b3\u30fc\u30c9\u306f\u4f55\u56de\u3082\u5b9f\u884c\u3059\u308b\u3068\u3001\u7684\u4e2d\u7387\u306f\u5909\u5316\u3057\u307e\u3059\u3002\u3053\u308c\u306f\u3001\n",
      "\n",
      "* cross_validation.train_test_split \u306e\u4e2d\u3067\u4e71\u6570\u304c\u4f7f\u308f\u308c\u3066\u3044\u308b\n",
      "* liblinear \u306e\u4e2d\u3067\u3082\u4e71\u6570\u304c\u4f7f\u308f\u308c\u308b\n",
      "\n",
      "\u3068\u3044\u3046\u4e8b\u60c5\u306b\u3088\u308b\u3068\u8003\u3048\u3089\u308c\u307e\u3059\u3002"
     ]
    },
    {
     "cell_type": "code",
     "collapsed": false,
     "input": [
      "# LinearSVC \u3092\u30a4\u30f3\u30dd\u30fc\u30c8\u3059\u308b\n",
      "from sklearn.svm import LinearSVC\n",
      "# \u5b66\u7fd2\u30c7\u30fc\u30bf\u3068\u30c6\u30b9\u30c8\u30c7\u30fc\u30bf\u30924:1\u306b\u5206\u5272\n",
      "train_data, test_data, train_target, test_target = cross_validation.train_test_split(iris.data, iris.target, test_size=0.2)\n",
      "# LinearSVC \u3092\u7528\u3044\u3066\u8b58\u5225\n",
      "clf = LinearSVC(dual=False, penalty='l1')\n",
      "# \u5b66\u7fd2\n",
      "clf.fit(train_data, train_target)\n",
      "# \u4e88\u6e2c\n",
      "pred = clf.predict(test_data)\n",
      "# \u4e88\u6e2c\u306e\u7684\u4e2d\u7387\n",
      "print \"Ratio=\",list(pred == test_target).count(True) / float(len(test_target))\n",
      "# \u4fc2\u6570\n",
      "print clf.coef_\n",
      "print clf.intercept_"
     ],
     "language": "python",
     "metadata": {},
     "outputs": []
    },
    {
     "cell_type": "markdown",
     "metadata": {},
     "source": [
      "## \u6b21\u5143\u524a\u6e1b\n",
      "\n",
      "### \u4e3b\u6210\u5206\u5206\u6790\n",
      "\n",
      "\u6563\u5e03\u56f3\u30de\u30c8\u30ea\u30c3\u30af\u30b9\u3092\u307f\u308b\u3068\u3001\u4e8c\u6b21\u5143\u306e\u6563\u5e03\u56f3\u3067\u30c7\u30fc\u30bf\u304c\u5341\u5206\u8b58\u5225\u53ef\u80fd\u306a\u69d8\u306b\u898b\u3048\u307e\u3059\u3002\n",
      "\u6b21\u5143\u524a\u6e1b\u3092\u884c\u3046\u624b\u6bb5\u3068\u3057\u3066\u3001\u4e3b\u6210\u5206\u5206\u6790(PCA=Principal Component Analysis)\u3068\u3044\u3046\u306e\u304c\u3042\u308a\u307e\u3059\u3002PCA\u3092\u4f7f\u3046\u3068\u3001\n",
      "\n",
      "* \u6b21\u5143\u3092\u524a\u6e1b\u3059\u308b\n",
      "* \u5404\u6210\u5206\u306e\u9593\u306e\u76f8\u95a2\u3092\u6d88\u3059\n",
      "\n",
      "\u304c\u884c\u308f\u308c\u307e\u3059\u3002\n",
      "\n",
      "\u4e3b\u6210\u5206\u5206\u6790\uff08\u3042\u308b\u3044\u306f\u305d\u308c\u3092\u542b\u3080\u6b21\u5143\u524a\u6e1b\uff09\u306b\u3064\u3044\u3066\u306f\u3001\u4f8b\u3048\u3070\u904e\u53bb\u306b\u884c\u308f\u308c\u305f[\u300c\u30d1\u30bf\u30fc\u30f3\u8a8d\u8b58\u3068\u6a5f\u68b0\u5b66\u7fd2\u52c9\u5f37\u4f1a\u300d\u7b2c22\u56de](http://nineties.github.io/prml-seminar/22.html#/)\u306a\u3069\u3092\u53c2\u8003\u306b\u3057\u3066\u304f\u3060\u3055\u3044\u3002\n",
      "\n",
      "scikit-learn \u306e\u5834\u5408\u306f\u3001decomposition.PCA \u3092\u7528\u3044\u308b\u3053\u3068\u3067\u884c\u3048\u307e\u3059\u3002\u4f7f\u3044\u65b9\u306e\u30a4\u30f3\u30bf\u30fc\u30d5\u30a7\u30a4\u30b9\u306f\u4f8b\u306b\u3088\u3063\u3066\u7d71\u4e00\u3055\u308c\u3066\u304a\u308a\u3001\n",
      "\n",
      "* \u5404\u7a2e\u30d1\u30e9\u30e1\u30fc\u30bf\u3092\u4e0e\u3048\u3066\u30aa\u30d6\u30b8\u30a7\u30af\u30c8\u3092\u751f\u6210\u3059\u308b\n",
      "* fit \u30e1\u30bd\u30c3\u30c9\u3067\u5b66\u7fd2\n",
      "* transform \u30e1\u30bd\u30c3\u30c9\u3067\u30c7\u30fc\u30bf\u3092\u5909\u63db\n",
      "\n",
      "\u3067\u3059\u3002\u30b0\u30e9\u30d5\u306f\u3001\u6b21\u5143\u6570\u3092\uff12\u306b\u843d\u3068\u3057\u305f\u30c7\u30fc\u30bf\u3067\u3059\u3002"
     ]
    },
    {
     "cell_type": "code",
     "collapsed": false,
     "input": [
      "from sklearn import decomposition\n",
      "pca = decomposition.PCA()\n",
      "pca.fit(iris.data)\n",
      "data_pca = pca.transform(iris.data)\n",
      "# \u56f3\u793a\u3059\u308b\n",
      "for t, marker, c in zip(range(3), '>ox', 'rgb'):\n",
      "    plt.scatter(\n",
      "        data_pca[iris.target == t, 0],\n",
      "        data_pca[iris.target == t, 1],\n",
      "        marker=marker, c=c,\n",
      "        label=['Iris-Setosa', 'Iris-Versicolour', 'Iris-Virginica'][t]\n",
      "    )\n",
      "    plt.legend(bbox_to_anchor=(1.5, 1))\n",
      "    plt.grid()\n",
      "plt.show()\n",
      "print pca.explained_variance_ratio_\n",
      "print pca.components_"
     ],
     "language": "python",
     "metadata": {},
     "outputs": []
    },
    {
     "cell_type": "markdown",
     "metadata": {},
     "source": [
      "\u3053\u306e\u6700\u521d\u306e2\u6b21\u5143\u306e\u30c7\u30fc\u30bf\u3092\u7528\u3044\u3066LinearSVC\u3092\u884c\u3044\u3001\u8b58\u5225\u306e\u69d8\u5b50\u3092\u56f3\u793a\u3057\u3066\u307f\u307e\u3057\u3087\u3046\u3002\n",
      "\n",
      "(\u8272\u5206\u3051\u304c\u4e2d\u9593\u8272\u3092\u591a\u7528\u3057\u3066\u3044\u3066\u898b\u8f9b\u3044\u5834\u5408\u306f[matplotlib\u306ecolormap](http://matplotlib.org/examples/color/colormaps_reference.html)\u3092\u53c2\u8003\u306b `cmap=plt.cm.coolwarm` \u306e coolwarm \u3092\u9069\u5f53\u306b\u5909\u66f4\u3057\u3066\u307f\u3066\u304f\u3060\u3055\u3044)"
     ]
    },
    {
     "cell_type": "code",
     "collapsed": false,
     "input": [
      "# data_pca \u3092\u7528\u3044\u3066\u3001\u4e0e\u3048\u3089\u308c\u305f\u8b58\u5225\u5668\u3092\u7528\u3044\u3066\u5b66\u7fd2\u3092\u884c\u3044\u3001\u7b49\u9ad8\u7dda\u3092\u56f3\u793a\u3059\u308b\n",
      "def draw_contour_and_data(data, clf):\n",
      "    # \u5b66\u7fd2\n",
      "    clf.fit(data[:,0:2], iris.target)\n",
      "    # \u7b49\u9ad8\u7dda\u8868\u793a\n",
      "    x_min, x_max = data[:,0].min()-1, data[:,0].max()+1\n",
      "    y_min, y_max = data[:,1].min()-1, data[:,1].max()+1\n",
      "    xx, yy = np.meshgrid(np.arange(x_min, x_max, 0.01),\n",
      "                         np.arange(y_min, y_max, 0.01))\n",
      "    z = clf.predict(np.c_[xx.ravel(), yy.ravel()])\n",
      "    z = z.reshape(xx.shape)\n",
      "    plt.contourf(xx, yy, z, levels=np.linspace(0., 2.0, 4), cmap=plt.cm.coolwarm)\n",
      "    plt.colorbar()\n",
      "    # \u30c7\u30fc\u30bf\u8868\u793a\n",
      "    for t, marker, c in zip(range(3), '>ox', 'rgb'):\n",
      "        plt.scatter(\n",
      "            data[iris.target == t, 0],\n",
      "            data[iris.target == t, 1],\n",
      "            marker=marker, c=c, \n",
      "            label=['Iris-Setosa', 'Iris-Versicolour', 'Iris-Virginica'][t]\n",
      "        )\n",
      "    plt.legend(bbox_to_anchor=(1.75, 1))\n",
      "    plt.grid()\n",
      "    plt.show()    \n",
      "\n",
      "# LinearSVC\u8b58\u5225\u5668\u3092\u4f5c\u3063\u3066\u7b49\u9ad8\u7dda\u3092\u66f8\u304f \n",
      "draw_contour_and_data(data_pca, LinearSVC(dual=False, penalty='l1'))"
     ],
     "language": "python",
     "metadata": {},
     "outputs": []
    },
    {
     "cell_type": "markdown",
     "metadata": {},
     "source": [
      "### \u591a\u69d8\u4f53\u5b66\u7fd2\n",
      "\n",
      "\u591a\u69d8\u4f53\u5b66\u7fd2\u306f\u3001\u9ad8\u6b21\u5143\u7a7a\u9593\u306e\u30c7\u30fc\u30bf\u70b9\u304c\u3001\u5b9f\u306f\u6b21\u5143\u306e\u4f4e\u3044\u66f2\u9762(=\u591a\u69d8\u4f53)\u4e0a\u306b\u5206\u5e03\u3057\u3066\u3044\u308b\u5834\u5408\u306b\u6709\u7528\u306a\u6b21\u5143\u524a\u6e1b\u306e\u624b\u6bb5\u3067\u3059\u3002\u591a\u69d8\u4f53\u5b66\u7fd2\u304c\u5411\u304f\u3088\u3046\u306a\u5178\u578b\u7684\u306a\u30c7\u30fc\u30bf\u3068\u3057\u3066\u3001\u300c\u30b9\u30a4\u30b9\u30ed\u30fc\u30eb\u300d\u3068\u547c\u3070\u308c\u308b\u30c7\u30fc\u30bf\u304c\u3042\u308a\u307e\u3059\u3002\n",
      "\n",
      "\u30b9\u30a4\u30b9\u30ed\u30fc\u30eb\u30c7\u30fc\u30bf\u3068\u3001iris \u306e\u30c7\u30fc\u30bf\u306b\u3064\u3044\u3066\u3001\u591a\u69d8\u4f53\u5b66\u7fd2\u3092\u8a66\u3057\u3066\u307f\u307e\u3057\u3087\u3046\u3002\u30b9\u30a4\u30b9\u30ed\u30fc\u30eb\u30c7\u30fc\u30bf\u306f\u4e0b\u8a18\u306e\u3088\u3046\u306b\u751f\u6210\u3067\u304d\u307e\u3059\u3002"
     ]
    },
    {
     "cell_type": "code",
     "collapsed": false,
     "input": [
      "from sklearn import datasets\n",
      "from mpl_toolkits.mplot3d import Axes3D\n",
      "swiss_X3, swiss_c = datasets.samples_generator.make_swiss_roll(n_samples=500)\n",
      "fig = plt.figure()\n",
      "ax = Axes3D(fig)\n",
      "ax.scatter(swiss_X3[:, 0], swiss_X3[:, 1], swiss_X3[:, 2], c=swiss_c, cmap=plt.cm.Spectral)\n",
      "plt.show()"
     ],
     "language": "python",
     "metadata": {},
     "outputs": []
    },
    {
     "cell_type": "markdown",
     "metadata": {},
     "source": [
      "#### \u591a\u6b21\u5143\u5c3a\u5ea6\u69cb\u6210\u6cd5\n",
      "\n",
      "\u591a\u6b21\u5143\u5c3a\u5ea6\u69cb\u6210\u6cd5 (Multidimensional scaling, MDS) \u306f\u591a\u69d8\u4f53\u5b66\u7fd2\u306e\u4e00\u4f8b\u3067\u3059\u304c\u3001\u5165\u529b\u30c7\u30fc\u30bf\u306e\u7dda\u5f62\u5909\u63db\u3092\u7528\u3044\u3066\u3001\u4f3c\u305f\u3082\u306e\u306f\u8fd1\u304f\u306b\u3001\u7570\u306a\u3063\u305f\u3082\u306e\u306f\u9060\u304f\u306b\u914d\u7f6e\u3059\u308b\u6b21\u5143\u524a\u6e1b\u3092\u884c\u3044\u307e\u3059\u3002\n",
      "\u3053\u308c\u3092\u4f7f\u3063\u3066\u6b21\u5143\u524a\u6e1b\u3057\u3066\u307f\u307e\u3057\u3087\u3046\u3002"
     ]
    },
    {
     "cell_type": "code",
     "collapsed": false,
     "input": [
      "from sklearn.manifold import MDS\n",
      "mds = MDS(n_components=2)\n",
      "X2_mds = mds.fit_transform(swiss_X3)\n",
      "plt.scatter(X2_mds[:, 0], X2_mds[:, 1], c=swiss_c, cmap=plt.cm.Spectral)\n",
      "plt.show()"
     ],
     "language": "python",
     "metadata": {},
     "outputs": []
    },
    {
     "cell_type": "markdown",
     "metadata": {},
     "source": [
      "MDS\u306f\u7dda\u5f62\u5909\u63db\u3057\u304b\u884c\u3048\u306a\u3044\u305f\u3081\u3001\u30b9\u30a4\u30b9\u30ed\u30fc\u30eb\u306e\u69cb\u9020\u3092\u4fdd\u3063\u3066\u3057\u304b\u5909\u63db\u3067\u304d\u307e\u305b\u3093\u3002\n",
      "\n",
      "iris \u306e\u30c7\u30fc\u30bf\u306f\u5143\u3005\u304c\uff12\u6b21\u5143\u30c7\u30fc\u30bf\u3068\u3057\u3066\u5206\u985e\u53ef\u80fd\u3067\u3042\u308b\u305f\u3081\u3001\u5927\u5dee\u306a\u3044\u72b6\u614b\u3067\u3059\u3002"
     ]
    },
    {
     "cell_type": "code",
     "collapsed": false,
     "input": [
      "mds = MDS(n_components=2, dissimilarity='euclidean') # MDS\u30aa\u30d6\u30b8\u30a7\u30af\u30c8\u3092\u4f5c\u6210\n",
      "data_mds = mds.fit_transform(iris.data) # \u6b21\u5143\u524a\u6e1b\u3059\u308b\n",
      "for t, marker, c in zip(range(3), '>ox', 'rgb'):\n",
      "    plt.scatter(\n",
      "            data_mds[iris.target == t, 0],\n",
      "            data_mds[iris.target == t, 1],\n",
      "            marker=marker, c=c, \n",
      "            label=['Iris-Setosa', 'Iris-Versicolour', 'Iris-Virginica'][t]\n",
      "        )\n",
      "plt.legend(bbox_to_anchor=(1.75, 1))\n",
      "plt.grid()\n",
      "plt.show()\n"
     ],
     "language": "python",
     "metadata": {},
     "outputs": []
    },
    {
     "cell_type": "markdown",
     "metadata": {},
     "source": [
      "### Isomap\n",
      "\n",
      "\u901a\u5e38\u3001\u591a\u69d8\u4f53\u5b66\u7fd2\u3068\u547c\u3070\u308c\u308b\u6b21\u5143\u524a\u6e1b\u306e\u4e00\u3064\u304c\u3053\u306e Isomap \u3067\u3059\u3002\uff08\u3053\u3061\u3089\u306f\u4ee5\u524d\u306e\u300c\u30d1\u30bf\u30fc\u30f3\u8a8d\u8b58\u3068\u6a5f\u68b0\u5b66\u7fd2\u52c9\u5f37\u4f1a\u300d\u7b2c22\u56de\u3067\u539f\u7406\u306e\u8aac\u660e(\u8cc7\u6599\u7121\u3057)\u304c\u3042\u308a\u307e\u3057\u305f\uff09\n",
      "\n",
      "\u4f7f\u3044\u65b9\u306f\u3084\u306f\u308a\u540c\u3058\u3067\u3059\u304c\u3001\u975e\u7dda\u5f62\u6027\u3092\u6271\u3048\u308b\u305f\u3081\u3001\u6709\u540d\u306a\u30b9\u30a4\u30b9\u30ed\u30fc\u30eb\u306e\u30c7\u30fc\u30bf\u306a\u3069\u306b\u3082\u6709\u7528\u3067\u3059\u3002"
     ]
    },
    {
     "cell_type": "code",
     "collapsed": false,
     "input": [
      "from sklearn.manifold import Isomap\n",
      "iso = Isomap(n_components=2)\n",
      "X2_iso = iso.fit_transform(swiss_X3)\n",
      "plt.scatter(X2_iso[:, 0], X2_iso[:, 1], c=swiss_c, cmap=plt.cm.Spectral)\n",
      "plt.show()"
     ],
     "language": "python",
     "metadata": {},
     "outputs": []
    },
    {
     "cell_type": "code",
     "collapsed": false,
     "input": [
      "iso = Isomap(n_components=2) # Isomap\u30aa\u30d6\u30b8\u30a7\u30af\u30c8\u3092\u4f5c\u6210\n",
      "data_isomap = iso.fit_transform(iris.data) # \u6b21\u5143\u524a\u6e1b\u3059\u308b\n",
      "for t, marker, c in zip(range(3), '>ox', 'rgb'):\n",
      "    plt.scatter(\n",
      "            data_isomap[iris.target == t, 0],\n",
      "            data_isomap[iris.target == t, 1],\n",
      "            marker=marker, c=c, \n",
      "            label=['Iris-Setosa', 'Iris-Versicolour', 'Iris-Virginica'][t]\n",
      "        )\n",
      "plt.legend(bbox_to_anchor=(1.75, 1))\n",
      "plt.grid()\n",
      "plt.show()   "
     ],
     "language": "python",
     "metadata": {},
     "outputs": []
    },
    {
     "cell_type": "markdown",
     "metadata": {},
     "source": [
      "#### Spectral Embedding\n",
      "\n",
      "Spectral Embedding \u306f\u30b0\u30e9\u30d5\u30e9\u30d7\u30e9\u30b7\u30a2\u30f3\u3068\u3044\u3046\u3082\u306e\u3092\u7528\u3044\u3066\u591a\u69d8\u4f53\u5b66\u7fd2\u3092\u884c\u3044\u307e\u3059\u3002\u8a73\u7d30\u306f scikit-learn \u306e\u30de\u30cb\u30e5\u30a2\u30eb\u304b\u3089\u8ad6\u6587\u3092\u8fbf\u3063\u3066\u304f\u3060\u3055\u3044\u3002\u4f7f\u3044\u65b9\u306f\u4eca\u307e\u3067\u3068\u540c\u3058\u3067\u3059\u3002\uff08iris \u306e\u306f\u5b9f\u884c\u3059\u308b\u3068 Warning \u304c\u51fa\u307e\u3059\uff09"
     ]
    },
    {
     "cell_type": "code",
     "collapsed": false,
     "input": [
      "from sklearn.manifold import SpectralEmbedding\n",
      "se = SpectralEmbedding(n_components=2)\n",
      "X2_se = se.fit_transform(swiss_X3)\n",
      "plt.scatter(X2_se[:, 0], X2_se[:, 1], c=swiss_c, cmap=plt.cm.Spectral)\n",
      "plt.show()"
     ],
     "language": "python",
     "metadata": {},
     "outputs": []
    },
    {
     "cell_type": "code",
     "collapsed": false,
     "input": [
      "se = SpectralEmbedding(n_components=2) # SpectralEmbedding\u30aa\u30d6\u30b8\u30a7\u30af\u30c8\u3092\u4f5c\u6210\n",
      "data_spec_em = se.fit_transform(iris.data) # \u6b21\u5143\u524a\u6e1b\u3059\u308b\n",
      "for t, marker, c in zip(range(3), '>ox', 'rgb'):\n",
      "    plt.scatter(\n",
      "            data_spec_em[iris.target == t, 0],\n",
      "            data_spec_em[iris.target == t, 1],\n",
      "            marker=marker, c=c, \n",
      "            label=['Iris-Setosa', 'Iris-Versicolour', 'Iris-Virginica'][t]\n",
      "        )\n",
      "plt.legend(bbox_to_anchor=(1.75, 1))\n",
      "plt.grid()"
     ],
     "language": "python",
     "metadata": {},
     "outputs": []
    },
    {
     "cell_type": "markdown",
     "metadata": {},
     "source": [
      "\u3053\u308c\u3089\u306e\u5909\u63db\u3057\u305f\u30c7\u30fc\u30bf\u3092\u7dda\u5f62\u8b58\u5225\u5668\u306b\u304b\u3051\u3066\u307f\u307e\u3057\u3087\u3046\u3002"
     ]
    },
    {
     "cell_type": "code",
     "collapsed": false,
     "input": [
      "draw_contour_and_data(data_mds, LinearSVC(dual=False, penalty='l1'))\n",
      "draw_contour_and_data(data_isomap, LinearSVC(dual=False, penalty='l1'))\n",
      "draw_contour_and_data(data_spec_em, LinearSVC(dual=False, penalty='l1'))"
     ],
     "language": "python",
     "metadata": {},
     "outputs": []
    },
    {
     "cell_type": "markdown",
     "metadata": {},
     "source": [
      "## \u30c6\u30ad\u30b9\u30c8\u51e6\u7406\u306a\u3069\u3067\u306e\u6b21\u5143\u524a\u6e1b\n",
      "\n",
      "\u4eca\u56de\u8aac\u660e\u3057\u3066\u3044\u308b iris \u306e\u30c7\u30fc\u30bf\u306e\u6b21\u5143\u306f\uff14\u3057\u304b\u3042\u308a\u307e\u305b\u3093\u304c\u3001\u30c6\u30ad\u30b9\u30c8\u51e6\u7406\u306a\u3069\u3092\u884c\u3046\u5834\u5408\u306f\u6b21\u5143\u6570\u304c\u975e\u5e38\u306b\u5927\u304d\u304f\u306a\u308a\u307e\u3059\u3002\n",
      "\n",
      "\u4f8b\u3048\u3070\u3001\u542b\u307e\u308c\u3066\u3044\u308b\u5358\u8a9e\u306e\u500b\u6570\u3092\u4f7f\u3063\u3066\u6587\u7ae0\u3092\u30d9\u30af\u30c8\u30eb\u5316\u3059\u308b Bag-of-Words \u8868\u73fe\uff08\u3042\u308b\u3044\u306f\u305d\u308c\u3092\u66f4\u306b\u5909\u63db\u3057\u305f Tf-Idf\u8868\u73fe\uff09\u306e\u5834\u5408\u3001\u30d9\u30af\u30c8\u30eb\u306e\u6b21\u5143\u306f\u8f9e\u66f8\u306b\u542b\u307e\u308c\u308b\u5358\u8a9e\u306e\u6570\u3068\u7b49\u3057\u304f\u306a\u308a\u307e\u3059\u3002\n",
      "\n",
      "\u305d\u308c\u3089\u306e\u6587\u7ae0\u306e\u80cc\u5f8c\u306b\u306f\u3001\u5c11\u6570\u306e\u30c8\u30d4\u30c3\u30af\u3068\u547c\u3070\u308c\u308b\u3082\u306e\u304c\u5b58\u5728\u3057\u3001\u30c8\u30d4\u30c3\u30af\u306b\u5fdc\u3058\u305f\u5358\u8a9e\u304c\u73fe\u308c\u3066\u3044\u308b\u3001\u3068\u8003\u3048\u308b\u30c8\u30d4\u30c3\u30af\u30e2\u30c7\u30ea\u30f3\u30b0\u3092\u884c\u3046\u3053\u3068\u306b\u3088\u3063\u3066\u3001\u6b21\u5143\u306e\u9ad8\u3044\u5404\u6587\u7ae0\u3092\u3001\u30c8\u30d4\u30c3\u30af\u6570\u306b\u7b49\u3057\u3044\u4f4e\u3044\u6b21\u5143\u306b\u5909\u63db\u3057\u3066\u3044\u308b\u3001\u3068\u8003\u3048\u308b\u3053\u3068\u3082\u53ef\u80fd\u3067\u3059\u3002\n",
      "\n",
      "## \u305d\u306e\u4ed6\u306e\u6b21\u5143\u524a\u6e1b\n",
      "\n",
      "scikit-learn \u306b\u306f [Unsupervised dimensionality reduction](http://scikit-learn.org/stable/modules/unsupervised_reduction.html) \u306b\u69d8\u3005\u306a\u6b21\u5143\u524a\u6e1b\u306e\u624b\u6cd5\u304c\u66f8\u304b\u308c\u3066\u3044\u307e\u3059\u3002\n",
      "\n",
      "## \u7d20\u6027\u9078\u629e\n",
      "\n",
      "\u6b21\u5143\u524a\u6e1b\u3068\u306f\u3061\u3087\u3063\u3068\u9055\u3044\u307e\u3059\u304c\u3001\u8b58\u5225\u306b\u52b9\u679c\u306e\u7121\u3044/\u5c11\u306a\u3044\u5c5e\u6027\u3092\u9664\u53bb\u3059\u308b\u3053\u3068\u3067\u8aac\u660e\u5909\u6570\u3092\u6e1b\u3089\u3057\u3001\u30e2\u30c7\u30eb\u3092\u7c21\u5358\u306b\u3059\u308b\u3053\u3068\u3082\u30c7\u30fc\u30bf\u30de\u30a4\u30cb\u30f3\u30b0\u3068\u3044\u3046\u8996\u70b9\u3067\u306f\u91cd\u8981\u3067\u3059\u3002\n",
      "scikit-learn \u3067\u306f [Feature selection](http://scikit-learn.org/stable/modules/feature_selection.html) \u306e\u9805\u306b\u8272\u3005\u306a\u7d20\u6027\u9078\u629e\u306e\u30a2\u30eb\u30b4\u30ea\u30ba\u30e0\u304c\u7528\u610f\u3055\u308c\u3066\u3044\u307e\u3059\u3002\u307e\u305f\u3001\u5f8c\u306e\u8aac\u660e\u3067\u8ff0\u3079\u308b\u30e9\u30f3\u30c0\u30e0\u30d5\u30a9\u30ec\u30b9\u30c8\u3082\u3053\u306e\u76ee\u7684\u306b\u4f7f\u7528\u3067\u304d\u307e\u3059\u3002"
     ]
    },
    {
     "cell_type": "markdown",
     "metadata": {},
     "source": [
      "## SVC\n",
      "\n",
      "\u7dda\u5f62\u8b58\u5225\u3067\u304d\u306a\u304b\u3063\u305f\u5834\u5408\u306b\u306f\u3001\u5404\u7a2e\u30ab\u30fc\u30cd\u30eb\u3092\u7528\u3044\u305fSVC\u3092\u8a66\u3059\u3053\u3068\u306b\u306a\u308a\u307e\u3059\u3002\n",
      "[sklearn.svm.SVC](http://scikit-learn.org/stable/modules/generated/sklearn.svm.SVC.html#sklearn.svm.SVC) \u306b\u4f7f\u7528\u6cd5\u306e\u8a73\u7d30\u304c\u8f09\u3063\u3066\u3044\u307e\u3059\u3002\u5b9f\u88c5\u306f libsvm \u304c\u5185\u90e8\u3067\u4f7f\u7528\u3055\u308c\u3066\u3044\u307e\u3059\u3002\n",
      "\n",
      "### \u591a\u9805\u5f0f\u30ab\u30fc\u30cd\u30eb\n",
      "\n",
      "\u8a66\u3057\u306b3\u6b21\u306e\u591a\u9805\u5f0f\u30ab\u30fc\u30cd\u30eb\u3067\u8a66\u3057\u3066\u307f\u307e\u3057\u3087\u3046\u3002"
     ]
    },
    {
     "cell_type": "code",
     "collapsed": false,
     "input": [
      "from sklearn.svm import SVC\n",
      "# \u5b66\u7fd2\u30c7\u30fc\u30bf\u3068\u30c6\u30b9\u30c8\u30c7\u30fc\u30bf\u30924:1\u306b\u5206\u5272\n",
      "train_data, test_data, train_target, test_target = cross_validation.train_test_split(iris.data, iris.target, test_size=0.2)\n",
      "# LinearSVC \u3092\u7528\u3044\u3066\u8b58\u5225\n",
      "clf = SVC(kernel='poly', degree=3, )\n",
      "# \u5b66\u7fd2\n",
      "clf.fit(train_data, train_target)\n",
      "# \u4e88\u6e2c\n",
      "pred = clf.predict(test_data)\n",
      "# \u4e88\u6e2c\u306e\u7684\u4e2d\u7387\n",
      "print list(pred == test_target).count(True) / float(len(test_target))"
     ],
     "language": "python",
     "metadata": {},
     "outputs": []
    },
    {
     "cell_type": "code",
     "collapsed": false,
     "input": [
      "draw_contour_and_data(data_pca, SVC(kernel='poly', degree=3, ))"
     ],
     "language": "python",
     "metadata": {},
     "outputs": []
    },
    {
     "cell_type": "markdown",
     "metadata": {},
     "source": [
      "\u660e\u793a\u7684\u306b one-vs-one \u306e\u8b58\u5225\u5668\u3092\uff13\u3064\u7d44\u307f\u5408\u308f\u305b\u3066\u8b58\u5225\u5668\u3092\u4f5c\u3089\u305b\u308b\u5834\u5408\u306f\u3001\u4e0b\u8a18\u306e\u3088\u3046\u306b\u306a\u308a\u307e\u3059\u3002\u51fa\u529b\u3092\u307f\u308b\u3068\u5185\u90e8\u3067\u306f\uff13\u3064\u5b58\u5728\u3057\u3066\u3044\u308b\u3053\u3068\u304c\u5224\u308a\u307e\u3059\u3002"
     ]
    },
    {
     "cell_type": "code",
     "collapsed": false,
     "input": [
      "from sklearn.multiclass import OneVsOneClassifier\n",
      "clf = OneVsOneClassifier(SVC(kernel='poly', degree=3, ))\n",
      "draw_contour_and_data(data_pca, clf)\n",
      "print clf.estimators_"
     ],
     "language": "python",
     "metadata": {},
     "outputs": []
    },
    {
     "cell_type": "markdown",
     "metadata": {},
     "source": [
      "### RBF\u30ab\u30fc\u30cd\u30eb\n",
      "\n",
      "\u4e00\u822c\u306b\u306f\u591a\u9805\u5f0f\u30ab\u30fc\u30cd\u30eb\u3067\u306f\u306a\u304f[RBF\u30ab\u30fc\u30cd\u30eb](http://scikit-learn.org/stable/modules/svm.html#svm-kernels)\u3092\u4f7f\u3046\u3053\u3068\u304c\u591a\u3044\u304b\u3068\u601d\u3044\u307e\u3059\u3002RBF\u30ab\u30fc\u30cd\u30eb\u306f\u4e0b\u8a18\u306e\u3088\u3046\u306a\u5f62\u3092\u3057\u3066\u3044\u307e\u3059\u3002\n",
      "\n",
      "$$K(x, x') = \\exp (-\\gamma |x - x'|^2).$$\n",
      "\n",
      "RBF\u306e\u5834\u5408\u306f\u3001gamma \u306b\u6b63\u306e\u5024\u3092\u6307\u5b9a\u3057\u307e\u3059\u3002\u3053\u306e\u5024\u304c\u5c0f\u3055\u904e\u304e\u308b\u3068\u920d\u611f\u306b\u3001\u5927\u304d\u904e\u304e\u308b\u3068\u30c7\u30fc\u30bf\u70b9\u306b\u904e\u654f\u306b\u53cd\u5fdc\u3057\u307e\u3059\u3002"
     ]
    },
    {
     "cell_type": "code",
     "collapsed": false,
     "input": [
      "draw_contour_and_data(data_pca, SVC(kernel='rbf', gamma=0.1, ))"
     ],
     "language": "python",
     "metadata": {},
     "outputs": []
    },
    {
     "cell_type": "code",
     "collapsed": false,
     "input": [
      "draw_contour_and_data(data_pca, SVC(kernel='rbf', gamma=10.0, ))"
     ],
     "language": "python",
     "metadata": {},
     "outputs": []
    },
    {
     "cell_type": "markdown",
     "metadata": {},
     "source": [
      "C(\u6b63\u5247\u5316\u9805\u306e\u52b9\u304d\u65b9) \u3068 gamma(RBF\u306e\u5e83\u304c\u308a) \u306e\u5024\u3092 grid_search \u3092\u7528\u3044\u3066\u81ea\u52d5\u3067\u8abf\u6574\u3055\u305b\u3066\u307f\u307e\u3057\u3087\u3046\u3002"
     ]
    },
    {
     "cell_type": "code",
     "collapsed": false,
     "input": [
      "from sklearn import grid_search\n",
      "params = {'C':[0.1, 0.3, 1.0, 3.0, 10.0],\n",
      "              'gamma':[0.1, 0.3, 1.0, 3.0, 10.0]}\n",
      "clf = grid_search.GridSearchCV(SVC(kernel='rbf', gamma=1.0), params)\n",
      "clf.fit(train_data, train_target)\n",
      "print clf\n",
      "draw_contour_and_data(data_pca, clf)"
     ],
     "language": "python",
     "metadata": {},
     "outputs": []
    },
    {
     "cell_type": "markdown",
     "metadata": {},
     "source": [
      "## \u6c7a\u5b9a\u6728\n",
      "\n",
      "\u30c7\u30fc\u30bf\u30de\u30a4\u30cb\u30f3\u30b0\u3068\u3044\u3046\u89b3\u70b9\u304b\u3089\u306f\u3001\u30c7\u30fc\u30bf\u304b\u3089\u4f55\u3089\u304b\u306e\u898f\u5247\u3092\u5c0e\u304d\u51fa\u3057\u305f\u3044\u3068\u8003\u3048\u307e\u3059\u3002\u305d\u306e\u5834\u5408\u306b\u3001\u898f\u5247\u3092\u81ea\u52d5\u751f\u6210\u3059\u308b\u6c7a\u5b9a\u6728\u304c\u671b\u307e\u3057\u3044\u5834\u5408\u3082\u3042\u308a\u307e\u3059\u3002\n",
      "\n",
      "scikit-learn\u3067\u306f[tree.DecisionTreeClassifier](http://scikit-learn.org/stable/modules/generated/sklearn.tree.DecisionTreeClassifier.html)\u3092\u4f7f\u3046\u3060\u3051\u3067\u540c\u69d8\u306b\u5206\u985e\u5668\u3092\u4f5c\u6210\u3067\u304d\u307e\u3059\u3002"
     ]
    },
    {
     "cell_type": "code",
     "collapsed": false,
     "input": [
      "from sklearn import tree\n",
      "draw_contour_and_data(data_pca, tree.DecisionTreeClassifier())"
     ],
     "language": "python",
     "metadata": {},
     "outputs": []
    },
    {
     "cell_type": "markdown",
     "metadata": {},
     "source": [
      "\u4e0a\u8a18\u306e\u8b58\u5225\u3092\u4e0e\u3048\u308b\u6761\u4ef6\u306f\u4e0b\u8a18\u306e\u65b9\u6cd5\u3067\u3001\u4eba\u9593\u306b\u308f\u304b\u308a\u3084\u3059\u3044\u8868\u73fe\u3067\u51fa\u529b\u3067\u304d\u307e\u3059\u3002\u307e\u305a\u51fa\u529b\u3092 dot \u30d5\u30a1\u30a4\u30eb\u3068\u3044\u3046\u5f62\u5f0f\u3067\u51fa\u529b\u3055\u305b\u307e\u3059\u3002\uff08\u3053\u3053\u306fPCA\u306e\u7d50\u679c\u3067\u306f\u306a\u304f\u3001\u5143\u306e\uff14\u6b21\u5143\u306e\u30c7\u30fc\u30bf\u3067\u51e6\u7406\u3057\u3066\u3044\u307e\u3059)"
     ]
    },
    {
     "cell_type": "code",
     "collapsed": false,
     "input": [
      "from sklearn.externals.six import StringIO  \n",
      "clf = tree.DecisionTreeClassifier()\n",
      "clf.fit(train_data, train_target)\n",
      "with open(\"iris.dot\", 'w') as f:\n",
      "    f = tree.export_graphviz(clf, out_file=f)"
     ],
     "language": "python",
     "metadata": {},
     "outputs": []
    },
    {
     "cell_type": "markdown",
     "metadata": {},
     "source": [
      "\u6b21\u306b\u3001dot \u30d5\u30a1\u30a4\u30eb\u3092\u63cf\u753b\u3059\u308b[Graphviz](http://www.graphviz.org)\u306f\u4f8b\u3048\u3070Mac\u3067\u3042\u308c\u3070\n",
      "````\n",
      "$ brew install graphviz\n",
      "````\n",
      "\n",
      "\u306a\u3069\u3067\u5c0e\u5165\u3067\u304d\u307e\u3059\u3002\n",
      "\n",
      "````\n",
      "$ dot -Tpdf iris.dot -o iris.pdf\n",
      "````\n",
      "\n",
      "\u306e\u3088\u3046\u306b\u51e6\u7406\u3059\u308b\u3068\u3001[PDF\u30d5\u30a1\u30a4\u30eb](iris.pdf)\u3068\u3057\u3066\u6761\u4ef6\u3092\u51fa\u529b\u3067\u304d\u307e\u3059\u3002(pydot \u3068\u3044\u3046\u306e\u3092\u5c0e\u5165\u3059\u308c\u3070 ipython notebook\u3060\u3051\u3067\u3082\u51e6\u7406\u3067\u304d\u308b\u3089\u3057\u3044)"
     ]
    },
    {
     "cell_type": "markdown",
     "metadata": {},
     "source": [
      "# \u30e9\u30f3\u30c0\u30e0\u30d5\u30a9\u30ec\u30b9\u30c8\n",
      "\n",
      "\u30e9\u30f3\u30c0\u30e0\u30d5\u30a9\u30ec\u30b9\u30c8\u306f\u3001\n",
      "\n",
      "* \u30e9\u30f3\u30c0\u30e0\u30b5\u30f3\u30d7\u30ea\u30f3\u30b0\u3055\u308c\u305f\u30c8\u30ec\u30fc\u30cb\u30f3\u30b0\u30c7\u30fc\u30bf\u3068\n",
      "* \u30e9\u30f3\u30c0\u30e0\u306b\u9078\u629e\u3055\u308c\u305f\u8aac\u660e\u5909\u6570\u3092\u7528\u3044\u308b\u3053\u3068\u306b\u3088\u308a\u3001\n",
      "* \u76f8\u95a2\u306e\u4f4e\u3044\u6c7a\u5b9a\u6728\u7fa4\u3092\u4f5c\u6210\u3059\u308b\u3053\u3068\u306b\u3088\u308b\n",
      "* \u30a2\u30f3\u30b5\u30f3\u30d6\u30eb\u5b66\u7fd2\u3067\u3059\u3002\n",
      "\n",
      "\u30e9\u30f3\u30c0\u30e0\u30d5\u30a9\u30ec\u30b9\u30c8\u3092\u4f7f\u3063\u3066\u8b58\u5225\u5668\u3092\u4f5c\u308b\u969b\u306b\u3001\u6c7a\u5b9a\u6728\u7fa4\u306e\u60c5\u5831\u3092\u7528\u3044\u308b\u3053\u3068\u3067\u3001\u5c5e\u6027\u306e\u91cd\u8981\u5ea6\u3092\u8a55\u4fa1\u3067\u304d\u307e\u3059\u3002\u91cd\u8981\u5ea6\u306e\u9ad8\u3044\u5c5e\u6027\u3092\u9078\u3076\u3053\u3068\u3067\u3001\u6b21\u5143\u524a\u6e1b\u3092\u884c\u3046\u3053\u3068\u304c\u3067\u304d\u307e\u3059\u3002"
     ]
    },
    {
     "cell_type": "code",
     "collapsed": false,
     "input": [
      "from sklearn import ensemble\n",
      "draw_contour_and_data(data_pca, ensemble.ExtraTreesClassifier())"
     ],
     "language": "python",
     "metadata": {},
     "outputs": []
    },
    {
     "cell_type": "markdown",
     "metadata": {},
     "source": [
      "\u30e9\u30f3\u30c0\u30e0\u30d5\u30a9\u30ec\u30b9\u30c8\u306b\u3088\u308b\u91cd\u8981\u5c5e\u6027\u306e\u9078\u629e\u306f\u4e0b\u8a18\u306e\u3088\u3046\u306b\u306a\u308a\u307e\u3059\u3002\uff08\u3053\u3053\u306fPCA\u306e\u7d50\u679c\u3067\u306f\u306a\u304f\u3001\u5143\u306e\uff14\u6b21\u5143\u306e\u30c7\u30fc\u30bf\u3067\u51e6\u7406\u3057\u3066\u3044\u307e\u3059\uff09"
     ]
    },
    {
     "cell_type": "code",
     "collapsed": false,
     "input": [
      "clf = ensemble.ExtraTreesClassifier()\n",
      "clf.fit(train_data, train_target)\n",
      "importances = clf.feature_importances_\n",
      "std = np.std([tree.feature_importances_ for tree in clf.estimators_],\n",
      "             axis=0)\n",
      "indices = np.argsort(importances)[::-1]\n",
      "plt.bar(range(4), importances[indices],\n",
      "       color=\"r\", yerr=std[indices], align=\"center\")\n",
      "plt.xticks(range(4), indices)\n",
      "plt.xlim([-1, 4])\n",
      "plt.show()\n",
      "print list(enumerate(iris.feature_names))"
     ],
     "language": "python",
     "metadata": {},
     "outputs": []
    },
    {
     "cell_type": "markdown",
     "metadata": {},
     "source": [
      "\u30e9\u30f3\u30c0\u30e0\u30d5\u30a9\u30ec\u30b9\u30c8\u306a\u306e\u3067\u3001\u5b9f\u884c\u306e\u305f\u3073\u306b\u7d50\u679c\u304c\u5909\u308f\u308b\u3068\u601d\u3044\u307e\u3059\u304c\u3001\u6700\u521d\u306e\uff12\u3064\u306e\u5909\u6570\u304c\u91cd\u8981\u5ea6\u304c\u9ad8\u304f\u3001\u6b8b\u308a\u306e\uff12\u3064\u306e\u5909\u6570\u306f\u3042\u307e\u308a\u91cd\u8981\u3067\u306f\u306a\u3044\u3053\u3068\u304c\u89e3\u308a\u307e\u3059\u3002"
     ]
    },
    {
     "cell_type": "code",
     "collapsed": false,
     "input": [],
     "language": "python",
     "metadata": {},
     "outputs": []
    }
   ],
   "metadata": {}
  }
 ]
}