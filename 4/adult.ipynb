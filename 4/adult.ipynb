{
 "metadata": {
  "name": "",
  "signature": "sha256:af673ad7c9aa95d40647cc0249421186c9e70d354a0543b5724b1127fef62fdd"
 },
 "nbformat": 3,
 "nbformat_minor": 0,
 "worksheets": [
  {
   "cells": [
    {
     "cell_type": "markdown",
     "metadata": {},
     "source": [
      "# adult\n",
      "\n",
      "\u5148\u306b\u5b66\u3093\u3060\u8b58\u5225\u554f\u984c\u306e\u5404\u7a2e\u30c6\u30af\u30cb\u30c3\u30af\u3092\u7528\u3044\u3066\u3001UCI Datasets\u306e adult \u30c7\u30fc\u30bf\u3092\u8b58\u5225\u3057\u3066\u307f\u307e\u3057\u3087\u3046\u3002\u5408\u308f\u305b\u3066\u3001CSV\u30d5\u30a1\u30a4\u30eb\u3068\u3057\u3066\u8868\u73fe\u3055\u308c\u305f\u30c7\u30fc\u30bf\u3092 python \u3067\u51e6\u7406\u3059\u308b\u305f\u3081\u306e\u30c7\u30fc\u30bf\u524d\u51e6\u7406\u306b\u3064\u3044\u3066\u3082\u5b66\u3073\u307e\u3059\u3002\n",
      "\n",
      "\u7c73\u56fd\u306e\u56fd\u52e2\u8abf\u67fb\u306e\u30c7\u30fc\u30bf\u3067\u3001\u69d8\u3005\u306a\u30e6\u30fc\u30b6\u5c5e\u6027\u304b\u3089\u3001\u30e6\u30fc\u30b6\u306e\u53ce\u5165\u304c5\u4e07\u30c9\u30eb\u4ee5\u4e0a\u304b\u4ee5\u4e0b\u306a\u306e\u304b\u3092\u63a8\u5b9a\u3059\u308b\u3001\u3068\u3044\u3046\u30bf\u30b9\u30af\u3067\u3059\u3002\n",
      "\n",
      "\u30c7\u30fc\u30bf\u9805\u76ee\u306f\n",
      "\n",
      "* age: continuous.\n",
      "* workclass: Private, Self-emp-not-inc, Self-emp-inc, Federal-gov, Local-gov, State-gov, Without-pay, Never-worked.\n",
      "* fnlwgt: continuous.\n",
      "* education: Bachelors, Some-college, 11th, HS-grad, Prof-school, Assoc-acdm, Assoc-voc, 9th, 7th-8th, 12th, Masters, 1st-4th, 10th, Doctorate, 5th-6th, Preschool.\n",
      "* education-num: continuous.\n",
      "* marital-status: Married-civ-spouse, Divorced, Never-married, Separated, Widowed, Married-spouse-absent, Married-AF-spouse.\n",
      "* occupation: Tech-support, Craft-repair, Other-service, Sales, Exec-managerial, Prof-specialty, Handlers-cleaners, Machine-op-inspct, Adm-clerical, Farming-fishing, Transport-moving, Priv-house-serv, Protective-serv, Armed-Forces.\n",
      "* relationship: Wife, Own-child, Husband, Not-in-family, Other-relative, Unmarried.\n",
      "* race: White, Asian-Pac-Islander, Amer-Indian-Eskimo, Other, Black.\n",
      "* sex: Female, Male.\n",
      "* capital-gain: continuous.\n",
      "* capital-loss: continuous.\n",
      "* hours-per-week: continuous.\n",
      "* native-country: United-States, Cambodia, England, Puerto-Rico, Canada, Germany, Outlying-US(Guam-USVI-etc), India, Japan, Greece, South, China, Cuba, Iran, Honduras, Philippines, Italy, Poland, Jamaica, Vietnam, Mexico, Portugal, Ireland, France, Dominican-Republic, Laos, Ecuador, Taiwan, Haiti, Columbia, Hungary, Guatemala, Nicaragua, Scotland, Thailand, Yugoslavia, El-Salvador, Trinadad&Tobago, Peru, Hong, Holand-Netherlands.\n",
      "\n",
      "\u3067\u3059\u3002\u8a73\u3057\u3044\u89e3\u8aac\u306f adult.names \u30d5\u30a1\u30a4\u30eb\u3092\u5404\u81ea\u8aad\u3093\u3067\u304f\u3060\u3055\u3044\u3002"
     ]
    },
    {
     "cell_type": "markdown",
     "metadata": {},
     "source": [
      "## \u30c7\u30fc\u30bf\u306e\u53d6\u5f97\u3068\u524d\u51e6\u7406"
     ]
    },
    {
     "cell_type": "code",
     "collapsed": false,
     "input": [
      "%matplotlib inline\n",
      "import numpy as np\n",
      "import matplotlib.pyplot as plt\n",
      "import pandas as pd"
     ],
     "language": "python",
     "metadata": {},
     "outputs": []
    },
    {
     "cell_type": "markdown",
     "metadata": {},
     "source": [
      "\u672c\u5f53\u306f sklearn.datasets.mldata \u3092\u4f7f\u3048\u3070\u30c7\u30fc\u30bf\u3092\u8aad\u307f\u8fbc\u3081\u308b\u306f\u305a\u3060\u3068\u601d\u3046\u306e\u3067\u3059\u304c\u3001\u5931\u6557\u3057\u307e\u3057\u305f\u3002\n",
      "\n",
      "\u4ed5\u65b9\u304c\u306a\u3044\u306e\u3067 adlut \u30c7\u30fc\u30bf\u30bb\u30c3\u30c8\u3067\u3042\u308b [adult.data](http://archive.ics.uci.edu/ml/machine-learning-databases/adult/adult.data) \u3092 [archive.ics.uci.edu/ml/machine-learning-databases/adult/](http://archive.ics.uci.edu/ml/machine-learning-databases/adult/) \u304b\u3089\u30c0\u30a6\u30f3\u30ed\u30fc\u30c9\u3057\u3066\u53d6\u5f97\u3057\u3066\u304f\u3060\u3055\u3044\u3002\n",
      "\n",
      "\u3046\u307e\u304f\u30c0\u30a6\u30f3\u30ed\u30fc\u30c9\u3067\u304d\u306a\u3044\u4eba\u306f\u3001\u76f8\u8ac7\u3057\u3066\u304f\u3060\u3055\u3044\u3002\u4ee5\u4e0b\u306f\u3053\u306e ipython notebook \u3068\u540c\u3058\u30c7\u30a3\u30ec\u30af\u30c8\u30ea\u306b adult.data \u304c\u5b58\u5728\u3059\u308b\u3068\u3057\u3066\u9032\u3081\u307e\u3059\u3002\u5404\u81ea\u306e\u30c0\u30a6\u30f3\u30ed\u30fc\u30c9\u30d5\u30a1\u30a4\u30eb\u306b\u5408\u308f\u305b\u3066\u9069\u5b9c\u4fee\u6b63\u3057\u3066\u304f\u3060\u3055\u3044\u3002\n",
      "\n",
      "\u30c7\u30fc\u30bf\u306e\u8aad\u307f\u8fbc\u307f\u306f\u4e0b\u8a18\u306e\u3088\u3046\u306b\u3067\u304d\u307e\u3059\u3002"
     ]
    },
    {
     "cell_type": "code",
     "collapsed": false,
     "input": [
      "# \u30ab\u30e9\u30e0\u540d\n",
      "names = ['age', 'workclass', 'fnlwgt', 'education', 'education-num', 'marital-status', \\\n",
      "          'occupation', 'relationship', 'race', 'sex', 'capital-gain', 'capital-loss', \\\n",
      "          'hours-per-week', 'native-country', 'target']\n",
      "# CSV\u30d5\u30a1\u30a4\u30eb\u306e\u8aad\u307f\u8fbc\u307f, NaN \u3092\u542b\u3080\u30c7\u30fc\u30bf\u306f\u7121\u8996\n",
      "df = pd.read_csv('adult.data', names=names).dropna()\n",
      "# NaN \u3068\u304b\u3092\u542b\u3080\u30c7\u30fc\u30bf\u3092\u6368\u3066\u3066\u3001\u6700\u521d\u306e\u6570\u884c\u3060\u3051\u8868\u793a\n",
      "df_data = df.ix[:,0:14] # target \u4ee5\u5916\u306e data\n",
      "df_target = df['target'] # target \u306e\u307f\n",
      "# \u8868\u793a\n",
      "df_data.head()"
     ],
     "language": "python",
     "metadata": {},
     "outputs": []
    },
    {
     "cell_type": "code",
     "collapsed": false,
     "input": [
      "df_target.head()"
     ],
     "language": "python",
     "metadata": {},
     "outputs": []
    },
    {
     "cell_type": "markdown",
     "metadata": {},
     "source": [
      "\u307e\u305a\u3001DataFrame \u306e\u30c7\u30fc\u30bf\u3092\u3001\u300c\uff11\u3064\u306e\u30c7\u30fc\u30bf\u304c\uff11\u3064\u306edictonary\u300d\u3068\u5909\u63db\u3057\u3001\u305d\u306e\u3088\u3046\u306adictionary\u306e\u30d9\u30af\u30c8\u30eb\u3068\u3057\u3066\u8868\u73fe\u3057\u307e\u3059\u3002\n",
      "\n",
      "\u3053\u308c\u306f pandas \u306e\u6a5f\u80fd\u3067\u6b21\u306e\u3088\u3046\u306b\u51fa\u6765\u308b\u306e\u3067\u3001\u6c7a\u307e\u308a\u6587\u53e5\u3068\u3057\u3066\u899a\u3048\u3066\u304a\u304f\u3068\u826f\u3044\u3068\u601d\u3044\u307e\u3059\u3002"
     ]
    },
    {
     "cell_type": "code",
     "collapsed": false,
     "input": [
      "values = df_data.T.to_dict().values()\n",
      "values"
     ],
     "language": "python",
     "metadata": {},
     "outputs": []
    },
    {
     "cell_type": "code",
     "collapsed": false,
     "input": [
      "from sklearn.feature_extraction import DictVectorizer\n",
      "vec = DictVectorizer()\n",
      "data = vec.fit_transform(values).toarray()\n",
      "data"
     ],
     "language": "python",
     "metadata": {},
     "outputs": []
    },
    {
     "cell_type": "markdown",
     "metadata": {},
     "source": [
      "\u30d9\u30af\u30c8\u30eb\u306e\u3069\u306e\u8981\u7d20\u304c\u3069\u306e\u5024\u306a\u306e\u304b\u306f\u3001zip \u3059\u308c\u3070\u78ba\u8a8d\u3067\u304d\u307e\u3059"
     ]
    },
    {
     "cell_type": "code",
     "collapsed": false,
     "input": [
      "print zip(vec.get_feature_names(), data[0])"
     ],
     "language": "python",
     "metadata": {},
     "outputs": []
    },
    {
     "cell_type": "markdown",
     "metadata": {},
     "source": [
      "target \u5074\u3082\u30d9\u30af\u30c8\u30eb\u5316\u3057\u307e\u3059\u3002"
     ]
    },
    {
     "cell_type": "code",
     "collapsed": false,
     "input": [
      "def target_to_vec(s):\n",
      "    if (s ==' >50K'):\n",
      "        return 1\n",
      "    else:\n",
      "        return 0\n",
      "target = np.vectorize(target_to_vec)(df_target)\n",
      "print target"
     ],
     "language": "python",
     "metadata": {},
     "outputs": []
    },
    {
     "cell_type": "markdown",
     "metadata": {},
     "source": [
      "## \u4e88\u6e2c\n",
      "\n",
      "\u4e00\u756a\u7c21\u5358\u306b\u3001LinearSVC \u306b\u7a81\u3063\u8fbc\u3093\u3067\u307f\u308b\u3068\u3053\u3046\u306a\u308a\u307e\u3059\u3002"
     ]
    },
    {
     "cell_type": "code",
     "collapsed": false,
     "input": [
      "from sklearn import cross_validation\n",
      "from sklearn.svm import LinearSVC\n",
      "print len(data), len(target)\n",
      "train_data, test_data, train_target, test_target = \\\n",
      "   cross_validation.train_test_split(data, target, test_size=0.2)\n",
      "clf = LinearSVC(dual=False, penalty='l1')\n",
      "clf.fit(train_data, train_target)\n",
      "pred = clf.predict(test_data)\n",
      "print \"Ratio=\",list(pred == test_target).count(True) / float(len(test_target))\n",
      "print clf.coef_\n",
      "print clf.intercept_"
     ],
     "language": "python",
     "metadata": {},
     "outputs": []
    },
    {
     "cell_type": "markdown",
     "metadata": {},
     "source": [
      "## \u8ab2\u984c\n",
      "\n",
      "\u3082\u3063\u3068\u826f\u3044\u4e88\u6e2c\u3092\u5f97\u308b\u306b\u306f\u3069\u3046\u3059\u308c\u3070\u826f\u3044\u304b\u8003\u3048\u3066\u307f\u3066\u304f\u3060\u3055\u3044\u3002\n",
      "\n",
      "* \u8b58\u5225\u6a5f\u3092\u7dda\u5f62\u8b58\u5225\u5668\u304b\u3089\u5909\u3048\u3066\u307f\u308b\uff08\u3053\u306e\u7a0b\u5ea6\u306e\u30c7\u30fc\u30bf\u6570\u3067\u3042\u308c\u3070\u3001gamma \u3092\u30c1\u30e5\u30fc\u30cb\u30f3\u30b0\u3057\u3066\u306e\u3001RBF \u306e SVC \u304c\u826f\u3044\u304b\u3082\u3057\u308c\u307e\u305b\u3093\u3002\uff09\n",
      "* \u30ab\u30c6\u30b4\u30ea\u5909\u6570\u3092\u305d\u306e\u307e\u307e\u6b8b\u3057\u3066\u3001\u6c7a\u5b9a\u6728\u3092\u4f5c\u3063\u3066\u307f\u308b\u3002\n",
      "\n",
      "\u306a\u3069\u304c\u8003\u3048\u3089\u308c\u307e\u3059\u3002\u3042\u308b\u3044\u306f\u9006\u306b\u3001\u3082\u3063\u3068L1\u6b63\u898f\u5316\u3092\u5f37\u3081\u308b\u306a\u3069\u3057\u3066\u3001\u30e2\u30c7\u30eb\u306b\u4e3b\u8981\u306a\u5909\u6570\uff08\u7dda\u5f62\u8b58\u5225\u5668\u306e\u5834\u5408\u306f\u91cd\u307f\u3067\u5224\u65ad\uff09\u3092\u5224\u5b9a\u3057\u3066\u307f\u308b\u3001\u306a\u3069\u3092\u3084\u3063\u3066\u307f\u308b\u306e\u3082\u826f\u3044\u304b\u3068\u601d\u3044\u307e\u3059\u3002\u305d\u3046\u3059\u308b\u3068\u3001\u5e74\u53ce\u3092\u3082\u3063\u3068\u3082\u826f\u304f\u4e88\u60f3\u3067\u304d\u308b\u30e6\u30fc\u30b6\u5c5e\u6027\u306f\u4f55\u306a\u306e\u304b\u8003\u5bdf\u3067\u304d\u307e\u3059\u3002\n",
      "\n",
      "UCI\u306e[Adult Data Set\u306e\u30da\u30fc\u30b8](https://archive.ics.uci.edu/ml/datasets/Adult)\u306b\u306f\u3001\u3053\u306e\u30c7\u30fc\u30bf\u3092\u7528\u3044\u3066\u89e3\u6790\u624b\u6cd5\u306b\u3064\u3044\u3066\u691c\u8a0e\u3057\u305f\u8ad6\u6587\u306e\u30ea\u30b9\u30c8\u304c\u3042\u308a\u307e\u3059\u3002\u5e7e\u3064\u304b\u8aad\u3093\u3067\u307f\u308b\u306e\u3082\u304a\u52e7\u3081\u3067\u3059\u3002\n"
     ]
    },
    {
     "cell_type": "code",
     "collapsed": false,
     "input": [],
     "language": "python",
     "metadata": {},
     "outputs": []
    }
   ],
   "metadata": {}
  }
 ]
}